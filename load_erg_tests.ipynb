{
  "nbformat": 4,
  "nbformat_minor": 0,
  "metadata": {
    "colab": {
      "name": "load-erg-tests.ipynb",
      "provenance": [],
      "collapsed_sections": [],
      "include_colab_link": true
    },
    "kernelspec": {
      "name": "python3",
      "display_name": "Python 3"
    },
    "language_info": {
      "name": "python"
    }
  },
  "cells": [
    {
      "cell_type": "markdown",
      "metadata": {
        "id": "view-in-github",
        "colab_type": "text"
      },
      "source": [
        "<a href=\"https://colab.research.google.com/github/emmanuelvaie/google_colab/blob/main/load_erg_tests.ipynb\" target=\"_parent\"><img src=\"https://colab.research.google.com/assets/colab-badge.svg\" alt=\"Open In Colab\"/></a>"
      ]
    },
    {
      "cell_type": "code",
      "metadata": {
        "id": "ZUmIBEQTx2E2"
      },
      "source": [
        "# piece of code that gets a token\n",
        "from pydrive.auth import GoogleAuth\n",
        "from pydrive.drive import GoogleDrive\n",
        "from google.colab import auth\n",
        "from oauth2client.client import GoogleCredentials\n",
        "\n",
        "# authenticate the user\n",
        "auth.authenticate_user()\n",
        "gauth = GoogleAuth()\n",
        "gauth.credentials = GoogleCredentials.get_application_default()\n",
        "drive = GoogleDrive(gauth)"
      ],
      "execution_count": null,
      "outputs": []
    },
    {
      "cell_type": "code",
      "metadata": {
        "id": "7s1ipIA_Ki7t"
      },
      "source": [
        "# routine that gets a dataframe from the json file\n",
        "import pandas as pd\n",
        "def get_dataframe(id, file_name) :\n",
        "  f_downloaded = drive.CreateFile({'id':id})\n",
        "  f_downloaded.GetContentFile(file_name)\n",
        "  with open(file_name, \"r\") as fid: \n",
        "     z = json.load(fid)\n",
        "  # get results.participants\n",
        "  df = pd.read_json(json.dumps(z['results']['participants']))\n",
        "  return df\n"
      ],
      "execution_count": null,
      "outputs": []
    },
    {
      "cell_type": "code",
      "metadata": {
        "colab": {
          "base_uri": "https://localhost:8080/"
        },
        "id": "Rm0vLM1bzIyO",
        "outputId": "ac487051-babf-4dc0-8016-da874ed7bcee"
      },
      "source": [
        "import json\n",
        "# get all the dataframes and concatenate the dataframes\n",
        "file_list = drive.ListFile({'q': \"trashed=false and title contains 'Test' and title contains '.json' and starred = true\"}).GetList()\n",
        "d_files = {}\n",
        "i = 0\n",
        "for file1 in file_list:\n",
        "  d_files[file1['title']] = file1['id']\n",
        "  print('Get file title: %s, id: %s' % (file1['title'], file1['id']))\n",
        "  \n",
        "  if i==0:\n",
        "    df = get_dataframe(id= file1['id'], file_name= file1['title'])\n",
        "  else:\n",
        "    df_p = df\n",
        "    df = get_dataframe(id= file1['id'], file_name= file1['title'])\n",
        "    df = df_p.append(df,ignore_index=True)\n",
        "\n",
        "  i = i+1\n",
        "  "
      ],
      "execution_count": null,
      "outputs": [
        {
          "output_type": "stream",
          "name": "stdout",
          "text": [
            "Get file title: Test ergo 28 Nov 10h30.json, id: 1J1Nnm-ocAysSZkY2n3HWwTvE1qk4CvAK\n",
            "Get file title: Test ergo 28 Nov 10h15.json, id: 1sfCDupg1-Z5JbVNCZB0TRclyadJAqIR2\n",
            "Get file title: Test ergo 28 Nov 10h.json, id: 1ijCEWswu-SW6ctXPJlQuebbZ2hdQfZ4n\n",
            "Get file title: Test ergo 10h45.json, id: 1-STE_hriGgMqHFM0_h7dnxvM37Lvipr9\n",
            "Get file title: Test ergo 10h30.json, id: 1U4-nTPoZ5gI9j4M1yFyiwrqT6gtVR4mE\n",
            "Get file title: Test ergo 10h15.json, id: 13h_O8ocZCoWtt7lQuZnepXqVCmLu0rWd\n",
            "Get file title: Test ergo 10h(0001).json, id: 1tBFZqQbVwCAhuek50KSm7d1E8d6G8Z-O\n"
          ]
        }
      ]
    },
    {
      "cell_type": "code",
      "metadata": {
        "id": "hHiBFlgkS4Z4"
      },
      "source": [
        "df = df.drop(columns=['affiliation','splits','class','id','machine_type','serial_number'])"
      ],
      "execution_count": null,
      "outputs": []
    },
    {
      "cell_type": "code",
      "metadata": {
        "id": "udSUQR7wh4tp"
      },
      "source": [
        "# keep only rowers present during the race\n",
        "df = df[df['score']!=0]"
      ],
      "execution_count": null,
      "outputs": []
    },
    {
      "cell_type": "code",
      "metadata": {
        "id": "ToC2nxueSapd"
      },
      "source": [
        "df."
      ],
      "execution_count": null,
      "outputs": []
    },
    {
      "cell_type": "code",
      "metadata": {
        "id": "A9KKH9eZXILt"
      },
      "source": [
        "# parse the time string\n",
        "from datetime import datetime\n",
        "df['duration'] = df['time'].apply(lambda x : datetime.strptime(x, \"%M:%S.%f\") )\n",
        "df['formated-time'] = df['time'].apply(lambda x : datetime.strptime(x, \"%M:%S.%f\").strftime('%H:%M:%S.%f') )\n",
        "df['formated-avg_pace'] = df['avg_pace'].apply(lambda x : datetime.strptime(x, \"%M:%S.%f\").strftime('%H:%M:%S.%f') )\n",
        "\n",
        "# replace . by ,\n",
        "df['formated-time'] = df['formated-time'].apply(lambda x : x.replace('.',','))\n",
        "df['formated-avg_pace'] = df['formated-avg_pace'].apply(lambda x : x.replace('.',','))"
      ],
      "execution_count": null,
      "outputs": []
    },
    {
      "cell_type": "code",
      "metadata": {
        "id": "qJBjsx6dsW7v"
      },
      "source": [
        "# sort the race\n",
        "df.sort_values(by=['duration'], inplace=True)"
      ],
      "execution_count": null,
      "outputs": []
    },
    {
      "cell_type": "code",
      "metadata": {
        "colab": {
          "base_uri": "https://localhost:8080/",
          "height": 206
        },
        "id": "U7oiEn7Wr09S",
        "outputId": "c2e0237f-2e60-4c7a-dbcc-6b37b17a6676"
      },
      "source": [
        "df.head()"
      ],
      "execution_count": null,
      "outputs": [
        {
          "output_type": "execute_result",
          "data": {
            "text/html": [
              "<div>\n",
              "<style scoped>\n",
              "    .dataframe tbody tr th:only-of-type {\n",
              "        vertical-align: middle;\n",
              "    }\n",
              "\n",
              "    .dataframe tbody tr th {\n",
              "        vertical-align: top;\n",
              "    }\n",
              "\n",
              "    .dataframe thead th {\n",
              "        text-align: right;\n",
              "    }\n",
              "</style>\n",
              "<table border=\"1\" class=\"dataframe\">\n",
              "  <thead>\n",
              "    <tr style=\"text-align: right;\">\n",
              "      <th></th>\n",
              "      <th>avg_pace</th>\n",
              "      <th>lane</th>\n",
              "      <th>logged_time</th>\n",
              "      <th>participant</th>\n",
              "      <th>place</th>\n",
              "      <th>score</th>\n",
              "      <th>spm</th>\n",
              "      <th>time</th>\n",
              "      <th>calories</th>\n",
              "      <th>duration</th>\n",
              "      <th>formated-time</th>\n",
              "      <th>formated-avg_pace</th>\n",
              "    </tr>\n",
              "  </thead>\n",
              "  <tbody>\n",
              "    <tr>\n",
              "      <th>25</th>\n",
              "      <td>1:34.9</td>\n",
              "      <td>1</td>\n",
              "      <td>2021-11-21 10:34:00</td>\n",
              "      <td>CADDET</td>\n",
              "      <td>1</td>\n",
              "      <td>1000</td>\n",
              "      <td>36</td>\n",
              "      <td>3:09.8</td>\n",
              "      <td>89.0</td>\n",
              "      <td>1900-01-01 00:03:09.800</td>\n",
              "      <td>00:03:09,800000</td>\n",
              "      <td>00:01:34,900000</td>\n",
              "    </tr>\n",
              "    <tr>\n",
              "      <th>26</th>\n",
              "      <td>1:40.1</td>\n",
              "      <td>3</td>\n",
              "      <td>2021-11-21 10:34:00</td>\n",
              "      <td>VAIE</td>\n",
              "      <td>2</td>\n",
              "      <td>1000</td>\n",
              "      <td>35</td>\n",
              "      <td>3:20.3</td>\n",
              "      <td>NaN</td>\n",
              "      <td>1900-01-01 00:03:20.300</td>\n",
              "      <td>00:03:20,300000</td>\n",
              "      <td>00:01:40,100000</td>\n",
              "    </tr>\n",
              "    <tr>\n",
              "      <th>27</th>\n",
              "      <td>1:40.5</td>\n",
              "      <td>2</td>\n",
              "      <td>2021-11-21 10:34:00</td>\n",
              "      <td>VALLOIS</td>\n",
              "      <td>3</td>\n",
              "      <td>1000</td>\n",
              "      <td>32</td>\n",
              "      <td>3:21.1</td>\n",
              "      <td>82.0</td>\n",
              "      <td>1900-01-01 00:03:21.100</td>\n",
              "      <td>00:03:21,100000</td>\n",
              "      <td>00:01:40,500000</td>\n",
              "    </tr>\n",
              "    <tr>\n",
              "      <th>28</th>\n",
              "      <td>1:41.8</td>\n",
              "      <td>5</td>\n",
              "      <td>2021-11-21 10:34:00</td>\n",
              "      <td>LAWS</td>\n",
              "      <td>4</td>\n",
              "      <td>1000</td>\n",
              "      <td>33</td>\n",
              "      <td>3:23.8</td>\n",
              "      <td>80.0</td>\n",
              "      <td>1900-01-01 00:03:23.800</td>\n",
              "      <td>00:03:23,800000</td>\n",
              "      <td>00:01:41,800000</td>\n",
              "    </tr>\n",
              "    <tr>\n",
              "      <th>0</th>\n",
              "      <td>1:43.4</td>\n",
              "      <td>1</td>\n",
              "      <td>2021-11-28 10:52:00</td>\n",
              "      <td>CHARRIOU</td>\n",
              "      <td>1</td>\n",
              "      <td>1000</td>\n",
              "      <td>36</td>\n",
              "      <td>3:26.9</td>\n",
              "      <td>NaN</td>\n",
              "      <td>1900-01-01 00:03:26.900</td>\n",
              "      <td>00:03:26,900000</td>\n",
              "      <td>00:01:43,400000</td>\n",
              "    </tr>\n",
              "  </tbody>\n",
              "</table>\n",
              "</div>"
            ],
            "text/plain": [
              "   avg_pace  lane  ...    formated-time formated-avg_pace\n",
              "25   1:34.9     1  ...  00:03:09,800000   00:01:34,900000\n",
              "26   1:40.1     3  ...  00:03:20,300000   00:01:40,100000\n",
              "27   1:40.5     2  ...  00:03:21,100000   00:01:40,500000\n",
              "28   1:41.8     5  ...  00:03:23,800000   00:01:41,800000\n",
              "0    1:43.4     1  ...  00:03:26,900000   00:01:43,400000\n",
              "\n",
              "[5 rows x 12 columns]"
            ]
          },
          "metadata": {},
          "execution_count": 236
        }
      ]
    },
    {
      "cell_type": "code",
      "metadata": {
        "id": "QP0IDMflLe0V"
      },
      "source": [
        "df = df[['avg_pace','calories', 'logged_time','participant','spm','time','formated-time','formated-avg_pace']]"
      ],
      "execution_count": null,
      "outputs": []
    },
    {
      "cell_type": "code",
      "metadata": {
        "id": "pjZQAjF0iR3A"
      },
      "source": [
        "# Get the Google sheet\n",
        "import gspread\n",
        "from oauth2client.client import GoogleCredentials\n",
        "\n",
        "import pandas as pd\n",
        "worksheet_name ='https://docs.google.com/spreadsheets/d/1mseQhO9Bj0YeUqsjODj8Bu9BpF_E_bJAgYMB6jv0W4Q/edit#gid=2087892467'\n",
        "\n",
        "gc = gspread.authorize(GoogleCredentials.get_application_default())\n",
        "worksheet = gc.open_by_url(worksheet_name).worksheet('Data')\n",
        "# get_all_values gives a list of rows.\n",
        "rows = worksheet.get_all_values()\n",
        "df_info = pd.DataFrame.from_records(rows,columns=rows[0])\n",
        "df_info = df_info.drop(0).reindex()\n",
        "df_info['NOM'] = df_info['NOM'].apply(lambda x : x.strip())"
      ],
      "execution_count": null,
      "outputs": []
    },
    {
      "cell_type": "code",
      "metadata": {
        "id": "HZ5CvMwgmPyw"
      },
      "source": [
        "df = df.rename(columns={'participant':'NOM'})\n",
        "df['NOM'] = df['NOM'].apply(lambda x : x.strip())"
      ],
      "execution_count": null,
      "outputs": []
    },
    {
      "cell_type": "code",
      "metadata": {
        "id": "ISTu9VGhwYWd"
      },
      "source": [
        "# attention a la jointure, c'est une jointure sur la colonne NOM de df versus l'index de df_info\n",
        "df_info_indexed = df_info.set_index('NOM')\n",
        "df_joined = df.join(df_info_indexed,on='NOM',how='inner')"
      ],
      "execution_count": null,
      "outputs": []
    },
    {
      "cell_type": "code",
      "metadata": {
        "id": "m7ctk8fZ9N8A"
      },
      "source": [
        "df_joined['Type_test'] = 'ERGO 1000m'"
      ],
      "execution_count": null,
      "outputs": []
    },
    {
      "cell_type": "code",
      "metadata": {
        "id": "2mFD6aC392a7"
      },
      "source": [
        "df_joined['Date test'] = df_joined['logged_time'].apply(lambda x : x.strftime('%d/%m/%Y'))"
      ],
      "execution_count": null,
      "outputs": []
    },
    {
      "cell_type": "code",
      "metadata": {
        "id": "_jZe84sqAF7k"
      },
      "source": [
        "df_joined = df_joined[['ID','Type_test','Date test','formated-time','AGE','SEXE', 'NOM','CAT']]\n",
        "df_joined = df_joined.rename(columns={'Type_test':'TYPE_TEST','Date test':'DATE','formated-time':'TEMPS'})"
      ],
      "execution_count": null,
      "outputs": []
    },
    {
      "cell_type": "code",
      "metadata": {
        "colab": {
          "base_uri": "https://localhost:8080/",
          "height": 206
        },
        "id": "yWDrO0iDB_sj",
        "outputId": "2ecab3cd-1334-438e-e20f-b32f4f859ad7"
      },
      "source": [
        "df_joined.head()"
      ],
      "execution_count": null,
      "outputs": [
        {
          "output_type": "execute_result",
          "data": {
            "text/html": [
              "<div>\n",
              "<style scoped>\n",
              "    .dataframe tbody tr th:only-of-type {\n",
              "        vertical-align: middle;\n",
              "    }\n",
              "\n",
              "    .dataframe tbody tr th {\n",
              "        vertical-align: top;\n",
              "    }\n",
              "\n",
              "    .dataframe thead th {\n",
              "        text-align: right;\n",
              "    }\n",
              "</style>\n",
              "<table border=\"1\" class=\"dataframe\">\n",
              "  <thead>\n",
              "    <tr style=\"text-align: right;\">\n",
              "      <th></th>\n",
              "      <th>ID</th>\n",
              "      <th>TYPE_TEST</th>\n",
              "      <th>DATE</th>\n",
              "      <th>TEMPS</th>\n",
              "      <th>AGE</th>\n",
              "      <th>SEXE</th>\n",
              "      <th>NOM</th>\n",
              "      <th>CAT</th>\n",
              "    </tr>\n",
              "  </thead>\n",
              "  <tbody>\n",
              "    <tr>\n",
              "      <th>25</th>\n",
              "      <td>557989</td>\n",
              "      <td>ERGO 1000m</td>\n",
              "      <td>21/11/2021</td>\n",
              "      <td>00:03:09,800000</td>\n",
              "      <td>24</td>\n",
              "      <td>H</td>\n",
              "      <td>CADDET</td>\n",
              "      <td>S</td>\n",
              "    </tr>\n",
              "    <tr>\n",
              "      <th>26</th>\n",
              "      <td>348574</td>\n",
              "      <td>ERGO 1000m</td>\n",
              "      <td>21/11/2021</td>\n",
              "      <td>00:03:20,300000</td>\n",
              "      <td>50</td>\n",
              "      <td>H</td>\n",
              "      <td>VAIE</td>\n",
              "      <td>D</td>\n",
              "    </tr>\n",
              "    <tr>\n",
              "      <th>27</th>\n",
              "      <td>282175</td>\n",
              "      <td>ERGO 1000m</td>\n",
              "      <td>21/11/2021</td>\n",
              "      <td>00:03:21,100000</td>\n",
              "      <td>32</td>\n",
              "      <td>H</td>\n",
              "      <td>VALLOIS</td>\n",
              "      <td>A</td>\n",
              "    </tr>\n",
              "    <tr>\n",
              "      <th>28</th>\n",
              "      <td>295016</td>\n",
              "      <td>ERGO 1000m</td>\n",
              "      <td>21/11/2021</td>\n",
              "      <td>00:03:23,800000</td>\n",
              "      <td>46</td>\n",
              "      <td>H</td>\n",
              "      <td>LAWS</td>\n",
              "      <td>C</td>\n",
              "    </tr>\n",
              "    <tr>\n",
              "      <th>0</th>\n",
              "      <td>397922</td>\n",
              "      <td>ERGO 1000m</td>\n",
              "      <td>28/11/2021</td>\n",
              "      <td>00:03:26,900000</td>\n",
              "      <td>26</td>\n",
              "      <td>H</td>\n",
              "      <td>CHARRIOU</td>\n",
              "      <td>S</td>\n",
              "    </tr>\n",
              "  </tbody>\n",
              "</table>\n",
              "</div>"
            ],
            "text/plain": [
              "        ID   TYPE_TEST        DATE            TEMPS AGE SEXE       NOM CAT\n",
              "25  557989  ERGO 1000m  21/11/2021  00:03:09,800000  24    H    CADDET   S\n",
              "26  348574  ERGO 1000m  21/11/2021  00:03:20,300000  50    H      VAIE   D\n",
              "27  282175  ERGO 1000m  21/11/2021  00:03:21,100000  32    H   VALLOIS   A\n",
              "28  295016  ERGO 1000m  21/11/2021  00:03:23,800000  46    H      LAWS   C\n",
              "0   397922  ERGO 1000m  28/11/2021  00:03:26,900000  26    H  CHARRIOU   S"
            ]
          },
          "metadata": {},
          "execution_count": 244
        }
      ]
    },
    {
      "cell_type": "code",
      "metadata": {
        "colab": {
          "base_uri": "https://localhost:8080/",
          "height": 206
        },
        "id": "UGvXiQe2CfUx",
        "outputId": "5d9bb95f-a49f-4c60-aeda-bd8bbd283152"
      },
      "source": [
        "# get former results\n",
        "worksheet = gc.open_by_url(worksheet_name).worksheet('Tests')\n",
        "# get_all_values gives a list of rows.\n",
        "rows = worksheet.get_all_values()\n",
        "df_old = pd.DataFrame.from_records(rows,columns=rows[0])\n",
        "df_old = df_old.drop(0).reindex()\n",
        "df_old.head()"
      ],
      "execution_count": null,
      "outputs": [
        {
          "output_type": "execute_result",
          "data": {
            "text/html": [
              "<div>\n",
              "<style scoped>\n",
              "    .dataframe tbody tr th:only-of-type {\n",
              "        vertical-align: middle;\n",
              "    }\n",
              "\n",
              "    .dataframe tbody tr th {\n",
              "        vertical-align: top;\n",
              "    }\n",
              "\n",
              "    .dataframe thead th {\n",
              "        text-align: right;\n",
              "    }\n",
              "</style>\n",
              "<table border=\"1\" class=\"dataframe\">\n",
              "  <thead>\n",
              "    <tr style=\"text-align: right;\">\n",
              "      <th></th>\n",
              "      <th>ID</th>\n",
              "      <th>TYPE_TEST</th>\n",
              "      <th>DATE</th>\n",
              "      <th>TEMPS</th>\n",
              "      <th>AGE</th>\n",
              "      <th>SEXE</th>\n",
              "      <th>NOM</th>\n",
              "      <th>CAT</th>\n",
              "    </tr>\n",
              "  </thead>\n",
              "  <tbody>\n",
              "    <tr>\n",
              "      <th>1</th>\n",
              "      <td>7313</td>\n",
              "      <td>ERGO 1000m</td>\n",
              "      <td>07/12/2019</td>\n",
              "      <td>00:03:19</td>\n",
              "      <td>46</td>\n",
              "      <td>H</td>\n",
              "      <td>RAIN</td>\n",
              "      <td>C</td>\n",
              "    </tr>\n",
              "    <tr>\n",
              "      <th>2</th>\n",
              "      <td>38647</td>\n",
              "      <td>ERGO 500m</td>\n",
              "      <td>24/03/2021</td>\n",
              "      <td>00:01:52</td>\n",
              "      <td>63</td>\n",
              "      <td>H</td>\n",
              "      <td>ACHACHE</td>\n",
              "      <td>F</td>\n",
              "    </tr>\n",
              "    <tr>\n",
              "      <th>3</th>\n",
              "      <td>370251</td>\n",
              "      <td>ERGO 1000m</td>\n",
              "      <td>07/12/2019</td>\n",
              "      <td>00:03:23</td>\n",
              "      <td>66</td>\n",
              "      <td>H</td>\n",
              "      <td>ALLOWAY</td>\n",
              "      <td>G</td>\n",
              "    </tr>\n",
              "    <tr>\n",
              "      <th>4</th>\n",
              "      <td>370251</td>\n",
              "      <td>ERGO 500m</td>\n",
              "      <td>24/03/2021</td>\n",
              "      <td>00:01:35</td>\n",
              "      <td>66</td>\n",
              "      <td>H</td>\n",
              "      <td>ALLOWAY</td>\n",
              "      <td>G</td>\n",
              "    </tr>\n",
              "    <tr>\n",
              "      <th>5</th>\n",
              "      <td>282175</td>\n",
              "      <td>ERGO 1000m</td>\n",
              "      <td>07/12/2019</td>\n",
              "      <td>00:03:19</td>\n",
              "      <td>32</td>\n",
              "      <td>H</td>\n",
              "      <td>VALLOIS</td>\n",
              "      <td>A</td>\n",
              "    </tr>\n",
              "  </tbody>\n",
              "</table>\n",
              "</div>"
            ],
            "text/plain": [
              "       ID   TYPE_TEST        DATE     TEMPS AGE SEXE      NOM CAT\n",
              "1    7313  ERGO 1000m  07/12/2019  00:03:19  46    H     RAIN   C\n",
              "2   38647   ERGO 500m  24/03/2021  00:01:52  63    H  ACHACHE   F\n",
              "3  370251  ERGO 1000m  07/12/2019  00:03:23  66    H  ALLOWAY   G\n",
              "4  370251   ERGO 500m  24/03/2021  00:01:35  66    H  ALLOWAY   G\n",
              "5  282175  ERGO 1000m  07/12/2019  00:03:19  32    H  VALLOIS   A"
            ]
          },
          "metadata": {},
          "execution_count": 245
        }
      ]
    },
    {
      "cell_type": "code",
      "metadata": {
        "colab": {
          "base_uri": "https://localhost:8080/",
          "height": 206
        },
        "id": "5rFrxWQcC9In",
        "outputId": "c5075a0b-c369-4d02-e8e3-514a25e0eed5"
      },
      "source": [
        "df_all = df_old.append(df_joined)\n",
        "df_all.head()"
      ],
      "execution_count": null,
      "outputs": [
        {
          "output_type": "execute_result",
          "data": {
            "text/html": [
              "<div>\n",
              "<style scoped>\n",
              "    .dataframe tbody tr th:only-of-type {\n",
              "        vertical-align: middle;\n",
              "    }\n",
              "\n",
              "    .dataframe tbody tr th {\n",
              "        vertical-align: top;\n",
              "    }\n",
              "\n",
              "    .dataframe thead th {\n",
              "        text-align: right;\n",
              "    }\n",
              "</style>\n",
              "<table border=\"1\" class=\"dataframe\">\n",
              "  <thead>\n",
              "    <tr style=\"text-align: right;\">\n",
              "      <th></th>\n",
              "      <th>ID</th>\n",
              "      <th>TYPE_TEST</th>\n",
              "      <th>DATE</th>\n",
              "      <th>TEMPS</th>\n",
              "      <th>AGE</th>\n",
              "      <th>SEXE</th>\n",
              "      <th>NOM</th>\n",
              "      <th>CAT</th>\n",
              "    </tr>\n",
              "  </thead>\n",
              "  <tbody>\n",
              "    <tr>\n",
              "      <th>1</th>\n",
              "      <td>7313</td>\n",
              "      <td>ERGO 1000m</td>\n",
              "      <td>07/12/2019</td>\n",
              "      <td>00:03:19</td>\n",
              "      <td>46</td>\n",
              "      <td>H</td>\n",
              "      <td>RAIN</td>\n",
              "      <td>C</td>\n",
              "    </tr>\n",
              "    <tr>\n",
              "      <th>2</th>\n",
              "      <td>38647</td>\n",
              "      <td>ERGO 500m</td>\n",
              "      <td>24/03/2021</td>\n",
              "      <td>00:01:52</td>\n",
              "      <td>63</td>\n",
              "      <td>H</td>\n",
              "      <td>ACHACHE</td>\n",
              "      <td>F</td>\n",
              "    </tr>\n",
              "    <tr>\n",
              "      <th>3</th>\n",
              "      <td>370251</td>\n",
              "      <td>ERGO 1000m</td>\n",
              "      <td>07/12/2019</td>\n",
              "      <td>00:03:23</td>\n",
              "      <td>66</td>\n",
              "      <td>H</td>\n",
              "      <td>ALLOWAY</td>\n",
              "      <td>G</td>\n",
              "    </tr>\n",
              "    <tr>\n",
              "      <th>4</th>\n",
              "      <td>370251</td>\n",
              "      <td>ERGO 500m</td>\n",
              "      <td>24/03/2021</td>\n",
              "      <td>00:01:35</td>\n",
              "      <td>66</td>\n",
              "      <td>H</td>\n",
              "      <td>ALLOWAY</td>\n",
              "      <td>G</td>\n",
              "    </tr>\n",
              "    <tr>\n",
              "      <th>5</th>\n",
              "      <td>282175</td>\n",
              "      <td>ERGO 1000m</td>\n",
              "      <td>07/12/2019</td>\n",
              "      <td>00:03:19</td>\n",
              "      <td>32</td>\n",
              "      <td>H</td>\n",
              "      <td>VALLOIS</td>\n",
              "      <td>A</td>\n",
              "    </tr>\n",
              "  </tbody>\n",
              "</table>\n",
              "</div>"
            ],
            "text/plain": [
              "       ID   TYPE_TEST        DATE     TEMPS AGE SEXE      NOM CAT\n",
              "1    7313  ERGO 1000m  07/12/2019  00:03:19  46    H     RAIN   C\n",
              "2   38647   ERGO 500m  24/03/2021  00:01:52  63    H  ACHACHE   F\n",
              "3  370251  ERGO 1000m  07/12/2019  00:03:23  66    H  ALLOWAY   G\n",
              "4  370251   ERGO 500m  24/03/2021  00:01:35  66    H  ALLOWAY   G\n",
              "5  282175  ERGO 1000m  07/12/2019  00:03:19  32    H  VALLOIS   A"
            ]
          },
          "metadata": {},
          "execution_count": 246
        }
      ]
    },
    {
      "cell_type": "code",
      "metadata": {
        "id": "BhtnNjJKmWCi"
      },
      "source": [
        "# save the results in a Google sheet\n",
        "tab = 'Results-Masters-Nov-2021'\n",
        "try :\n",
        "  results = worksheet.spreadsheet.worksheet(tab)\n",
        "  results.clear()\n",
        "except:\n",
        "  results = worksheet.spreadsheet.add_worksheet(title=tab, rows=\"350\", cols=\"20\")\n",
        "\n",
        "from gspread_dataframe import set_with_dataframe\n",
        "set_with_dataframe(results, df)"
      ],
      "execution_count": null,
      "outputs": []
    },
    {
      "cell_type": "code",
      "metadata": {
        "id": "z967AZ7m9Gun"
      },
      "source": [
        "# save the results in a Google sheet\n",
        "tab = 'All-results'\n",
        "try :\n",
        "  results = worksheet.spreadsheet.worksheet(tab)\n",
        "  results.clear()\n",
        "except:\n",
        "  results = worksheet.spreadsheet.add_worksheet(title=tab, rows=\"350\", cols=\"20\")\n",
        "\n",
        "from gspread_dataframe import set_with_dataframe\n",
        "set_with_dataframe(results, df_all)"
      ],
      "execution_count": null,
      "outputs": []
    }
  ]
}