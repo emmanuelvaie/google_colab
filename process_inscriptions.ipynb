{
  "nbformat": 4,
  "nbformat_minor": 0,
  "metadata": {
    "colab": {
      "name": "process-inscriptions.ipynb",
      "provenance": [],
      "authorship_tag": "ABX9TyMu7FnMU9Cge/tMGiwCsL87",
      "include_colab_link": true
    },
    "kernelspec": {
      "name": "python3",
      "display_name": "Python 3"
    },
    "language_info": {
      "name": "python"
    }
  },
  "cells": [
    {
      "cell_type": "markdown",
      "metadata": {
        "id": "view-in-github",
        "colab_type": "text"
      },
      "source": [
        "<a href=\"https://colab.research.google.com/github/emmanuelvaie/google_colab/blob/main/process_inscriptions.ipynb\" target=\"_parent\"><img src=\"https://colab.research.google.com/assets/colab-badge.svg\" alt=\"Open In Colab\"/></a>"
      ]
    },
    {
      "cell_type": "markdown",
      "metadata": {
        "id": "sgCDopRW5xNs"
      },
      "source": [
        "Get authentication for reading the google sheet"
      ]
    },
    {
      "cell_type": "code",
      "metadata": {
        "id": "WwUp89F40UXr"
      },
      "source": [
        "from google.colab import auth\n",
        "auth.authenticate_user()\n",
        "\n",
        "import gspread\n",
        "from oauth2client.client import GoogleCredentials\n",
        "\n",
        "gc = gspread.authorize(GoogleCredentials.get_application_default())"
      ],
      "execution_count": 2,
      "outputs": []
    },
    {
      "cell_type": "markdown",
      "metadata": {
        "id": "A4fwLrb155LC"
      },
      "source": [
        "Read the google sheet and transform it in a dataframe properly\n"
      ]
    },
    {
      "cell_type": "code",
      "metadata": {
        "id": "rDNpHoAQ0aNJ"
      },
      "source": [
        "worksheet = gc.open_by_url('https://docs.google.com/spreadsheets/d/1SCruyMO_mncyvIF8kA9HEN2cTabM8ge3Mj2Ia_yG8Uk/edit#gid=464665913').sheet1\n",
        "\n",
        "# get_all_values gives a list of rows.\n",
        "rows = worksheet.get_all_values()\n",
        "\n",
        "import pandas as pd\n",
        "df_inscriptions = pd.DataFrame.from_records(rows,columns=rows[0])\n",
        "df_inscriptions = df_inscriptions.drop(0).reindex()\n",
        "# let's keep only validated files\n",
        "df_inscriptions = df_inscriptions[df_inscriptions['statut']=='Validé']"
      ],
      "execution_count": 3,
      "outputs": []
    },
    {
      "cell_type": "code",
      "metadata": {
        "id": "hdv7aOFPg_1r"
      },
      "source": [
        "# and filter inscription validated before the 10/10 (all before this date should have a licence)\n",
        "from datetime import datetime\n",
        "df_inscriptions['already_processed'] = df_inscriptions['date_statut'].apply(lambda x : True if datetime.strptime(x,\"%Y-%m-%d %H:%M:%S\") < datetime.strptime('2021-10-10 00:00:00',\"%Y-%m-%d %H:%M:%S\") else False)"
      ],
      "execution_count": 4,
      "outputs": []
    },
    {
      "cell_type": "code",
      "metadata": {
        "id": "HR1a2CpTZTf2"
      },
      "source": [
        "df_inscriptions = df_inscriptions[df_inscriptions['already_processed']==False]"
      ],
      "execution_count": 5,
      "outputs": []
    },
    {
      "cell_type": "markdown",
      "metadata": {
        "id": "1DyO5byL6IXS"
      },
      "source": [
        "detect the malformed naissance columns and change the date format"
      ]
    },
    {
      "cell_type": "code",
      "metadata": {
        "id": "VjRDC6gA26rV"
      },
      "source": [
        "df_inscriptions.dropna()\n",
        "df_inscriptions['naissance'].count()\n",
        "df_ddl_1 = df_inscriptions[df_inscriptions['naissance']=='0000-00-00']"
      ],
      "execution_count": null,
      "outputs": []
    },
    {
      "cell_type": "code",
      "metadata": {
        "colab": {
          "base_uri": "https://localhost:8080/",
          "height": 69
        },
        "id": "fWysLb-FEqUH",
        "outputId": "85a09698-4640-4b71-abe7-c56f090f10e7"
      },
      "source": [
        "df_ddl_2 =df_inscriptions[df_inscriptions['naissance']=='']\n",
        "df_ddl_2"
      ],
      "execution_count": 7,
      "outputs": [
        {
          "output_type": "execute_result",
          "data": {
            "text/html": [
              "<div>\n",
              "<style scoped>\n",
              "    .dataframe tbody tr th:only-of-type {\n",
              "        vertical-align: middle;\n",
              "    }\n",
              "\n",
              "    .dataframe tbody tr th {\n",
              "        vertical-align: top;\n",
              "    }\n",
              "\n",
              "    .dataframe thead th {\n",
              "        text-align: right;\n",
              "    }\n",
              "</style>\n",
              "<table border=\"1\" class=\"dataframe\">\n",
              "  <thead>\n",
              "    <tr style=\"text-align: right;\">\n",
              "      <th></th>\n",
              "      <th>saison</th>\n",
              "      <th>statut</th>\n",
              "      <th>date_statut</th>\n",
              "      <th>civil</th>\n",
              "      <th>nom</th>\n",
              "      <th>prenom</th>\n",
              "      <th>email</th>\n",
              "      <th>tel</th>\n",
              "      <th>adresse</th>\n",
              "      <th>cp</th>\n",
              "      <th>ville</th>\n",
              "      <th>pays</th>\n",
              "      <th>nationalite</th>\n",
              "      <th>naissance</th>\n",
              "      <th>profession</th>\n",
              "      <th>entreprise</th>\n",
              "      <th>parent1_civil</th>\n",
              "      <th>parent1_nom</th>\n",
              "      <th>parent1_prenom</th>\n",
              "      <th>parent1_email</th>\n",
              "      <th>parent1_tel</th>\n",
              "      <th>parent2_civil</th>\n",
              "      <th>parent2_nom</th>\n",
              "      <th>parent2_prenom</th>\n",
              "      <th>parent2_email</th>\n",
              "      <th>parent2_tel</th>\n",
              "      <th>contact_civil</th>\n",
              "      <th>contact_nom</th>\n",
              "      <th>contact_prenom</th>\n",
              "      <th>contact_email</th>\n",
              "      <th>contact_tel</th>\n",
              "      <th>docteur_nom</th>\n",
              "      <th>docteur_date</th>\n",
              "      <th>handicap</th>\n",
              "      <th>reglement</th>\n",
              "      <th>documentation</th>\n",
              "      <th>benevolat</th>\n",
              "      <th>nager</th>\n",
              "      <th>assurance</th>\n",
              "      <th>type</th>\n",
              "      <th>licence</th>\n",
              "      <th>categorie</th>\n",
              "      <th>garage</th>\n",
              "      <th>optioncomp</th>\n",
              "      <th>montant</th>\n",
              "      <th>reduction</th>\n",
              "      <th>motifreduction</th>\n",
              "      <th>netapayer</th>\n",
              "      <th>paiement_helloasso</th>\n",
              "      <th>virement</th>\n",
              "      <th>cheque</th>\n",
              "      <th>nbcheques</th>\n",
              "      <th>chequesvacances</th>\n",
              "      <th>couponsport</th>\n",
              "      <th>pass92</th>\n",
              "      <th>caution_nom</th>\n",
              "      <th>caution</th>\n",
              "      <th>especes</th>\n",
              "      <th>autre_details</th>\n",
              "      <th>autre</th>\n",
              "      <th>montant_total</th>\n",
              "      <th>already_processed</th>\n",
              "    </tr>\n",
              "  </thead>\n",
              "  <tbody>\n",
              "  </tbody>\n",
              "</table>\n",
              "</div>"
            ],
            "text/plain": [
              "Empty DataFrame\n",
              "Columns: [saison, statut, date_statut, civil, nom, prenom, email, tel, adresse, cp, ville, pays, nationalite, naissance, profession, entreprise, parent1_civil, parent1_nom, parent1_prenom, parent1_email, parent1_tel, parent2_civil, parent2_nom, parent2_prenom, parent2_email, parent2_tel, contact_civil, contact_nom, contact_prenom, contact_email, contact_tel, docteur_nom, docteur_date, handicap, reglement, documentation, benevolat, nager, assurance, type, licence, categorie, garage, optioncomp, montant, reduction, motifreduction, netapayer, paiement_helloasso, virement, cheque, nbcheques, chequesvacances, couponsport, pass92, caution_nom, caution, especes, autre_details, autre, montant_total, already_processed]\n",
              "Index: []"
            ]
          },
          "metadata": {},
          "execution_count": 7
        }
      ]
    },
    {
      "cell_type": "code",
      "metadata": {
        "id": "oIBV-kYHyWgr"
      },
      "source": [
        "df_inscriptions = df_inscriptions[df_inscriptions['naissance']!='0000-00-00']\n",
        "df_inscriptions = df_inscriptions[df_inscriptions['naissance']!='']"
      ],
      "execution_count": 8,
      "outputs": []
    },
    {
      "cell_type": "code",
      "metadata": {
        "id": "v-LGUT73-yvJ"
      },
      "source": [
        "from datetime import datetime\n",
        "df_inscriptions['naissance']= df_inscriptions[df_inscriptions['naissance']!='0000-00-00']['naissance'].\\\n",
        "apply(lambda x : datetime.strptime(x, '%Y-%m-%d').strftime('%d/%m/%Y'))"
      ],
      "execution_count": 9,
      "outputs": []
    },
    {
      "cell_type": "code",
      "metadata": {
        "id": "WvLLqErr_JA8"
      },
      "source": [
        "df_inscriptions['sexe'] = df_inscriptions['civil'].apply(lambda x : 'H' if x == 'Monsieur' else 'F')"
      ],
      "execution_count": 10,
      "outputs": []
    },
    {
      "cell_type": "code",
      "metadata": {
        "id": "5_BkjpMGvsdd"
      },
      "source": [
        "df_inscriptions = df_inscriptions[df_inscriptions.columns.drop(list(df_inscriptions.filter(regex='^parent')))]\n",
        "df_inscriptions = df_inscriptions[df_inscriptions.columns.drop(list(df_inscriptions.filter(regex='^contact')))]\n",
        "df_inscriptions = df_inscriptions[df_inscriptions.columns.drop(list(df_inscriptions.filter(regex='[a-z]*cheque[a-z]*')))]\n",
        "df_inscriptions = df_inscriptions[df_inscriptions.columns.drop(['documentation', 'benevolat', 'nager', 'assurance',\\\n",
        "                                                                'caution_nom', 'caution', 'especes', 'autre_details',\\\n",
        "                                                                'montant_total','saison','statut','date_statut','profession',\\\n",
        "                                                                'entreprise','reglement','garage','montant','reduction',\\\n",
        "                                                                'motifreduction','netapayer', 'paiement_helloasso','virement',\\\n",
        "                                                                'couponsport','pass92','autre'])]"
      ],
      "execution_count": 11,
      "outputs": []
    },
    {
      "cell_type": "code",
      "metadata": {
        "id": "2d1Wl3ca2Zpz"
      },
      "source": [
        "from datetime import date,timedelta\n",
        "yesterday = date.today() - timedelta(days=1)\n",
        "yester_str = yesterday.strftime('%Y-%m-%d')"
      ],
      "execution_count": 12,
      "outputs": []
    },
    {
      "cell_type": "code",
      "metadata": {
        "id": "ts-8t3Ri4cHX"
      },
      "source": [
        "df_inscriptions['docteur_date'] = df_inscriptions['docteur_date'].apply(lambda x : yester_str if x =='0000-00-00' else x)"
      ],
      "execution_count": 13,
      "outputs": []
    },
    {
      "cell_type": "code",
      "metadata": {
        "id": "vX12Ns205icD"
      },
      "source": [
        "from datetime import datetime\n",
        "df_inscriptions['docteur_date']= df_inscriptions['docteur_date'].apply(lambda x : datetime.strptime(x, '%Y-%m-%d').strftime('%d/%m/%Y'))"
      ],
      "execution_count": 14,
      "outputs": []
    },
    {
      "cell_type": "code",
      "metadata": {
        "id": "yt9U1LU9awqR"
      },
      "source": [
        "def reprocess_add(input_str):\n",
        "  input_str = input_str.str.replace('?','  ')\n",
        "  #input_str = input_str.replace('\\n',' ')"
      ],
      "execution_count": 15,
      "outputs": []
    },
    {
      "cell_type": "code",
      "metadata": {
        "id": "uk0JEc79711u"
      },
      "source": [
        "df_inscriptions['docteur_nom'] = df_inscriptions['docteur_nom'].str.upper()\n",
        "df_inscriptions['ville'] = df_inscriptions['ville'].str.upper()\n",
        "df_inscriptions['adresse'] = df_inscriptions['adresse'].str.upper()\n",
        "df_inscriptions['email']= df_inscriptions['email'].str.lower()\n",
        "#df_inscriptions['adresse'] = df_inscriptions['adresse'].apply(lambda x : reprocess_add(x))\n",
        "#df_inscriptions['adresse'] = df_inscriptions['adresse'].apply(lambda x : reprocess_add(x))"
      ],
      "execution_count": 16,
      "outputs": []
    },
    {
      "cell_type": "markdown",
      "metadata": {
        "id": "JEPF0LHOXtxJ"
      },
      "source": [
        "Split the address"
      ]
    },
    {
      "cell_type": "code",
      "metadata": {
        "id": "HqzyMKTHXsys"
      },
      "source": [
        "df_inscriptions['NumeroVoie'] = df_inscriptions['adresse'].str.split(n=2,expand=True)[0]\n",
        "df_inscriptions['TypeVoie'] = df_inscriptions['adresse'].str.split(n=2,expand=True)[1]\n",
        "df_inscriptions['LibelleVoie'] = df_inscriptions['adresse'].str.split(n=2,expand=True)[2]\n"
      ],
      "execution_count": 17,
      "outputs": []
    },
    {
      "cell_type": "markdown",
      "metadata": {
        "id": "ToaIxnrmiif-"
      },
      "source": [
        "Read the tab with the licences already taken"
      ]
    },
    {
      "cell_type": "code",
      "metadata": {
        "id": "sjhF6W2-irSL"
      },
      "source": [
        "worksheet = gc.open_by_url('https://docs.google.com/spreadsheets/d/1SCruyMO_mncyvIF8kA9HEN2cTabM8ge3Mj2Ia_yG8Uk/edit#gid=464665913').worksheet('licences_deja_prises')\n",
        "\n",
        "# get_all_values gives a list of rows.\n",
        "rows = worksheet.get_all_values()\n",
        "\n",
        "import pandas as pd\n",
        "df_licences = pd.DataFrame.from_records(rows,columns=rows[0])"
      ],
      "execution_count": 19,
      "outputs": []
    },
    {
      "cell_type": "code",
      "metadata": {
        "id": "yu8pQZRNjTa8"
      },
      "source": [
        "df_licences = df_licences.drop(0).reindex()"
      ],
      "execution_count": 20,
      "outputs": []
    },
    {
      "cell_type": "code",
      "metadata": {
        "id": "YuYdTOR3jaL1"
      },
      "source": [
        "import unicodedata\n",
        "\n",
        "def remove_accents(input_str):\n",
        "  # remove simple quote and '-\n",
        "  input_str = input_str.replace('\\'','')\n",
        "  input_str = input_str.replace('-','')\n",
        "  nfkd_form = unicodedata.normalize('NFKD', input_str)\n",
        "  return u\"\".join([c for c in nfkd_form if not unicodedata.combining(c)])"
      ],
      "execution_count": 21,
      "outputs": []
    },
    {
      "cell_type": "markdown",
      "metadata": {
        "id": "UJP32KBLvr5K"
      },
      "source": [
        "remove the accent for 1st name and last name\n"
      ]
    },
    {
      "cell_type": "code",
      "metadata": {
        "id": "Qfc_HiE4vrNV"
      },
      "source": [
        "df_licences['NOM'] = df_licences['NOM'].apply(lambda x : remove_accents(x))\n",
        "df_licences['PRENOM'] = df_licences['PRENOM'].apply(lambda x : remove_accents(x))\n",
        "df_inscriptions['nom'] = df_inscriptions['nom'].apply(lambda x : remove_accents(x))\n",
        "df_inscriptions['prenom'] = df_inscriptions['prenom'].apply(lambda x : remove_accents(x))\n",
        "\n"
      ],
      "execution_count": 22,
      "outputs": []
    },
    {
      "cell_type": "code",
      "metadata": {
        "id": "_LQOfsPIjsfM"
      },
      "source": [
        "df_licencies = pd.DataFrame(data=df_licences['NOM'] + '_' + df_licences['PRENOM'] + '_' + df_licences['DATE NAISSANCE'], columns=['key'])\n",
        "df_licencies.sort_values(by='key', inplace=True)\n",
        "df_licencies = df_licencies.reset_index()"
      ],
      "execution_count": 23,
      "outputs": []
    },
    {
      "cell_type": "code",
      "metadata": {
        "colab": {
          "base_uri": "https://localhost:8080/"
        },
        "id": "5OebAUL23Qol",
        "outputId": "faef145c-3685-4486-c556-7531d88d1798"
      },
      "source": [
        "!pip install jaro-winkler"
      ],
      "execution_count": 25,
      "outputs": [
        {
          "output_type": "stream",
          "name": "stdout",
          "text": [
            "Collecting jaro-winkler\n",
            "  Downloading jaro_winkler-2.0.0-py3-none-any.whl (33 kB)\n",
            "Installing collected packages: jaro-winkler\n",
            "Successfully installed jaro-winkler-2.0.0\n"
          ]
        }
      ]
    },
    {
      "cell_type": "code",
      "metadata": {
        "id": "chQ6fb0J3csw"
      },
      "source": [
        "import jaro\n",
        "def jaro_distance_words(s, d):\n",
        "    r = {}\n",
        "    for i in range(0,len(d)-1,1):\n",
        "        r[i] = jaro.jaro_metric(s, d[i])\n",
        "        \n",
        "    return r"
      ],
      "execution_count": 26,
      "outputs": []
    },
    {
      "cell_type": "code",
      "metadata": {
        "id": "rAbMCxT969lY"
      },
      "source": [
        "# create a similar key on the inscriptions dataset\n",
        "df_inscriptions = df_inscriptions.reset_index()\n",
        "df_inscriptions['key'] = df_inscriptions['nom'] + '_' + df_inscriptions['prenom'] + '_' + df_inscriptions['naissance']\n",
        "d = df_inscriptions.key.to_dict()"
      ],
      "execution_count": 27,
      "outputs": []
    },
    {
      "cell_type": "code",
      "metadata": {
        "id": "nEFahSuX57Ye"
      },
      "source": [
        "df_licencies['jaro'] = df_licencies['key'].apply(lambda x: jaro_distance_words(x,d))"
      ],
      "execution_count": 29,
      "outputs": []
    },
    {
      "cell_type": "code",
      "metadata": {
        "id": "71_26_jAEuUs"
      },
      "source": [
        "test_str = 'ALBANEL_GEOFFROY_11/07/1957'\n",
        "d_jaro = jaro_distance_words(test_str, d)"
      ],
      "execution_count": 30,
      "outputs": []
    },
    {
      "cell_type": "code",
      "metadata": {
        "colab": {
          "base_uri": "https://localhost:8080/"
        },
        "id": "oZCkdpdybAAN",
        "outputId": "b9cb644c-5a32-4527-c7b2-c4c77bd5dae7"
      },
      "source": [
        "# sort the dictionnary in a list of pairs (index, distance)\n",
        "d_jaro_sorted = sorted(d_jaro.items(), key=lambda item: item[1], reverse=True)\n",
        "# display the 5 firsts\n",
        "d_jaro_sorted[:3]"
      ],
      "execution_count": 31,
      "outputs": [
        {
          "output_type": "execute_result",
          "data": {
            "text/plain": [
              "[(0, 1.0), (104, 0.7314814814814814), (62, 0.7286340103544404)]"
            ]
          },
          "metadata": {},
          "execution_count": 31
        }
      ]
    },
    {
      "cell_type": "code",
      "metadata": {
        "id": "LdWvY_-WEDZJ"
      },
      "source": [
        "df_licencies['3_similar'] = df_licencies['jaro'].apply(lambda x: list(sorted(x.items(), key=lambda item: item[1], reverse=True))[:3])"
      ],
      "execution_count": 32,
      "outputs": []
    },
    {
      "cell_type": "code",
      "metadata": {
        "colab": {
          "base_uri": "https://localhost:8080/"
        },
        "id": "c92qVCvZfcwj",
        "outputId": "bd916be2-b4d4-451b-bec4-7fc3ca578c1e"
      },
      "source": [
        "d_jaro_sorted[1][0]"
      ],
      "execution_count": 33,
      "outputs": [
        {
          "output_type": "execute_result",
          "data": {
            "text/plain": [
              "104"
            ]
          },
          "metadata": {},
          "execution_count": 33
        }
      ]
    },
    {
      "cell_type": "code",
      "metadata": {
        "id": "TLE4ZhjbKjdP"
      },
      "source": [
        "# keep only the greatest distance\n",
        "df_licencies['match'] = df_licencies['3_similar'].apply(lambda x : d[x[0][0]] if (x[0][1]> 0.8) else 'N/A')"
      ],
      "execution_count": 44,
      "outputs": []
    },
    {
      "cell_type": "code",
      "metadata": {
        "colab": {
          "base_uri": "https://localhost:8080/",
          "height": 112
        },
        "id": "Sb_WTW9rFLlS",
        "outputId": "a6179244-113e-4d07-82f9-1d636145fa94"
      },
      "source": [
        "# check if it works for some names\n",
        "df_licencies[df_licencies['key'].apply(lambda x :  True if 'CHEMLOUL' in x else False)]"
      ],
      "execution_count": 43,
      "outputs": [
        {
          "output_type": "execute_result",
          "data": {
            "text/html": [
              "<div>\n",
              "<style scoped>\n",
              "    .dataframe tbody tr th:only-of-type {\n",
              "        vertical-align: middle;\n",
              "    }\n",
              "\n",
              "    .dataframe tbody tr th {\n",
              "        vertical-align: top;\n",
              "    }\n",
              "\n",
              "    .dataframe thead th {\n",
              "        text-align: right;\n",
              "    }\n",
              "</style>\n",
              "<table border=\"1\" class=\"dataframe\">\n",
              "  <thead>\n",
              "    <tr style=\"text-align: right;\">\n",
              "      <th></th>\n",
              "      <th>index</th>\n",
              "      <th>key</th>\n",
              "      <th>jaro</th>\n",
              "      <th>3_similar</th>\n",
              "      <th>match</th>\n",
              "    </tr>\n",
              "  </thead>\n",
              "  <tbody>\n",
              "    <tr>\n",
              "      <th>67</th>\n",
              "      <td>221</td>\n",
              "      <td>CHEMLOUL_DARIA_15/06/2004</td>\n",
              "      <td>{0: 0.5737918871252204, 1: 0.635, 2: 0.6535507...</td>\n",
              "      <td>[(23, 0.9316666666666666), (22, 0.776296296296...</td>\n",
              "      <td>CHEMLOUL_DARIA_06/12/2004</td>\n",
              "    </tr>\n",
              "    <tr>\n",
              "      <th>68</th>\n",
              "      <td>222</td>\n",
              "      <td>CHEMLOUL_LOTFI_20/07/1968</td>\n",
              "      <td>{0: 0.5737918871252204, 1: 0.6030769230769231,...</td>\n",
              "      <td>[(22, 0.9866666666666667), (23, 0.757777777777...</td>\n",
              "      <td>CHEMLOUL_LOTFI_07/02/1968</td>\n",
              "    </tr>\n",
              "  </tbody>\n",
              "</table>\n",
              "</div>"
            ],
            "text/plain": [
              "    index  ...                      match\n",
              "67    221  ...  CHEMLOUL_DARIA_06/12/2004\n",
              "68    222  ...  CHEMLOUL_LOTFI_07/02/1968\n",
              "\n",
              "[2 rows x 5 columns]"
            ]
          },
          "metadata": {},
          "execution_count": 43
        }
      ]
    },
    {
      "cell_type": "markdown",
      "metadata": {
        "id": "-7KYoaiNtaDS"
      },
      "source": [
        "An then build a list of licenced persons"
      ]
    },
    {
      "cell_type": "code",
      "metadata": {
        "id": "Ee-gQtipk_WS"
      },
      "source": [
        "licencies = df_licencies.to_dict('list')['key']"
      ],
      "execution_count": null,
      "outputs": []
    },
    {
      "cell_type": "markdown",
      "metadata": {
        "id": "fadeFy3DmmN3"
      },
      "source": [
        "Check who already has a licence\n"
      ]
    },
    {
      "cell_type": "code",
      "metadata": {
        "id": "mSF-ooeCmkff"
      },
      "source": [
        "df_inscriptions['licence_prise'] = df_inscriptions['key'].apply(lambda x : True if x in licencies else False)"
      ],
      "execution_count": null,
      "outputs": []
    },
    {
      "cell_type": "markdown",
      "metadata": {
        "id": "cu-3QmoSmdDV"
      },
      "source": [
        "Then save the result : only the licence not already taken"
      ]
    },
    {
      "cell_type": "code",
      "metadata": {
        "id": "BQwmZt8MnT8h"
      },
      "source": [
        "worksheet = gc.open_by_url('https://docs.google.com/spreadsheets/d/1SCruyMO_mncyvIF8kA9HEN2cTabM8ge3Mj2Ia_yG8Uk/edit#gid=464665913').worksheet(\"Fitogram\")\n",
        "\n",
        "# get_all_values gives a list of rows.\n",
        "rows = worksheet.get_all_values()\n",
        "\n",
        "import pandas as pd\n",
        "df_fito = pd.DataFrame.from_records(rows,columns=rows[8])\n",
        "df_fito = df_fito[df_fito['Nom']!=''].drop(8).drop(9)\n",
        "df_fito = df_fito[df_fito['Email']!='']\n",
        "df_fito['Email']= df_fito['Email'].str.lower()"
      ],
      "execution_count": null,
      "outputs": []
    },
    {
      "cell_type": "code",
      "metadata": {
        "id": "J5zZJjSKthOg"
      },
      "source": [
        "l_fito = pd.DataFrame(df_fito['Email']).to_dict('list')['Email']"
      ],
      "execution_count": null,
      "outputs": []
    },
    {
      "cell_type": "markdown",
      "metadata": {
        "id": "OiwEd5cu1N4j"
      },
      "source": [
        "Then give a status to the Fitogram account by comparing the address mails\n"
      ]
    },
    {
      "cell_type": "code",
      "metadata": {
        "id": "uCY-1iPg1ZXB"
      },
      "source": [
        "df_inscriptions['is_in_fitogram'] = df_inscriptions['email'].apply(lambda x : True if x in l_fito else False)"
      ],
      "execution_count": null,
      "outputs": []
    },
    {
      "cell_type": "code",
      "metadata": {
        "id": "_avQGPIdaIcQ"
      },
      "source": [
        "df_renouvellement_fito = df_fito[df_fito['Produit actif'] == 'Licence A']"
      ],
      "execution_count": null,
      "outputs": []
    },
    {
      "cell_type": "code",
      "metadata": {
        "id": "QP77WJS-lqw7"
      },
      "source": [
        "df_renouvellement_fito = df_renouvellement_fito[df_renouvellement_fito['Abonnement (Début)'].\\\n",
        "                                                apply(lambda x : datetime.strptime(x, '%d/%m/%Y').date().year)==2020]\n"
      ],
      "execution_count": null,
      "outputs": []
    },
    {
      "cell_type": "code",
      "metadata": {
        "id": "tJct7q1zn1B8"
      },
      "source": [
        "df_renouvellement_fito2 = df_renouvellement_fito[['Prénom','Nom','Email','Anniversaire','Abonnement (Début)']]"
      ],
      "execution_count": null,
      "outputs": []
    },
    {
      "cell_type": "code",
      "metadata": {
        "id": "L3qZQQ7fsCBt"
      },
      "source": [
        "df_inscr = df_inscriptions[['email','nom','prenom']]"
      ],
      "execution_count": null,
      "outputs": []
    },
    {
      "cell_type": "code",
      "metadata": {
        "id": "XrO71IPVucWn"
      },
      "source": [
        "df_inscr = df_inscr.set_index('email')\n",
        "df_renouvellement_fito2 = df_renouvellement_fito2.set_index('Email')"
      ],
      "execution_count": null,
      "outputs": []
    },
    {
      "cell_type": "code",
      "metadata": {
        "id": "0LOMDOs1uXDY"
      },
      "source": [
        "df_renouvellement_fito2 = df_renouvellement_fito2.join(df_inscr, on='Email', how='inner')"
      ],
      "execution_count": null,
      "outputs": []
    },
    {
      "cell_type": "code",
      "metadata": {
        "id": "n8OcKItSAoaS"
      },
      "source": [
        "try :\n",
        "  inscription_reprocessed = worksheet.spreadsheet.worksheet('re-processed')\n",
        "  inscription_reprocessed.clear()\n",
        "except:\n",
        "  inscription_reprocessed = worksheet.spreadsheet.add_worksheet(title=\"re-processed\", rows=\"350\", cols=\"20\")\n",
        "\n",
        "from gspread_dataframe import set_with_dataframe\n",
        "#set_with_dataframe(inscription_reprocessed, df_inscriptions[df_inscriptions['licence_prise']==False])\n",
        "set_with_dataframe(inscription_reprocessed, df_inscriptions)"
      ],
      "execution_count": null,
      "outputs": []
    },
    {
      "cell_type": "code",
      "metadata": {
        "id": "2eM3XCj7oQ72"
      },
      "source": [
        "try :\n",
        "  inscription_reprocessed = worksheet.spreadsheet.worksheet('Fitogram to change')\n",
        "  inscription_reprocessed.clear()\n",
        "except:\n",
        "  inscription_reprocessed = worksheet.spreadsheet.add_worksheet(title=\"Fitogram to change\", rows=\"350\", cols=\"20\")\n",
        "\n",
        "from gspread_dataframe import set_with_dataframe\n",
        "set_with_dataframe(inscription_reprocessed, df_renouvellement_fito2)"
      ],
      "execution_count": null,
      "outputs": []
    },
    {
      "cell_type": "code",
      "metadata": {
        "id": "6hZw3NsSxzlk"
      },
      "source": [
        "# maintenant le cahier électronique\n",
        "# 1) on construit un dataset de clé NOM_PRENOM, naissance, genre\n",
        "# 2) on le compare au dataset persons : NOM_PRENOM, naisssance, genre en faisant un right outer join (existe dans les inscriptions mais pas dans le cahier)\n"
      ],
      "execution_count": null,
      "outputs": []
    },
    {
      "cell_type": "code",
      "metadata": {
        "id": "_p_8qhHUzNPC"
      },
      "source": [
        "df_inscr_bis = df_inscriptions[['nom','prenom', 'naissance','sexe']]"
      ],
      "execution_count": null,
      "outputs": []
    },
    {
      "cell_type": "code",
      "metadata": {
        "colab": {
          "base_uri": "https://localhost:8080/"
        },
        "id": "cfv2Lu-KzP4c",
        "outputId": "1d82e4b8-a19b-40a4-bccd-241a8ab4afc2"
      },
      "source": [
        "df_inscr_bis['key'] = df_inscr_bis['nom'] + '_' + df_inscr_bis['prenom']"
      ],
      "execution_count": null,
      "outputs": [
        {
          "output_type": "stream",
          "name": "stderr",
          "text": [
            "/usr/local/lib/python3.7/dist-packages/ipykernel_launcher.py:1: SettingWithCopyWarning: \n",
            "A value is trying to be set on a copy of a slice from a DataFrame.\n",
            "Try using .loc[row_indexer,col_indexer] = value instead\n",
            "\n",
            "See the caveats in the documentation: https://pandas.pydata.org/pandas-docs/stable/user_guide/indexing.html#returning-a-view-versus-a-copy\n",
            "  \"\"\"Entry point for launching an IPython kernel.\n"
          ]
        }
      ]
    },
    {
      "cell_type": "code",
      "metadata": {
        "id": "g6rQ4bDI0ZRA"
      },
      "source": [
        "df_inscr_bis = df_inscr_bis.set_index('key')"
      ],
      "execution_count": null,
      "outputs": []
    },
    {
      "cell_type": "code",
      "metadata": {
        "id": "LO2iLXJ00cWl"
      },
      "source": [
        "worksheet = gc.open_by_url('https://docs.google.com/spreadsheets/d/1SCruyMO_mncyvIF8kA9HEN2cTabM8ge3Mj2Ia_yG8Uk/edit#gid=464665913').worksheet(\"persons\")\n",
        "\n",
        "# get_all_values gives a list of rows.\n",
        "rows = worksheet.get_all_values()\n",
        "\n",
        "import pandas as pd\n",
        "df_persons = pd.DataFrame.from_records(rows,columns=rows[0])\n",
        "df_persons = df_persons.drop(0)"
      ],
      "execution_count": null,
      "outputs": []
    },
    {
      "cell_type": "code",
      "metadata": {
        "id": "RCy1IYsy1arM"
      },
      "source": [
        "df_persons = df_persons[['LastName','FirstName']]"
      ],
      "execution_count": null,
      "outputs": []
    },
    {
      "cell_type": "code",
      "metadata": {
        "id": "5ZsqvoAg3iC0"
      },
      "source": [
        "import unicodedata\n",
        "\n",
        "def process_text(input_str):\n",
        "  # remove simple quote and '-\n",
        "  input_str = input_str.replace('\\'','')\n",
        "  input_str = input_str.replace('-','')\n",
        "  input_str = input_str.replace(' ','_')\n",
        "  nfkd_form = unicodedata.normalize('NFKD', input_str)\n",
        "  return u\"\".join([c for c in nfkd_form if not unicodedata.combining(c)])"
      ],
      "execution_count": null,
      "outputs": []
    },
    {
      "cell_type": "code",
      "metadata": {
        "id": "rwVmAjh32SYz"
      },
      "source": [
        "df_persons['LastName'] = df_persons['LastName'].apply(lambda x : process_text(x))\n",
        "df_persons['FirstName'] = df_persons['FirstName'].apply(lambda x : process_text(x))\n",
        "df_persons['FirstName'] = df_persons['FirstName'].str.upper()\n"
      ],
      "execution_count": null,
      "outputs": []
    },
    {
      "cell_type": "code",
      "metadata": {
        "id": "JzJ5mm6G32a7"
      },
      "source": [
        "df_persons['key'] = df_persons['LastName'] + '_' + df_persons['FirstName']"
      ],
      "execution_count": null,
      "outputs": []
    },
    {
      "cell_type": "code",
      "metadata": {
        "id": "9PlV55gc4EsI"
      },
      "source": [
        "df_persons = df_persons.set_index('key')"
      ],
      "execution_count": null,
      "outputs": []
    },
    {
      "cell_type": "code",
      "metadata": {
        "id": "BiD7styY4X9-"
      },
      "source": [
        "df_join = df_inscr_bis.join(df_persons, on='key', how='left')"
      ],
      "execution_count": null,
      "outputs": []
    },
    {
      "cell_type": "code",
      "metadata": {
        "id": "-M-yPwEh4uCV"
      },
      "source": [
        "df_join = df_join[df_join['LastName'].isnull()]"
      ],
      "execution_count": null,
      "outputs": []
    },
    {
      "cell_type": "code",
      "metadata": {
        "id": "NEI9YjtO6dz4"
      },
      "source": [
        "try :\n",
        "  inscription_reprocessed = worksheet.spreadsheet.worksheet('Cahier elec.')\n",
        "  inscription_reprocessed.clear()\n",
        "except:\n",
        "  inscription_reprocessed = worksheet.spreadsheet.add_worksheet(title=\"Cahier elec.\", rows=\"350\", cols=\"20\")\n",
        "\n",
        "from gspread_dataframe import set_with_dataframe\n",
        "set_with_dataframe(inscription_reprocessed, df_join)"
      ],
      "execution_count": null,
      "outputs": []
    },
    {
      "cell_type": "code",
      "metadata": {
        "id": "IRxKvO4sADE5"
      },
      "source": [
        " df_join = df_join.reset_index()"
      ],
      "execution_count": null,
      "outputs": []
    },
    {
      "cell_type": "code",
      "metadata": {
        "id": "7ab3hCM0B1bE"
      },
      "source": [
        " df_join = df_join.drop(columns=['key', 'LastName', 'FirstName'])"
      ],
      "execution_count": null,
      "outputs": []
    },
    {
      "cell_type": "code",
      "metadata": {
        "id": "gEe_b6NcAOMF"
      },
      "source": [
        "df_join = df_join.rename(columns={'nom':'LastName','prenom':'FirstName','sexe':'Gender', 'naissance':'Birthday'})\n",
        "df_join['NameAffix'] =''\n"
      ],
      "execution_count": null,
      "outputs": []
    },
    {
      "cell_type": "code",
      "metadata": {
        "id": "33YjEayJHJ5H"
      },
      "source": [
        "df_join['Title'] = ''\n",
        "df_join = df_join[['FirstName','LastName', 'NameAffix','Title','Gender','Birthday']]"
      ],
      "execution_count": null,
      "outputs": []
    },
    {
      "cell_type": "code",
      "metadata": {
        "id": "DxjShOnrHR-P"
      },
      "source": [
        "df_join['Gender'] = df_join['Gender'].apply(lambda x : 'féminin' if x=='F' else 'masculin')"
      ],
      "execution_count": null,
      "outputs": []
    },
    {
      "cell_type": "code",
      "metadata": {
        "id": "Ec44_PTBDAi4"
      },
      "source": [
        "df_join['Birthday'] = df_join['Birthday'].apply(lambda x : str(x).replace('/','.'))"
      ],
      "execution_count": null,
      "outputs": []
    },
    {
      "cell_type": "code",
      "metadata": {
        "id": "sRK1m9WNDsiW"
      },
      "source": [
        "try :\n",
        "  inscription_reprocessed = worksheet.spreadsheet.worksheet('Persons to import')\n",
        "  inscription_reprocessed.clear()\n",
        "except:\n",
        "  inscription_reprocessed = worksheet.spreadsheet.add_worksheet(title=\"Persons to import\", rows=\"100\", cols=\"20\")\n",
        "\n",
        "from gspread_dataframe import set_with_dataframe\n",
        "set_with_dataframe(inscription_reprocessed, df_join)"
      ],
      "execution_count": null,
      "outputs": []
    }
  ]
}