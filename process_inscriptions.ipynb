{
  "nbformat": 4,
  "nbformat_minor": 0,
  "metadata": {
    "colab": {
      "name": "process-inscriptions.ipynb",
      "provenance": [],
      "authorship_tag": "ABX9TyPY1g+zjYdzZ9fpukfcI5tZ",
      "include_colab_link": true
    },
    "kernelspec": {
      "name": "python3",
      "display_name": "Python 3"
    },
    "language_info": {
      "name": "python"
    }
  },
  "cells": [
    {
      "cell_type": "markdown",
      "metadata": {
        "id": "view-in-github",
        "colab_type": "text"
      },
      "source": [
        "<a href=\"https://colab.research.google.com/github/emmanuelvaie/google_colab/blob/main/process_inscriptions.ipynb\" target=\"_parent\"><img src=\"https://colab.research.google.com/assets/colab-badge.svg\" alt=\"Open In Colab\"/></a>"
      ]
    },
    {
      "cell_type": "markdown",
      "metadata": {
        "id": "sgCDopRW5xNs"
      },
      "source": [
        "Get authentication for reading the google sheet"
      ]
    },
    {
      "cell_type": "code",
      "metadata": {
        "id": "WwUp89F40UXr"
      },
      "source": [
        "from google.colab import auth\n",
        "auth.authenticate_user()\n",
        "\n",
        "import gspread\n",
        "from oauth2client.client import GoogleCredentials\n",
        "\n",
        "gc = gspread.authorize(GoogleCredentials.get_application_default())"
      ],
      "execution_count": null,
      "outputs": []
    },
    {
      "cell_type": "markdown",
      "metadata": {
        "id": "A4fwLrb155LC"
      },
      "source": [
        "Read the google sheet and transform it in a dataframe properly\n"
      ]
    },
    {
      "cell_type": "code",
      "metadata": {
        "id": "rDNpHoAQ0aNJ"
      },
      "source": [
        "worksheet = gc.open_by_url('https://docs.google.com/spreadsheets/d/1SCruyMO_mncyvIF8kA9HEN2cTabM8ge3Mj2Ia_yG8Uk/edit#gid=464665913').sheet1\n",
        "\n",
        "# get_all_values gives a list of rows.\n",
        "rows = worksheet.get_all_values()\n",
        "\n",
        "import pandas as pd\n",
        "df_inscriptions = pd.DataFrame.from_records(rows,columns=rows[0])\n",
        "df_inscriptions = df_inscriptions.drop(0).reindex()\n",
        "# let's keep only validated files\n",
        "df_inscriptions = df_inscriptions[df_inscriptions['statut']=='Validé']"
      ],
      "execution_count": null,
      "outputs": []
    },
    {
      "cell_type": "code",
      "metadata": {
        "id": "hdv7aOFPg_1r"
      },
      "source": [
        "# and filter inscription validated before the 10/10 (all before this date should have a licence)\n",
        "from datetime import datetime\n",
        "df_inscriptions['already_processed'] = df_inscriptions['date_statut'].apply(lambda x : True if datetime.strptime(x,\"%Y-%m-%d %H:%M:%S\") < datetime.strptime('2021-10-10 00:00:00',\"%Y-%m-%d %H:%M:%S\") else False)"
      ],
      "execution_count": null,
      "outputs": []
    },
    {
      "cell_type": "code",
      "metadata": {
        "id": "HR1a2CpTZTf2"
      },
      "source": [
        "df_inscriptions = df_inscriptions[df_inscriptions['already_processed']==False]"
      ],
      "execution_count": null,
      "outputs": []
    },
    {
      "cell_type": "markdown",
      "metadata": {
        "id": "1DyO5byL6IXS"
      },
      "source": [
        "detect the malformed naissance columns and change the date format"
      ]
    },
    {
      "cell_type": "code",
      "metadata": {
        "colab": {
          "base_uri": "https://localhost:8080/",
          "height": 368
        },
        "id": "VjRDC6gA26rV",
        "outputId": "99f41c45-51a1-4709-c748-3fda4481e215"
      },
      "source": [
        "df_inscriptions.dropna()\n",
        "df_inscriptions['naissance'].count()\n",
        "df_ddl_1 = df_inscriptions[df_inscriptions['naissance']=='0000-00-00']\n",
        "df_ddl_1"
      ],
      "execution_count": null,
      "outputs": [
        {
          "output_type": "execute_result",
          "data": {
            "text/html": [
              "<div>\n",
              "<style scoped>\n",
              "    .dataframe tbody tr th:only-of-type {\n",
              "        vertical-align: middle;\n",
              "    }\n",
              "\n",
              "    .dataframe tbody tr th {\n",
              "        vertical-align: top;\n",
              "    }\n",
              "\n",
              "    .dataframe thead th {\n",
              "        text-align: right;\n",
              "    }\n",
              "</style>\n",
              "<table border=\"1\" class=\"dataframe\">\n",
              "  <thead>\n",
              "    <tr style=\"text-align: right;\">\n",
              "      <th></th>\n",
              "      <th>saison</th>\n",
              "      <th>statut</th>\n",
              "      <th>date_statut</th>\n",
              "      <th>civil</th>\n",
              "      <th>nom</th>\n",
              "      <th>prenom</th>\n",
              "      <th>email</th>\n",
              "      <th>tel</th>\n",
              "      <th>adresse</th>\n",
              "      <th>cp</th>\n",
              "      <th>ville</th>\n",
              "      <th>pays</th>\n",
              "      <th>nationalite</th>\n",
              "      <th>naissance</th>\n",
              "      <th>profession</th>\n",
              "      <th>entreprise</th>\n",
              "      <th>parent1_civil</th>\n",
              "      <th>parent1_nom</th>\n",
              "      <th>parent1_prenom</th>\n",
              "      <th>parent1_email</th>\n",
              "      <th>parent1_tel</th>\n",
              "      <th>parent2_civil</th>\n",
              "      <th>parent2_nom</th>\n",
              "      <th>parent2_prenom</th>\n",
              "      <th>parent2_email</th>\n",
              "      <th>parent2_tel</th>\n",
              "      <th>contact_civil</th>\n",
              "      <th>contact_nom</th>\n",
              "      <th>contact_prenom</th>\n",
              "      <th>contact_email</th>\n",
              "      <th>contact_tel</th>\n",
              "      <th>docteur_nom</th>\n",
              "      <th>docteur_date</th>\n",
              "      <th>handicap</th>\n",
              "      <th>reglement</th>\n",
              "      <th>documentation</th>\n",
              "      <th>benevolat</th>\n",
              "      <th>nager</th>\n",
              "      <th>assurance</th>\n",
              "      <th>type</th>\n",
              "      <th>licence</th>\n",
              "      <th>categorie</th>\n",
              "      <th>garage</th>\n",
              "      <th>optioncomp</th>\n",
              "      <th>montant</th>\n",
              "      <th>reduction</th>\n",
              "      <th>motifreduction</th>\n",
              "      <th>netapayer</th>\n",
              "      <th>paiement_helloasso</th>\n",
              "      <th>virement</th>\n",
              "      <th>cheque</th>\n",
              "      <th>nbcheques</th>\n",
              "      <th>chequesvacances</th>\n",
              "      <th>couponsport</th>\n",
              "      <th>pass92</th>\n",
              "      <th>caution_nom</th>\n",
              "      <th>caution</th>\n",
              "      <th>especes</th>\n",
              "      <th>autre_details</th>\n",
              "      <th>autre</th>\n",
              "      <th>montant_total</th>\n",
              "      <th>already_processed</th>\n",
              "    </tr>\n",
              "  </thead>\n",
              "  <tbody>\n",
              "    <tr>\n",
              "      <th>4</th>\n",
              "      <td>2021-2022</td>\n",
              "      <td>Validé</td>\n",
              "      <td>2021-11-13 10:53:09</td>\n",
              "      <td>Monsieur</td>\n",
              "      <td>ALLOWAY</td>\n",
              "      <td>MARK</td>\n",
              "      <td>mark.alloway@gmail.com</td>\n",
              "      <td>769632463</td>\n",
              "      <td>Rue Moliere, 6</td>\n",
              "      <td>92400</td>\n",
              "      <td>Courbevoie</td>\n",
              "      <td>FR</td>\n",
              "      <td>GB</td>\n",
              "      <td>0000-00-00</td>\n",
              "      <td>Retraité</td>\n",
              "      <td></td>\n",
              "      <td></td>\n",
              "      <td></td>\n",
              "      <td></td>\n",
              "      <td></td>\n",
              "      <td></td>\n",
              "      <td></td>\n",
              "      <td></td>\n",
              "      <td></td>\n",
              "      <td></td>\n",
              "      <td></td>\n",
              "      <td>Monsieur</td>\n",
              "      <td>AYALA</td>\n",
              "      <td>ISRAEL</td>\n",
              "      <td>isra909@gmail.com</td>\n",
              "      <td>678410530</td>\n",
              "      <td>Lies Djeddou</td>\n",
              "      <td>0000-00-00</td>\n",
              "      <td>non</td>\n",
              "      <td>on</td>\n",
              "      <td>on</td>\n",
              "      <td>on</td>\n",
              "      <td>on</td>\n",
              "      <td>on</td>\n",
              "      <td>renouvellement</td>\n",
              "      <td>370251</td>\n",
              "      <td>Séniors + Loisirs + CE</td>\n",
              "      <td>non</td>\n",
              "      <td>non</td>\n",
              "      <td>460.00</td>\n",
              "      <td>0.00</td>\n",
              "      <td></td>\n",
              "      <td>460.00</td>\n",
              "      <td>0.00</td>\n",
              "      <td>460.00</td>\n",
              "      <td>0.00</td>\n",
              "      <td>0</td>\n",
              "      <td>0.00</td>\n",
              "      <td>0.00</td>\n",
              "      <td>0.00</td>\n",
              "      <td></td>\n",
              "      <td>0.00</td>\n",
              "      <td>0.00</td>\n",
              "      <td></td>\n",
              "      <td>0.00</td>\n",
              "      <td>460.00</td>\n",
              "      <td>False</td>\n",
              "    </tr>\n",
              "    <tr>\n",
              "      <th>95</th>\n",
              "      <td>2021-2022</td>\n",
              "      <td>Validé</td>\n",
              "      <td>2021-11-04 19:00:25</td>\n",
              "      <td>Monsieur</td>\n",
              "      <td>DE LAMBERTERIE</td>\n",
              "      <td>ANTONIO</td>\n",
              "      <td>anton422742@gmail.com</td>\n",
              "      <td>695429037</td>\n",
              "      <td>47 av Puvis de Chavannes</td>\n",
              "      <td>92400</td>\n",
              "      <td>Courbevoie</td>\n",
              "      <td>FR</td>\n",
              "      <td>FR</td>\n",
              "      <td>0000-00-00</td>\n",
              "      <td>Lycéen</td>\n",
              "      <td></td>\n",
              "      <td>Monsieur</td>\n",
              "      <td>DE LAMBERTERIE</td>\n",
              "      <td>GUILLAUME</td>\n",
              "      <td>guilamberterie@gmail.com</td>\n",
              "      <td>676547875</td>\n",
              "      <td>Madame</td>\n",
              "      <td>RECIO</td>\n",
              "      <td>CARMEN</td>\n",
              "      <td>carmen.recio@hotmail.fr</td>\n",
              "      <td>769371380</td>\n",
              "      <td>Madame</td>\n",
              "      <td>RECIO</td>\n",
              "      <td>CARMEN</td>\n",
              "      <td>carmen.recio@hotmail.fr</td>\n",
              "      <td>769371380</td>\n",
              "      <td>Zorlu</td>\n",
              "      <td>2021-09-15</td>\n",
              "      <td>non</td>\n",
              "      <td>on</td>\n",
              "      <td>on</td>\n",
              "      <td>on</td>\n",
              "      <td>on</td>\n",
              "      <td>on</td>\n",
              "      <td>renouvellement</td>\n",
              "      <td>550257</td>\n",
              "      <td>J11 / J16 - né(e) en 2005 et après</td>\n",
              "      <td>non</td>\n",
              "      <td>non</td>\n",
              "      <td>310.00</td>\n",
              "      <td>0.00</td>\n",
              "      <td></td>\n",
              "      <td>310.00</td>\n",
              "      <td>0.00</td>\n",
              "      <td>0.00</td>\n",
              "      <td>219.00</td>\n",
              "      <td>1</td>\n",
              "      <td>0.00</td>\n",
              "      <td>31.00</td>\n",
              "      <td>60.00</td>\n",
              "      <td></td>\n",
              "      <td>0.00</td>\n",
              "      <td>0.00</td>\n",
              "      <td></td>\n",
              "      <td>0.00</td>\n",
              "      <td>310.00</td>\n",
              "      <td>False</td>\n",
              "    </tr>\n",
              "    <tr>\n",
              "      <th>153</th>\n",
              "      <td>2021-2022</td>\n",
              "      <td>Validé</td>\n",
              "      <td>2021-10-10 17:51:04</td>\n",
              "      <td>Madame</td>\n",
              "      <td>GLESS</td>\n",
              "      <td>MAGALI</td>\n",
              "      <td>magaligless@gmail.com</td>\n",
              "      <td>672074926</td>\n",
              "      <td>43 RUE DE LOUVAIN</td>\n",
              "      <td>92400</td>\n",
              "      <td>COURBEVOIE</td>\n",
              "      <td>FR</td>\n",
              "      <td>FR</td>\n",
              "      <td>0000-00-00</td>\n",
              "      <td>AGENT DE MANNEQUIN</td>\n",
              "      <td></td>\n",
              "      <td></td>\n",
              "      <td></td>\n",
              "      <td></td>\n",
              "      <td></td>\n",
              "      <td></td>\n",
              "      <td></td>\n",
              "      <td></td>\n",
              "      <td></td>\n",
              "      <td></td>\n",
              "      <td></td>\n",
              "      <td>Monsieur</td>\n",
              "      <td>GARCIA</td>\n",
              "      <td>JEAN-MARC</td>\n",
              "      <td>garciajeanmarc@gmail.com</td>\n",
              "      <td>695060605</td>\n",
              "      <td>ABITTAN SMADJA</td>\n",
              "      <td>0000-00-00</td>\n",
              "      <td>non</td>\n",
              "      <td>on</td>\n",
              "      <td>on</td>\n",
              "      <td>on</td>\n",
              "      <td>on</td>\n",
              "      <td>on</td>\n",
              "      <td>renouvellement</td>\n",
              "      <td>533127</td>\n",
              "      <td>Séniors + Loisirs + CE</td>\n",
              "      <td>non</td>\n",
              "      <td>non</td>\n",
              "      <td>460.00</td>\n",
              "      <td>0.00</td>\n",
              "      <td></td>\n",
              "      <td>460.00</td>\n",
              "      <td>459.90</td>\n",
              "      <td>0.00</td>\n",
              "      <td>0.00</td>\n",
              "      <td>0</td>\n",
              "      <td>0.00</td>\n",
              "      <td>0.00</td>\n",
              "      <td>0.00</td>\n",
              "      <td></td>\n",
              "      <td>0.00</td>\n",
              "      <td>0.00</td>\n",
              "      <td></td>\n",
              "      <td>0.00</td>\n",
              "      <td>459.90</td>\n",
              "      <td>False</td>\n",
              "    </tr>\n",
              "    <tr>\n",
              "      <th>377</th>\n",
              "      <td>2021-2022</td>\n",
              "      <td>Validé</td>\n",
              "      <td>2021-10-31 19:00:36</td>\n",
              "      <td>Monsieur</td>\n",
              "      <td>VIENNE</td>\n",
              "      <td>GILLES</td>\n",
              "      <td>gilles.vienne@gmail.com</td>\n",
              "      <td>614366472</td>\n",
              "      <td>165 rue jean baptiste charcot</td>\n",
              "      <td>92400</td>\n",
              "      <td>courbevoie</td>\n",
              "      <td>FR</td>\n",
              "      <td>FR</td>\n",
              "      <td>0000-00-00</td>\n",
              "      <td>officier carrière</td>\n",
              "      <td>ministère armées</td>\n",
              "      <td></td>\n",
              "      <td></td>\n",
              "      <td></td>\n",
              "      <td></td>\n",
              "      <td></td>\n",
              "      <td></td>\n",
              "      <td></td>\n",
              "      <td></td>\n",
              "      <td></td>\n",
              "      <td></td>\n",
              "      <td>Madame</td>\n",
              "      <td>VIENNE</td>\n",
              "      <td>SANDRINE</td>\n",
              "      <td>sandrine.vienne@gmail.com</td>\n",
              "      <td>618994951</td>\n",
              "      <td>montigny</td>\n",
              "      <td>0000-00-00</td>\n",
              "      <td>non</td>\n",
              "      <td>on</td>\n",
              "      <td>on</td>\n",
              "      <td>on</td>\n",
              "      <td>on</td>\n",
              "      <td>on</td>\n",
              "      <td>renouvellement</td>\n",
              "      <td>413319</td>\n",
              "      <td>Séniors + Loisirs + CE</td>\n",
              "      <td>non</td>\n",
              "      <td>non</td>\n",
              "      <td>460.00</td>\n",
              "      <td>0.00</td>\n",
              "      <td></td>\n",
              "      <td>460.00</td>\n",
              "      <td>0.00</td>\n",
              "      <td>0.00</td>\n",
              "      <td>460.00</td>\n",
              "      <td>3</td>\n",
              "      <td>0.00</td>\n",
              "      <td>0.00</td>\n",
              "      <td>0.00</td>\n",
              "      <td></td>\n",
              "      <td>0.00</td>\n",
              "      <td>0.00</td>\n",
              "      <td></td>\n",
              "      <td>0.00</td>\n",
              "      <td>460.00</td>\n",
              "      <td>False</td>\n",
              "    </tr>\n",
              "  </tbody>\n",
              "</table>\n",
              "</div>"
            ],
            "text/plain": [
              "        saison  statut  ... montant_total already_processed\n",
              "4    2021-2022  Validé  ...        460.00             False\n",
              "95   2021-2022  Validé  ...        310.00             False\n",
              "153  2021-2022  Validé  ...        459.90             False\n",
              "377  2021-2022  Validé  ...        460.00             False\n",
              "\n",
              "[4 rows x 62 columns]"
            ]
          },
          "metadata": {},
          "execution_count": 6
        }
      ]
    },
    {
      "cell_type": "code",
      "metadata": {
        "colab": {
          "base_uri": "https://localhost:8080/",
          "height": 69
        },
        "id": "fWysLb-FEqUH",
        "outputId": "6e9d49d2-87c9-4ddd-ed2a-f0f24f081fe8"
      },
      "source": [
        "df_ddl_2 =df_inscriptions[df_inscriptions['naissance']=='']\n",
        "df_ddl_2"
      ],
      "execution_count": null,
      "outputs": [
        {
          "output_type": "execute_result",
          "data": {
            "text/html": [
              "<div>\n",
              "<style scoped>\n",
              "    .dataframe tbody tr th:only-of-type {\n",
              "        vertical-align: middle;\n",
              "    }\n",
              "\n",
              "    .dataframe tbody tr th {\n",
              "        vertical-align: top;\n",
              "    }\n",
              "\n",
              "    .dataframe thead th {\n",
              "        text-align: right;\n",
              "    }\n",
              "</style>\n",
              "<table border=\"1\" class=\"dataframe\">\n",
              "  <thead>\n",
              "    <tr style=\"text-align: right;\">\n",
              "      <th></th>\n",
              "      <th>saison</th>\n",
              "      <th>statut</th>\n",
              "      <th>date_statut</th>\n",
              "      <th>civil</th>\n",
              "      <th>nom</th>\n",
              "      <th>prenom</th>\n",
              "      <th>email</th>\n",
              "      <th>tel</th>\n",
              "      <th>adresse</th>\n",
              "      <th>cp</th>\n",
              "      <th>ville</th>\n",
              "      <th>pays</th>\n",
              "      <th>nationalite</th>\n",
              "      <th>naissance</th>\n",
              "      <th>profession</th>\n",
              "      <th>entreprise</th>\n",
              "      <th>parent1_civil</th>\n",
              "      <th>parent1_nom</th>\n",
              "      <th>parent1_prenom</th>\n",
              "      <th>parent1_email</th>\n",
              "      <th>parent1_tel</th>\n",
              "      <th>parent2_civil</th>\n",
              "      <th>parent2_nom</th>\n",
              "      <th>parent2_prenom</th>\n",
              "      <th>parent2_email</th>\n",
              "      <th>parent2_tel</th>\n",
              "      <th>contact_civil</th>\n",
              "      <th>contact_nom</th>\n",
              "      <th>contact_prenom</th>\n",
              "      <th>contact_email</th>\n",
              "      <th>contact_tel</th>\n",
              "      <th>docteur_nom</th>\n",
              "      <th>docteur_date</th>\n",
              "      <th>handicap</th>\n",
              "      <th>reglement</th>\n",
              "      <th>documentation</th>\n",
              "      <th>benevolat</th>\n",
              "      <th>nager</th>\n",
              "      <th>assurance</th>\n",
              "      <th>type</th>\n",
              "      <th>licence</th>\n",
              "      <th>categorie</th>\n",
              "      <th>garage</th>\n",
              "      <th>optioncomp</th>\n",
              "      <th>montant</th>\n",
              "      <th>reduction</th>\n",
              "      <th>motifreduction</th>\n",
              "      <th>netapayer</th>\n",
              "      <th>paiement_helloasso</th>\n",
              "      <th>virement</th>\n",
              "      <th>cheque</th>\n",
              "      <th>nbcheques</th>\n",
              "      <th>chequesvacances</th>\n",
              "      <th>couponsport</th>\n",
              "      <th>pass92</th>\n",
              "      <th>caution_nom</th>\n",
              "      <th>caution</th>\n",
              "      <th>especes</th>\n",
              "      <th>autre_details</th>\n",
              "      <th>autre</th>\n",
              "      <th>montant_total</th>\n",
              "      <th>already_processed</th>\n",
              "    </tr>\n",
              "  </thead>\n",
              "  <tbody>\n",
              "  </tbody>\n",
              "</table>\n",
              "</div>"
            ],
            "text/plain": [
              "Empty DataFrame\n",
              "Columns: [saison, statut, date_statut, civil, nom, prenom, email, tel, adresse, cp, ville, pays, nationalite, naissance, profession, entreprise, parent1_civil, parent1_nom, parent1_prenom, parent1_email, parent1_tel, parent2_civil, parent2_nom, parent2_prenom, parent2_email, parent2_tel, contact_civil, contact_nom, contact_prenom, contact_email, contact_tel, docteur_nom, docteur_date, handicap, reglement, documentation, benevolat, nager, assurance, type, licence, categorie, garage, optioncomp, montant, reduction, motifreduction, netapayer, paiement_helloasso, virement, cheque, nbcheques, chequesvacances, couponsport, pass92, caution_nom, caution, especes, autre_details, autre, montant_total, already_processed]\n",
              "Index: []"
            ]
          },
          "metadata": {},
          "execution_count": 7
        }
      ]
    },
    {
      "cell_type": "code",
      "metadata": {
        "id": "oIBV-kYHyWgr"
      },
      "source": [
        "df_inscriptions = df_inscriptions[df_inscriptions['naissance']!='0000-00-00']\n",
        "df_inscriptions = df_inscriptions[df_inscriptions['naissance']!='']"
      ],
      "execution_count": null,
      "outputs": []
    },
    {
      "cell_type": "code",
      "metadata": {
        "id": "v-LGUT73-yvJ"
      },
      "source": [
        "from datetime import datetime\n",
        "df_inscriptions['naissance']= df_inscriptions[df_inscriptions['naissance']!='0000-00-00']['naissance'].\\\n",
        "apply(lambda x : datetime.strptime(x, '%Y-%m-%d').strftime('%d/%m/%Y'))"
      ],
      "execution_count": null,
      "outputs": []
    },
    {
      "cell_type": "code",
      "metadata": {
        "id": "WvLLqErr_JA8"
      },
      "source": [
        "df_inscriptions['sexe'] = df_inscriptions['civil'].apply(lambda x : 'H' if x == 'Monsieur' else 'F')"
      ],
      "execution_count": null,
      "outputs": []
    },
    {
      "cell_type": "code",
      "metadata": {
        "id": "5_BkjpMGvsdd"
      },
      "source": [
        "df_inscriptions = df_inscriptions[df_inscriptions.columns.drop(list(df_inscriptions.filter(regex='^parent')))]\n",
        "df_inscriptions = df_inscriptions[df_inscriptions.columns.drop(list(df_inscriptions.filter(regex='^contact')))]\n",
        "df_inscriptions = df_inscriptions[df_inscriptions.columns.drop(list(df_inscriptions.filter(regex='[a-z]*cheque[a-z]*')))]\n",
        "df_inscriptions = df_inscriptions[df_inscriptions.columns.drop(['documentation', 'benevolat', 'nager', 'assurance',\\\n",
        "                                                                'caution_nom', 'caution', 'especes', 'autre_details',\\\n",
        "                                                                'montant_total','saison','statut','date_statut','profession',\\\n",
        "                                                                'entreprise','reglement','garage','montant','reduction',\\\n",
        "                                                                'motifreduction','netapayer', 'paiement_helloasso','virement',\\\n",
        "                                                                'couponsport','pass92','autre'])]"
      ],
      "execution_count": null,
      "outputs": []
    },
    {
      "cell_type": "code",
      "metadata": {
        "id": "2d1Wl3ca2Zpz"
      },
      "source": [
        "from datetime import date,timedelta\n",
        "yesterday = date.today() - timedelta(days=1)\n",
        "yester_str = yesterday.strftime('%Y-%m-%d')"
      ],
      "execution_count": null,
      "outputs": []
    },
    {
      "cell_type": "code",
      "metadata": {
        "id": "ts-8t3Ri4cHX"
      },
      "source": [
        "df_inscriptions['docteur_date'] = df_inscriptions['docteur_date'].apply(lambda x : yester_str if x =='0000-00-00' else x)"
      ],
      "execution_count": null,
      "outputs": []
    },
    {
      "cell_type": "code",
      "metadata": {
        "id": "vX12Ns205icD"
      },
      "source": [
        "from datetime import datetime\n",
        "df_inscriptions['docteur_date']= df_inscriptions['docteur_date'].apply(lambda x : datetime.strptime(x, '%Y-%m-%d').strftime('%d/%m/%Y'))"
      ],
      "execution_count": null,
      "outputs": []
    },
    {
      "cell_type": "code",
      "metadata": {
        "id": "yt9U1LU9awqR"
      },
      "source": [
        "def reprocess_add(input_str):\n",
        "  input_str = input_str.str.replace('?','  ')\n",
        "  #input_str = input_str.replace('\\n',' ')"
      ],
      "execution_count": null,
      "outputs": []
    },
    {
      "cell_type": "code",
      "metadata": {
        "id": "uk0JEc79711u"
      },
      "source": [
        "df_inscriptions['docteur_nom'] = df_inscriptions['docteur_nom'].str.upper()\n",
        "df_inscriptions['ville'] = df_inscriptions['ville'].str.upper()\n",
        "df_inscriptions['adresse'] = df_inscriptions['adresse'].str.upper()\n",
        "df_inscriptions['email']= df_inscriptions['email'].str.lower()\n",
        "#df_inscriptions['adresse'] = df_inscriptions['adresse'].apply(lambda x : reprocess_add(x))\n",
        "#df_inscriptions['adresse'] = df_inscriptions['adresse'].apply(lambda x : reprocess_add(x))"
      ],
      "execution_count": null,
      "outputs": []
    },
    {
      "cell_type": "markdown",
      "metadata": {
        "id": "JEPF0LHOXtxJ"
      },
      "source": [
        "Split the address"
      ]
    },
    {
      "cell_type": "code",
      "metadata": {
        "id": "HqzyMKTHXsys"
      },
      "source": [
        "df_inscriptions['NumeroVoie'] = df_inscriptions['adresse'].str.split(n=2,expand=True)[0]\n",
        "df_inscriptions['TypeVoie'] = df_inscriptions['adresse'].str.split(n=2,expand=True)[1]\n",
        "df_inscriptions['LibelleVoie'] = df_inscriptions['adresse'].str.split(n=2,expand=True)[2]\n"
      ],
      "execution_count": null,
      "outputs": []
    },
    {
      "cell_type": "markdown",
      "metadata": {
        "id": "ToaIxnrmiif-"
      },
      "source": [
        "Read the tab with the licences already taken"
      ]
    },
    {
      "cell_type": "code",
      "metadata": {
        "colab": {
          "base_uri": "https://localhost:8080/",
          "height": 452
        },
        "id": "F9CA0Qlab9hT",
        "outputId": "9c8d58d6-e7e5-4b10-bc8e-26329010e72c"
      },
      "source": [
        "df_inscriptions.head()"
      ],
      "execution_count": null,
      "outputs": [
        {
          "output_type": "execute_result",
          "data": {
            "text/html": [
              "<div>\n",
              "<style scoped>\n",
              "    .dataframe tbody tr th:only-of-type {\n",
              "        vertical-align: middle;\n",
              "    }\n",
              "\n",
              "    .dataframe tbody tr th {\n",
              "        vertical-align: top;\n",
              "    }\n",
              "\n",
              "    .dataframe thead th {\n",
              "        text-align: right;\n",
              "    }\n",
              "</style>\n",
              "<table border=\"1\" class=\"dataframe\">\n",
              "  <thead>\n",
              "    <tr style=\"text-align: right;\">\n",
              "      <th></th>\n",
              "      <th>civil</th>\n",
              "      <th>nom</th>\n",
              "      <th>prenom</th>\n",
              "      <th>email</th>\n",
              "      <th>tel</th>\n",
              "      <th>adresse</th>\n",
              "      <th>cp</th>\n",
              "      <th>ville</th>\n",
              "      <th>pays</th>\n",
              "      <th>nationalite</th>\n",
              "      <th>naissance</th>\n",
              "      <th>docteur_nom</th>\n",
              "      <th>docteur_date</th>\n",
              "      <th>handicap</th>\n",
              "      <th>type</th>\n",
              "      <th>licence</th>\n",
              "      <th>categorie</th>\n",
              "      <th>optioncomp</th>\n",
              "      <th>already_processed</th>\n",
              "      <th>sexe</th>\n",
              "      <th>NumeroVoie</th>\n",
              "      <th>TypeVoie</th>\n",
              "      <th>LibelleVoie</th>\n",
              "    </tr>\n",
              "  </thead>\n",
              "  <tbody>\n",
              "    <tr>\n",
              "      <th>2</th>\n",
              "      <td>Monsieur</td>\n",
              "      <td>ALBANEL</td>\n",
              "      <td>GEOFFROY</td>\n",
              "      <td>galbanel@free.fr</td>\n",
              "      <td>608461321</td>\n",
              "      <td>38 BD DU GÉNÉRAL LECLERC</td>\n",
              "      <td>92200</td>\n",
              "      <td>NEUILLY SUR SEINE</td>\n",
              "      <td>FR</td>\n",
              "      <td>FR</td>\n",
              "      <td>11/07/1957</td>\n",
              "      <td>AUDE ALBANEL GUINARD</td>\n",
              "      <td>26/04/2021</td>\n",
              "      <td>non</td>\n",
              "      <td>adhésion</td>\n",
              "      <td>111923</td>\n",
              "      <td>Séniors + Loisirs + CE</td>\n",
              "      <td>non</td>\n",
              "      <td>False</td>\n",
              "      <td>H</td>\n",
              "      <td>38</td>\n",
              "      <td>BD</td>\n",
              "      <td>DU GÉNÉRAL LECLERC</td>\n",
              "    </tr>\n",
              "    <tr>\n",
              "      <th>5</th>\n",
              "      <td>Madame</td>\n",
              "      <td>ALTHERR</td>\n",
              "      <td>ARIANE</td>\n",
              "      <td>arianealtherr@gmail.com</td>\n",
              "      <td>789651041</td>\n",
              "      <td>48 RUE JEAN-PIERRE TIMBAUD</td>\n",
              "      <td>92400</td>\n",
              "      <td>COURBEVOIE</td>\n",
              "      <td>FR</td>\n",
              "      <td>FR</td>\n",
              "      <td>26/03/2002</td>\n",
              "      <td>SELLE</td>\n",
              "      <td>24/08/2020</td>\n",
              "      <td>non</td>\n",
              "      <td>renouvellement</td>\n",
              "      <td></td>\n",
              "      <td>Séniors + Loisirs + CE</td>\n",
              "      <td>non</td>\n",
              "      <td>False</td>\n",
              "      <td>F</td>\n",
              "      <td>48</td>\n",
              "      <td>RUE</td>\n",
              "      <td>JEAN-PIERRE TIMBAUD</td>\n",
              "    </tr>\n",
              "    <tr>\n",
              "      <th>11</th>\n",
              "      <td>Monsieur</td>\n",
              "      <td>BAKER</td>\n",
              "      <td>ELIOTT</td>\n",
              "      <td>violette.baker@gmail.com</td>\n",
              "      <td>663146924</td>\n",
              "      <td>39 AVENUE DE L'ARCHE</td>\n",
              "      <td>92400</td>\n",
              "      <td>COURBEVOIE</td>\n",
              "      <td>FR</td>\n",
              "      <td>FR</td>\n",
              "      <td>26/10/2009</td>\n",
              "      <td></td>\n",
              "      <td>05/12/2021</td>\n",
              "      <td>non</td>\n",
              "      <td>adhésion</td>\n",
              "      <td></td>\n",
              "      <td>J11 / J16 - né(e) en 2005 et après</td>\n",
              "      <td>non</td>\n",
              "      <td>False</td>\n",
              "      <td>H</td>\n",
              "      <td>39</td>\n",
              "      <td>AVENUE</td>\n",
              "      <td>DE L'ARCHE</td>\n",
              "    </tr>\n",
              "    <tr>\n",
              "      <th>14</th>\n",
              "      <td>Monsieur</td>\n",
              "      <td>BARA--BUTEZ</td>\n",
              "      <td>CHARLY</td>\n",
              "      <td>c.barabutez@free.fr</td>\n",
              "      <td>661949341</td>\n",
              "      <td>32 RUE JEAN BONAL</td>\n",
              "      <td>92250</td>\n",
              "      <td>LA GARENNE-COLOMBES</td>\n",
              "      <td>FR</td>\n",
              "      <td>FR</td>\n",
              "      <td>26/07/2006</td>\n",
              "      <td>ELOISE BLEICHNER</td>\n",
              "      <td>04/09/2021</td>\n",
              "      <td>non</td>\n",
              "      <td>renouvellement</td>\n",
              "      <td></td>\n",
              "      <td>J11 / J16 - né(e) en 2005 et après</td>\n",
              "      <td>non</td>\n",
              "      <td>False</td>\n",
              "      <td>H</td>\n",
              "      <td>32</td>\n",
              "      <td>RUE</td>\n",
              "      <td>JEAN BONAL</td>\n",
              "    </tr>\n",
              "    <tr>\n",
              "      <th>17</th>\n",
              "      <td>Madame</td>\n",
              "      <td>BARDOUX</td>\n",
              "      <td>ANNE-FRANCE</td>\n",
              "      <td>af.bardoux@gmail.com</td>\n",
              "      <td>603614632</td>\n",
              "      <td>333 BD SAINT DENIS</td>\n",
              "      <td>92400</td>\n",
              "      <td>COURBEVOIE</td>\n",
              "      <td>FR</td>\n",
              "      <td>FR</td>\n",
              "      <td>16/08/1964</td>\n",
              "      <td>CLAIRE LE BELLEGO</td>\n",
              "      <td>24/02/2020</td>\n",
              "      <td>non</td>\n",
              "      <td>adhésion</td>\n",
              "      <td></td>\n",
              "      <td>Séniors + Loisirs + CE</td>\n",
              "      <td>non</td>\n",
              "      <td>False</td>\n",
              "      <td>F</td>\n",
              "      <td>333</td>\n",
              "      <td>BD</td>\n",
              "      <td>SAINT DENIS</td>\n",
              "    </tr>\n",
              "  </tbody>\n",
              "</table>\n",
              "</div>"
            ],
            "text/plain": [
              "       civil          nom       prenom  ... NumeroVoie TypeVoie          LibelleVoie\n",
              "2   Monsieur      ALBANEL     GEOFFROY  ...         38       BD   DU GÉNÉRAL LECLERC\n",
              "5     Madame      ALTHERR       ARIANE  ...         48      RUE  JEAN-PIERRE TIMBAUD\n",
              "11  Monsieur        BAKER       ELIOTT  ...         39   AVENUE           DE L'ARCHE\n",
              "14  Monsieur  BARA--BUTEZ       CHARLY  ...         32      RUE           JEAN BONAL\n",
              "17    Madame      BARDOUX  ANNE-FRANCE  ...        333       BD          SAINT DENIS\n",
              "\n",
              "[5 rows x 23 columns]"
            ]
          },
          "metadata": {},
          "execution_count": 18
        }
      ]
    },
    {
      "cell_type": "code",
      "metadata": {
        "id": "sjhF6W2-irSL"
      },
      "source": [
        "worksheet = gc.open_by_url('https://docs.google.com/spreadsheets/d/1SCruyMO_mncyvIF8kA9HEN2cTabM8ge3Mj2Ia_yG8Uk/edit#gid=464665913').worksheet('licences_deja_prises')\n",
        "\n",
        "# get_all_values gives a list of rows.\n",
        "rows = worksheet.get_all_values()\n",
        "\n",
        "import pandas as pd\n",
        "df_licences = pd.DataFrame.from_records(rows,columns=rows[0])"
      ],
      "execution_count": null,
      "outputs": []
    },
    {
      "cell_type": "code",
      "metadata": {
        "id": "yu8pQZRNjTa8"
      },
      "source": [
        "df_licences = df_licences.drop(0).reindex()"
      ],
      "execution_count": null,
      "outputs": []
    },
    {
      "cell_type": "code",
      "metadata": {
        "id": "YuYdTOR3jaL1"
      },
      "source": [
        "import unicodedata\n",
        "\n",
        "def remove_accents(input_str):\n",
        "  # remove simple quote and '-\n",
        "  input_str = input_str.replace('\\'','')\n",
        "  input_str = input_str.replace('-','')\n",
        "  nfkd_form = unicodedata.normalize('NFKD', input_str)\n",
        "  return u\"\".join([c for c in nfkd_form if not unicodedata.combining(c)])"
      ],
      "execution_count": null,
      "outputs": []
    },
    {
      "cell_type": "markdown",
      "metadata": {
        "id": "UJP32KBLvr5K"
      },
      "source": [
        "remove the accent for 1st name and last name\n"
      ]
    },
    {
      "cell_type": "code",
      "metadata": {
        "id": "Qfc_HiE4vrNV"
      },
      "source": [
        "df_licences['NOM'] = df_licences['NOM'].apply(lambda x : remove_accents(x))\n",
        "df_licences['PRENOM'] = df_licences['PRENOM'].apply(lambda x : remove_accents(x))\n",
        "df_inscriptions['nom'] = df_inscriptions['nom'].apply(lambda x : remove_accents(x))\n",
        "df_inscriptions['prenom'] = df_inscriptions['prenom'].apply(lambda x : remove_accents(x))\n",
        "\n"
      ],
      "execution_count": null,
      "outputs": []
    },
    {
      "cell_type": "code",
      "metadata": {
        "id": "_LQOfsPIjsfM"
      },
      "source": [
        "df_licencies = pd.DataFrame(data=df_licences['NOM'] + '_' + df_licences['PRENOM'] + '_' + df_licences['DATE NAISSANCE'], columns=['key'])\n",
        "df_licencies.sort_values(by='key', inplace=True)\n",
        "df_licencies = df_licencies.reset_index()"
      ],
      "execution_count": null,
      "outputs": []
    },
    {
      "cell_type": "code",
      "metadata": {
        "colab": {
          "base_uri": "https://localhost:8080/",
          "height": 206
        },
        "id": "jpHD6sr02Hro",
        "outputId": "ce0c07c6-dff9-4626-bfc9-b0ec2972f165"
      },
      "source": [
        "df_licencies.head()"
      ],
      "execution_count": null,
      "outputs": [
        {
          "output_type": "execute_result",
          "data": {
            "text/html": [
              "<div>\n",
              "<style scoped>\n",
              "    .dataframe tbody tr th:only-of-type {\n",
              "        vertical-align: middle;\n",
              "    }\n",
              "\n",
              "    .dataframe tbody tr th {\n",
              "        vertical-align: top;\n",
              "    }\n",
              "\n",
              "    .dataframe thead th {\n",
              "        text-align: right;\n",
              "    }\n",
              "</style>\n",
              "<table border=\"1\" class=\"dataframe\">\n",
              "  <thead>\n",
              "    <tr style=\"text-align: right;\">\n",
              "      <th></th>\n",
              "      <th>index</th>\n",
              "      <th>key</th>\n",
              "    </tr>\n",
              "  </thead>\n",
              "  <tbody>\n",
              "    <tr>\n",
              "      <th>0</th>\n",
              "      <td>39</td>\n",
              "      <td>ACHACHE_LAURENT_23/08/1958</td>\n",
              "    </tr>\n",
              "    <tr>\n",
              "      <th>1</th>\n",
              "      <td>256</td>\n",
              "      <td>ALBANEL_GEOFFROY_11/07/1957</td>\n",
              "    </tr>\n",
              "    <tr>\n",
              "      <th>2</th>\n",
              "      <td>7</td>\n",
              "      <td>ALEXANDRE_OLIVIER_28/05/1958</td>\n",
              "    </tr>\n",
              "    <tr>\n",
              "      <th>3</th>\n",
              "      <td>297</td>\n",
              "      <td>ALTHERR_ARIANE_26/03/2002</td>\n",
              "    </tr>\n",
              "    <tr>\n",
              "      <th>4</th>\n",
              "      <td>8</td>\n",
              "      <td>ALVIN_MAXIMILIEN_09/02/1984</td>\n",
              "    </tr>\n",
              "  </tbody>\n",
              "</table>\n",
              "</div>"
            ],
            "text/plain": [
              "   index                           key\n",
              "0     39    ACHACHE_LAURENT_23/08/1958\n",
              "1    256   ALBANEL_GEOFFROY_11/07/1957\n",
              "2      7  ALEXANDRE_OLIVIER_28/05/1958\n",
              "3    297     ALTHERR_ARIANE_26/03/2002\n",
              "4      8   ALVIN_MAXIMILIEN_09/02/1984"
            ]
          },
          "metadata": {},
          "execution_count": 24
        }
      ]
    },
    {
      "cell_type": "code",
      "metadata": {
        "colab": {
          "base_uri": "https://localhost:8080/"
        },
        "id": "5OebAUL23Qol",
        "outputId": "687b9fa5-e40b-45d0-c530-6de4cbf5e2fc"
      },
      "source": [
        "!pip install jaro-winkler"
      ],
      "execution_count": null,
      "outputs": [
        {
          "output_type": "stream",
          "name": "stdout",
          "text": [
            "Collecting jaro-winkler\n",
            "  Downloading jaro_winkler-2.0.0-py3-none-any.whl (33 kB)\n",
            "Installing collected packages: jaro-winkler\n",
            "Successfully installed jaro-winkler-2.0.0\n"
          ]
        }
      ]
    },
    {
      "cell_type": "code",
      "metadata": {
        "id": "chQ6fb0J3csw"
      },
      "source": [
        "import jaro\n",
        "def jaro_distance_words(s, d):\n",
        "    r = {}\n",
        "    for i in range(0,len(d)-1,1):\n",
        "        r[i] = jaro.jaro_metric(s, d[i])\n",
        "        \n",
        "    return r"
      ],
      "execution_count": null,
      "outputs": []
    },
    {
      "cell_type": "code",
      "metadata": {
        "id": "rAbMCxT969lY"
      },
      "source": [
        "# create a similar key on the inscriptions dataset\n",
        "df_inscriptions = df_inscriptions.reset_index()\n",
        "df_inscriptions['key'] = df_inscriptions['nom'] + '_' + df_inscriptions['prenom'] + '_' + df_inscriptions['naissance']\n",
        "d = df_inscriptions.key.to_dict()"
      ],
      "execution_count": null,
      "outputs": []
    },
    {
      "cell_type": "code",
      "metadata": {
        "colab": {
          "base_uri": "https://localhost:8080/",
          "height": 452
        },
        "id": "RePt3M_XFW95",
        "outputId": "89a0fa2e-d320-419b-c73f-07c4f28c8104"
      },
      "source": [
        "df_inscriptions.head()"
      ],
      "execution_count": null,
      "outputs": [
        {
          "output_type": "execute_result",
          "data": {
            "text/html": [
              "<div>\n",
              "<style scoped>\n",
              "    .dataframe tbody tr th:only-of-type {\n",
              "        vertical-align: middle;\n",
              "    }\n",
              "\n",
              "    .dataframe tbody tr th {\n",
              "        vertical-align: top;\n",
              "    }\n",
              "\n",
              "    .dataframe thead th {\n",
              "        text-align: right;\n",
              "    }\n",
              "</style>\n",
              "<table border=\"1\" class=\"dataframe\">\n",
              "  <thead>\n",
              "    <tr style=\"text-align: right;\">\n",
              "      <th></th>\n",
              "      <th>index</th>\n",
              "      <th>civil</th>\n",
              "      <th>nom</th>\n",
              "      <th>prenom</th>\n",
              "      <th>email</th>\n",
              "      <th>tel</th>\n",
              "      <th>adresse</th>\n",
              "      <th>cp</th>\n",
              "      <th>ville</th>\n",
              "      <th>pays</th>\n",
              "      <th>nationalite</th>\n",
              "      <th>naissance</th>\n",
              "      <th>docteur_nom</th>\n",
              "      <th>docteur_date</th>\n",
              "      <th>handicap</th>\n",
              "      <th>type</th>\n",
              "      <th>licence</th>\n",
              "      <th>categorie</th>\n",
              "      <th>optioncomp</th>\n",
              "      <th>already_processed</th>\n",
              "      <th>sexe</th>\n",
              "      <th>NumeroVoie</th>\n",
              "      <th>TypeVoie</th>\n",
              "      <th>LibelleVoie</th>\n",
              "      <th>key</th>\n",
              "    </tr>\n",
              "  </thead>\n",
              "  <tbody>\n",
              "    <tr>\n",
              "      <th>0</th>\n",
              "      <td>2</td>\n",
              "      <td>Monsieur</td>\n",
              "      <td>ALBANEL</td>\n",
              "      <td>GEOFFROY</td>\n",
              "      <td>galbanel@free.fr</td>\n",
              "      <td>608461321</td>\n",
              "      <td>38 BD DU GÉNÉRAL LECLERC</td>\n",
              "      <td>92200</td>\n",
              "      <td>NEUILLY SUR SEINE</td>\n",
              "      <td>FR</td>\n",
              "      <td>FR</td>\n",
              "      <td>11/07/1957</td>\n",
              "      <td>AUDE ALBANEL GUINARD</td>\n",
              "      <td>26/04/2021</td>\n",
              "      <td>non</td>\n",
              "      <td>adhésion</td>\n",
              "      <td>111923</td>\n",
              "      <td>Séniors + Loisirs + CE</td>\n",
              "      <td>non</td>\n",
              "      <td>False</td>\n",
              "      <td>H</td>\n",
              "      <td>38</td>\n",
              "      <td>BD</td>\n",
              "      <td>DU GÉNÉRAL LECLERC</td>\n",
              "      <td>ALBANEL_GEOFFROY_11/07/1957</td>\n",
              "    </tr>\n",
              "    <tr>\n",
              "      <th>1</th>\n",
              "      <td>5</td>\n",
              "      <td>Madame</td>\n",
              "      <td>ALTHERR</td>\n",
              "      <td>ARIANE</td>\n",
              "      <td>arianealtherr@gmail.com</td>\n",
              "      <td>789651041</td>\n",
              "      <td>48 RUE JEAN-PIERRE TIMBAUD</td>\n",
              "      <td>92400</td>\n",
              "      <td>COURBEVOIE</td>\n",
              "      <td>FR</td>\n",
              "      <td>FR</td>\n",
              "      <td>26/03/2002</td>\n",
              "      <td>SELLE</td>\n",
              "      <td>24/08/2020</td>\n",
              "      <td>non</td>\n",
              "      <td>renouvellement</td>\n",
              "      <td></td>\n",
              "      <td>Séniors + Loisirs + CE</td>\n",
              "      <td>non</td>\n",
              "      <td>False</td>\n",
              "      <td>F</td>\n",
              "      <td>48</td>\n",
              "      <td>RUE</td>\n",
              "      <td>JEAN-PIERRE TIMBAUD</td>\n",
              "      <td>ALTHERR_ARIANE_26/03/2002</td>\n",
              "    </tr>\n",
              "    <tr>\n",
              "      <th>2</th>\n",
              "      <td>11</td>\n",
              "      <td>Monsieur</td>\n",
              "      <td>BAKER</td>\n",
              "      <td>ELIOTT</td>\n",
              "      <td>violette.baker@gmail.com</td>\n",
              "      <td>663146924</td>\n",
              "      <td>39 AVENUE DE L'ARCHE</td>\n",
              "      <td>92400</td>\n",
              "      <td>COURBEVOIE</td>\n",
              "      <td>FR</td>\n",
              "      <td>FR</td>\n",
              "      <td>26/10/2009</td>\n",
              "      <td></td>\n",
              "      <td>05/12/2021</td>\n",
              "      <td>non</td>\n",
              "      <td>adhésion</td>\n",
              "      <td></td>\n",
              "      <td>J11 / J16 - né(e) en 2005 et après</td>\n",
              "      <td>non</td>\n",
              "      <td>False</td>\n",
              "      <td>H</td>\n",
              "      <td>39</td>\n",
              "      <td>AVENUE</td>\n",
              "      <td>DE L'ARCHE</td>\n",
              "      <td>BAKER_ELIOTT_26/10/2009</td>\n",
              "    </tr>\n",
              "    <tr>\n",
              "      <th>3</th>\n",
              "      <td>14</td>\n",
              "      <td>Monsieur</td>\n",
              "      <td>BARABUTEZ</td>\n",
              "      <td>CHARLY</td>\n",
              "      <td>c.barabutez@free.fr</td>\n",
              "      <td>661949341</td>\n",
              "      <td>32 RUE JEAN BONAL</td>\n",
              "      <td>92250</td>\n",
              "      <td>LA GARENNE-COLOMBES</td>\n",
              "      <td>FR</td>\n",
              "      <td>FR</td>\n",
              "      <td>26/07/2006</td>\n",
              "      <td>ELOISE BLEICHNER</td>\n",
              "      <td>04/09/2021</td>\n",
              "      <td>non</td>\n",
              "      <td>renouvellement</td>\n",
              "      <td></td>\n",
              "      <td>J11 / J16 - né(e) en 2005 et après</td>\n",
              "      <td>non</td>\n",
              "      <td>False</td>\n",
              "      <td>H</td>\n",
              "      <td>32</td>\n",
              "      <td>RUE</td>\n",
              "      <td>JEAN BONAL</td>\n",
              "      <td>BARABUTEZ_CHARLY_26/07/2006</td>\n",
              "    </tr>\n",
              "    <tr>\n",
              "      <th>4</th>\n",
              "      <td>17</td>\n",
              "      <td>Madame</td>\n",
              "      <td>BARDOUX</td>\n",
              "      <td>ANNEFRANCE</td>\n",
              "      <td>af.bardoux@gmail.com</td>\n",
              "      <td>603614632</td>\n",
              "      <td>333 BD SAINT DENIS</td>\n",
              "      <td>92400</td>\n",
              "      <td>COURBEVOIE</td>\n",
              "      <td>FR</td>\n",
              "      <td>FR</td>\n",
              "      <td>16/08/1964</td>\n",
              "      <td>CLAIRE LE BELLEGO</td>\n",
              "      <td>24/02/2020</td>\n",
              "      <td>non</td>\n",
              "      <td>adhésion</td>\n",
              "      <td></td>\n",
              "      <td>Séniors + Loisirs + CE</td>\n",
              "      <td>non</td>\n",
              "      <td>False</td>\n",
              "      <td>F</td>\n",
              "      <td>333</td>\n",
              "      <td>BD</td>\n",
              "      <td>SAINT DENIS</td>\n",
              "      <td>BARDOUX_ANNEFRANCE_16/08/1964</td>\n",
              "    </tr>\n",
              "  </tbody>\n",
              "</table>\n",
              "</div>"
            ],
            "text/plain": [
              "   index     civil  ...          LibelleVoie                            key\n",
              "0      2  Monsieur  ...   DU GÉNÉRAL LECLERC    ALBANEL_GEOFFROY_11/07/1957\n",
              "1      5    Madame  ...  JEAN-PIERRE TIMBAUD      ALTHERR_ARIANE_26/03/2002\n",
              "2     11  Monsieur  ...           DE L'ARCHE        BAKER_ELIOTT_26/10/2009\n",
              "3     14  Monsieur  ...           JEAN BONAL    BARABUTEZ_CHARLY_26/07/2006\n",
              "4     17    Madame  ...          SAINT DENIS  BARDOUX_ANNEFRANCE_16/08/1964\n",
              "\n",
              "[5 rows x 25 columns]"
            ]
          },
          "metadata": {},
          "execution_count": 28
        }
      ]
    },
    {
      "cell_type": "code",
      "metadata": {
        "id": "nEFahSuX57Ye"
      },
      "source": [
        "df_licencies['jaro'] = df_licencies['key'].apply(lambda x: jaro_distance_words(x,d))"
      ],
      "execution_count": null,
      "outputs": []
    },
    {
      "cell_type": "code",
      "metadata": {
        "id": "71_26_jAEuUs"
      },
      "source": [
        "test_str = 'ALBANEL_GEOFFROY_11/07/1957'\n",
        "d_jaro = jaro_distance_words(test_str, d)"
      ],
      "execution_count": null,
      "outputs": []
    },
    {
      "cell_type": "code",
      "metadata": {
        "colab": {
          "base_uri": "https://localhost:8080/"
        },
        "id": "oZCkdpdybAAN",
        "outputId": "9e3946e1-e8ac-47f4-f892-bd45d2f3ddee"
      },
      "source": [
        "# sort the dictionnary in a list of pairs (index, distance)\n",
        "d_jaro_sorted = sorted(d_jaro.items(), key=lambda item: item[1], reverse=True)\n",
        "# display the 5 firsts\n",
        "d_jaro_sorted[:3]"
      ],
      "execution_count": null,
      "outputs": [
        {
          "output_type": "execute_result",
          "data": {
            "text/plain": [
              "[(0, 1.0), (104, 0.7314814814814814), (62, 0.7286340103544404)]"
            ]
          },
          "metadata": {},
          "execution_count": 46
        }
      ]
    },
    {
      "cell_type": "code",
      "metadata": {
        "id": "LdWvY_-WEDZJ"
      },
      "source": [
        "df_licencies['3_similar'] = df_licencies['jaro'].apply(lambda x: list(sorted(x.items(), key=lambda item: item[1], reverse=True))[:3])"
      ],
      "execution_count": null,
      "outputs": []
    },
    {
      "cell_type": "code",
      "metadata": {
        "colab": {
          "base_uri": "https://localhost:8080/"
        },
        "id": "c92qVCvZfcwj",
        "outputId": "acbcd24f-1ebc-439a-8319-580f3dd1c5b5"
      },
      "source": [
        "d_jaro_sorted[1][0]"
      ],
      "execution_count": null,
      "outputs": [
        {
          "output_type": "execute_result",
          "data": {
            "text/plain": [
              "104"
            ]
          },
          "metadata": {},
          "execution_count": 50
        }
      ]
    },
    {
      "cell_type": "code",
      "metadata": {
        "colab": {
          "base_uri": "https://localhost:8080/",
          "height": 35
        },
        "id": "TLE4ZhjbKjdP",
        "outputId": "2db973df-add9-45c6-9d9e-d7dcb70ef30b"
      },
      "source": [
        "# keep only the greatest distance\n",
        "df_licencies['match'] = df_licencies['3_similar'].apply(lambda x : d[x[0][0]] if (x[0][1]> 0.8) else 'N/A')\n",
        "d[77]"
      ],
      "execution_count": null,
      "outputs": [
        {
          "output_type": "execute_result",
          "data": {
            "application/vnd.google.colaboratory.intrinsic+json": {
              "type": "string"
            },
            "text/plain": [
              "'MAYET_CAROLINE_31/10/1972'"
            ]
          },
          "metadata": {},
          "execution_count": 57
        }
      ]
    },
    {
      "cell_type": "code",
      "metadata": {
        "colab": {
          "base_uri": "https://localhost:8080/",
          "height": 363
        },
        "id": "dCDfp5xb9r06",
        "outputId": "8287ffbf-faf6-4841-9b4a-f943e293b1bd"
      },
      "source": [
        "df_licencies.head(10)"
      ],
      "execution_count": null,
      "outputs": [
        {
          "output_type": "execute_result",
          "data": {
            "text/html": [
              "<div>\n",
              "<style scoped>\n",
              "    .dataframe tbody tr th:only-of-type {\n",
              "        vertical-align: middle;\n",
              "    }\n",
              "\n",
              "    .dataframe tbody tr th {\n",
              "        vertical-align: top;\n",
              "    }\n",
              "\n",
              "    .dataframe thead th {\n",
              "        text-align: right;\n",
              "    }\n",
              "</style>\n",
              "<table border=\"1\" class=\"dataframe\">\n",
              "  <thead>\n",
              "    <tr style=\"text-align: right;\">\n",
              "      <th></th>\n",
              "      <th>index</th>\n",
              "      <th>key</th>\n",
              "      <th>jaro</th>\n",
              "      <th>3_similar</th>\n",
              "      <th>match</th>\n",
              "    </tr>\n",
              "  </thead>\n",
              "  <tbody>\n",
              "    <tr>\n",
              "      <th>0</th>\n",
              "      <td>39</td>\n",
              "      <td>ACHACHE_LAURENT_23/08/1958</td>\n",
              "      <td>{0: 0.5997150997150996, 1: 0.6603016591251886,...</td>\n",
              "      <td>[(77, 0.7115099715099715), (37, 0.701386427192...</td>\n",
              "      <td>N/A</td>\n",
              "    </tr>\n",
              "    <tr>\n",
              "      <th>1</th>\n",
              "      <td>256</td>\n",
              "      <td>ALBANEL_GEOFFROY_11/07/1957</td>\n",
              "      <td>{0: 1.0, 1: 0.5581481481481482, 2: 0.613833294...</td>\n",
              "      <td>[(0, 1.0), (104, 0.7314814814814814), (62, 0.7...</td>\n",
              "      <td>ALBANEL_GEOFFROY_11/07/1957</td>\n",
              "    </tr>\n",
              "    <tr>\n",
              "      <th>2</th>\n",
              "      <td>7</td>\n",
              "      <td>ALEXANDRE_OLIVIER_28/05/1958</td>\n",
              "      <td>{0: 0.6279437701006328, 1: 0.6452380952380953,...</td>\n",
              "      <td>[(20, 0.7346469622331693), (100, 0.71560846560...</td>\n",
              "      <td>N/A</td>\n",
              "    </tr>\n",
              "    <tr>\n",
              "      <th>3</th>\n",
              "      <td>297</td>\n",
              "      <td>ALTHERR_ARIANE_26/03/2002</td>\n",
              "      <td>{0: 0.5581481481481482, 1: 1.0, 2: 0.747553282...</td>\n",
              "      <td>[(1, 1.0), (21, 0.7522222222222221), (2, 0.747...</td>\n",
              "      <td>ALTHERR_ARIANE_26/03/2002</td>\n",
              "    </tr>\n",
              "    <tr>\n",
              "      <th>4</th>\n",
              "      <td>8</td>\n",
              "      <td>ALVIN_MAXIMILIEN_09/02/1984</td>\n",
              "      <td>{0: 0.5517568850902185, 1: 0.5645963912630579,...</td>\n",
              "      <td>[(89, 0.7023350650801632), (87, 0.700889615105...</td>\n",
              "      <td>N/A</td>\n",
              "    </tr>\n",
              "    <tr>\n",
              "      <th>5</th>\n",
              "      <td>89</td>\n",
              "      <td>ANDREAN_CHARLOTTE_13/03/1974</td>\n",
              "      <td>{0: 0.6279437701006328, 1: 0.644733893557423, ...</td>\n",
              "      <td>[(4, 0.7612205801860975), (72, 0.7539682539682...</td>\n",
              "      <td>N/A</td>\n",
              "    </tr>\n",
              "    <tr>\n",
              "      <th>6</th>\n",
              "      <td>40</td>\n",
              "      <td>ANDRE_DAPHNE_28/06/2009</td>\n",
              "      <td>{0: 0.5998389694041868, 1: 0.7475532821824382,...</td>\n",
              "      <td>[(30, 0.7980702162287839), (1, 0.7475532821824...</td>\n",
              "      <td>N/A</td>\n",
              "    </tr>\n",
              "    <tr>\n",
              "      <th>7</th>\n",
              "      <td>9</td>\n",
              "      <td>BADIN_ALAIN_31/01/1962</td>\n",
              "      <td>{0: 0.6230559563892898, 1: 0.5892640692640693,...</td>\n",
              "      <td>[(62, 0.7377938982353244), (77, 0.726590909090...</td>\n",
              "      <td>N/A</td>\n",
              "    </tr>\n",
              "    <tr>\n",
              "      <th>8</th>\n",
              "      <td>36</td>\n",
              "      <td>BAILLIF_FLAMINE_04/06/2008</td>\n",
              "      <td>{0: 0.5428028761362095, 1: 0.6367521367521367,...</td>\n",
              "      <td>[(66, 0.7090964590964591), (22, 0.689294871794...</td>\n",
              "      <td>N/A</td>\n",
              "    </tr>\n",
              "    <tr>\n",
              "      <th>9</th>\n",
              "      <td>296</td>\n",
              "      <td>BAJJOU_LOUIZA_21/01/2010</td>\n",
              "      <td>{0: 0.605379188712522, 1: 0.635940170940171, 2...</td>\n",
              "      <td>[(15, 0.735479797979798), (23, 0.7063888888888...</td>\n",
              "      <td>N/A</td>\n",
              "    </tr>\n",
              "  </tbody>\n",
              "</table>\n",
              "</div>"
            ],
            "text/plain": [
              "   index  ...                        match\n",
              "0     39  ...                          N/A\n",
              "1    256  ...  ALBANEL_GEOFFROY_11/07/1957\n",
              "2      7  ...                          N/A\n",
              "3    297  ...    ALTHERR_ARIANE_26/03/2002\n",
              "4      8  ...                          N/A\n",
              "5     89  ...                          N/A\n",
              "6     40  ...                          N/A\n",
              "7      9  ...                          N/A\n",
              "8     36  ...                          N/A\n",
              "9    296  ...                          N/A\n",
              "\n",
              "[10 rows x 5 columns]"
            ]
          },
          "metadata": {},
          "execution_count": 58
        }
      ]
    },
    {
      "cell_type": "markdown",
      "metadata": {
        "id": "-7KYoaiNtaDS"
      },
      "source": [
        "An then build a list of licenced persons"
      ]
    },
    {
      "cell_type": "code",
      "metadata": {
        "id": "Ee-gQtipk_WS"
      },
      "source": [
        "licencies = df_licencies.to_dict('list')['key']"
      ],
      "execution_count": null,
      "outputs": []
    },
    {
      "cell_type": "markdown",
      "metadata": {
        "id": "fadeFy3DmmN3"
      },
      "source": [
        "Check who already has a licence\n"
      ]
    },
    {
      "cell_type": "code",
      "metadata": {
        "id": "mSF-ooeCmkff"
      },
      "source": [
        "df_inscriptions['licence_prise'] = df_inscriptions['key'].apply(lambda x : True if x in licencies else False)"
      ],
      "execution_count": null,
      "outputs": []
    },
    {
      "cell_type": "markdown",
      "metadata": {
        "id": "cu-3QmoSmdDV"
      },
      "source": [
        "Then save the result : only the licence not already taken"
      ]
    },
    {
      "cell_type": "code",
      "metadata": {
        "id": "BQwmZt8MnT8h"
      },
      "source": [
        "worksheet = gc.open_by_url('https://docs.google.com/spreadsheets/d/1SCruyMO_mncyvIF8kA9HEN2cTabM8ge3Mj2Ia_yG8Uk/edit#gid=464665913').worksheet(\"Fitogram\")\n",
        "\n",
        "# get_all_values gives a list of rows.\n",
        "rows = worksheet.get_all_values()\n",
        "\n",
        "import pandas as pd\n",
        "df_fito = pd.DataFrame.from_records(rows,columns=rows[8])\n",
        "df_fito = df_fito[df_fito['Nom']!=''].drop(8).drop(9)\n",
        "df_fito = df_fito[df_fito['Email']!='']\n",
        "df_fito['Email']= df_fito['Email'].str.lower()"
      ],
      "execution_count": null,
      "outputs": []
    },
    {
      "cell_type": "code",
      "metadata": {
        "id": "J5zZJjSKthOg"
      },
      "source": [
        "l_fito = pd.DataFrame(df_fito['Email']).to_dict('list')['Email']"
      ],
      "execution_count": null,
      "outputs": []
    },
    {
      "cell_type": "markdown",
      "metadata": {
        "id": "OiwEd5cu1N4j"
      },
      "source": [
        "Then give a status to the Fitogram account by comparing the address mails\n"
      ]
    },
    {
      "cell_type": "code",
      "metadata": {
        "id": "uCY-1iPg1ZXB"
      },
      "source": [
        "df_inscriptions['is_in_fitogram'] = df_inscriptions['email'].apply(lambda x : True if x in l_fito else False)"
      ],
      "execution_count": null,
      "outputs": []
    },
    {
      "cell_type": "code",
      "metadata": {
        "id": "_avQGPIdaIcQ"
      },
      "source": [
        "df_renouvellement_fito = df_fito[df_fito['Produit actif'] == 'Licence A']"
      ],
      "execution_count": null,
      "outputs": []
    },
    {
      "cell_type": "code",
      "metadata": {
        "id": "QP77WJS-lqw7"
      },
      "source": [
        "df_renouvellement_fito = df_renouvellement_fito[df_renouvellement_fito['Abonnement (Début)'].\\\n",
        "                                                apply(lambda x : datetime.strptime(x, '%d/%m/%Y').date().year)==2020]\n"
      ],
      "execution_count": null,
      "outputs": []
    },
    {
      "cell_type": "code",
      "metadata": {
        "id": "tJct7q1zn1B8"
      },
      "source": [
        "df_renouvellement_fito2 = df_renouvellement_fito[['Prénom','Nom','Email','Anniversaire','Abonnement (Début)']]"
      ],
      "execution_count": null,
      "outputs": []
    },
    {
      "cell_type": "code",
      "metadata": {
        "id": "L3qZQQ7fsCBt"
      },
      "source": [
        "df_inscr = df_inscriptions[['email','nom','prenom']]"
      ],
      "execution_count": null,
      "outputs": []
    },
    {
      "cell_type": "code",
      "metadata": {
        "id": "XrO71IPVucWn"
      },
      "source": [
        "df_inscr = df_inscr.set_index('email')\n",
        "df_renouvellement_fito2 = df_renouvellement_fito2.set_index('Email')"
      ],
      "execution_count": null,
      "outputs": []
    },
    {
      "cell_type": "code",
      "metadata": {
        "id": "0LOMDOs1uXDY"
      },
      "source": [
        "df_renouvellement_fito2 = df_renouvellement_fito2.join(df_inscr, on='Email', how='inner')"
      ],
      "execution_count": null,
      "outputs": []
    },
    {
      "cell_type": "code",
      "metadata": {
        "id": "n8OcKItSAoaS"
      },
      "source": [
        "try :\n",
        "  inscription_reprocessed = worksheet.spreadsheet.worksheet('re-processed')\n",
        "  inscription_reprocessed.clear()\n",
        "except:\n",
        "  inscription_reprocessed = worksheet.spreadsheet.add_worksheet(title=\"re-processed\", rows=\"350\", cols=\"20\")\n",
        "\n",
        "from gspread_dataframe import set_with_dataframe\n",
        "#set_with_dataframe(inscription_reprocessed, df_inscriptions[df_inscriptions['licence_prise']==False])\n",
        "set_with_dataframe(inscription_reprocessed, df_inscriptions)"
      ],
      "execution_count": null,
      "outputs": []
    },
    {
      "cell_type": "code",
      "metadata": {
        "id": "2eM3XCj7oQ72"
      },
      "source": [
        "try :\n",
        "  inscription_reprocessed = worksheet.spreadsheet.worksheet('Fitogram to change')\n",
        "  inscription_reprocessed.clear()\n",
        "except:\n",
        "  inscription_reprocessed = worksheet.spreadsheet.add_worksheet(title=\"Fitogram to change\", rows=\"350\", cols=\"20\")\n",
        "\n",
        "from gspread_dataframe import set_with_dataframe\n",
        "set_with_dataframe(inscription_reprocessed, df_renouvellement_fito2)"
      ],
      "execution_count": null,
      "outputs": []
    },
    {
      "cell_type": "code",
      "metadata": {
        "id": "6hZw3NsSxzlk"
      },
      "source": [
        "# maintenant le cahier électronique\n",
        "# 1) on construit un dataset de clé NOM_PRENOM, naissance, genre\n",
        "# 2) on le compare au dataset persons : NOM_PRENOM, naisssance, genre en faisant un right outer join (existe dans les inscriptions mais pas dans le cahier)\n"
      ],
      "execution_count": null,
      "outputs": []
    },
    {
      "cell_type": "code",
      "metadata": {
        "id": "_p_8qhHUzNPC"
      },
      "source": [
        "df_inscr_bis = df_inscriptions[['nom','prenom', 'naissance','sexe']]"
      ],
      "execution_count": null,
      "outputs": []
    },
    {
      "cell_type": "code",
      "metadata": {
        "colab": {
          "base_uri": "https://localhost:8080/"
        },
        "id": "cfv2Lu-KzP4c",
        "outputId": "1d82e4b8-a19b-40a4-bccd-241a8ab4afc2"
      },
      "source": [
        "df_inscr_bis['key'] = df_inscr_bis['nom'] + '_' + df_inscr_bis['prenom']"
      ],
      "execution_count": null,
      "outputs": [
        {
          "output_type": "stream",
          "name": "stderr",
          "text": [
            "/usr/local/lib/python3.7/dist-packages/ipykernel_launcher.py:1: SettingWithCopyWarning: \n",
            "A value is trying to be set on a copy of a slice from a DataFrame.\n",
            "Try using .loc[row_indexer,col_indexer] = value instead\n",
            "\n",
            "See the caveats in the documentation: https://pandas.pydata.org/pandas-docs/stable/user_guide/indexing.html#returning-a-view-versus-a-copy\n",
            "  \"\"\"Entry point for launching an IPython kernel.\n"
          ]
        }
      ]
    },
    {
      "cell_type": "code",
      "metadata": {
        "id": "g6rQ4bDI0ZRA"
      },
      "source": [
        "df_inscr_bis = df_inscr_bis.set_index('key')"
      ],
      "execution_count": null,
      "outputs": []
    },
    {
      "cell_type": "code",
      "metadata": {
        "colab": {
          "base_uri": "https://localhost:8080/",
          "height": 238
        },
        "id": "r3TqA2rB2aJh",
        "outputId": "df3733ee-4192-4676-ea4a-f8540925747e"
      },
      "source": [
        "df_inscr_bis.head()"
      ],
      "execution_count": null,
      "outputs": [
        {
          "output_type": "execute_result",
          "data": {
            "text/html": [
              "<div>\n",
              "<style scoped>\n",
              "    .dataframe tbody tr th:only-of-type {\n",
              "        vertical-align: middle;\n",
              "    }\n",
              "\n",
              "    .dataframe tbody tr th {\n",
              "        vertical-align: top;\n",
              "    }\n",
              "\n",
              "    .dataframe thead th {\n",
              "        text-align: right;\n",
              "    }\n",
              "</style>\n",
              "<table border=\"1\" class=\"dataframe\">\n",
              "  <thead>\n",
              "    <tr style=\"text-align: right;\">\n",
              "      <th></th>\n",
              "      <th>nom</th>\n",
              "      <th>prenom</th>\n",
              "      <th>naissance</th>\n",
              "      <th>sexe</th>\n",
              "    </tr>\n",
              "    <tr>\n",
              "      <th>key</th>\n",
              "      <th></th>\n",
              "      <th></th>\n",
              "      <th></th>\n",
              "      <th></th>\n",
              "    </tr>\n",
              "  </thead>\n",
              "  <tbody>\n",
              "    <tr>\n",
              "      <th>ALBANEL_GEOFFROY</th>\n",
              "      <td>ALBANEL</td>\n",
              "      <td>GEOFFROY</td>\n",
              "      <td>11/07/1957</td>\n",
              "      <td>H</td>\n",
              "    </tr>\n",
              "    <tr>\n",
              "      <th>ALTHERR_ARIANE</th>\n",
              "      <td>ALTHERR</td>\n",
              "      <td>ARIANE</td>\n",
              "      <td>26/03/2002</td>\n",
              "      <td>F</td>\n",
              "    </tr>\n",
              "    <tr>\n",
              "      <th>BAKER_ELIOTT</th>\n",
              "      <td>BAKER</td>\n",
              "      <td>ELIOTT</td>\n",
              "      <td>26/10/2009</td>\n",
              "      <td>H</td>\n",
              "    </tr>\n",
              "    <tr>\n",
              "      <th>BARABUTEZ_CHARLY</th>\n",
              "      <td>BARABUTEZ</td>\n",
              "      <td>CHARLY</td>\n",
              "      <td>26/07/2006</td>\n",
              "      <td>H</td>\n",
              "    </tr>\n",
              "    <tr>\n",
              "      <th>BARDOUX_ANNEFRANCE</th>\n",
              "      <td>BARDOUX</td>\n",
              "      <td>ANNEFRANCE</td>\n",
              "      <td>16/08/1964</td>\n",
              "      <td>F</td>\n",
              "    </tr>\n",
              "  </tbody>\n",
              "</table>\n",
              "</div>"
            ],
            "text/plain": [
              "                          nom      prenom   naissance sexe\n",
              "key                                                       \n",
              "ALBANEL_GEOFFROY      ALBANEL    GEOFFROY  11/07/1957    H\n",
              "ALTHERR_ARIANE        ALTHERR      ARIANE  26/03/2002    F\n",
              "BAKER_ELIOTT            BAKER      ELIOTT  26/10/2009    H\n",
              "BARABUTEZ_CHARLY    BARABUTEZ      CHARLY  26/07/2006    H\n",
              "BARDOUX_ANNEFRANCE    BARDOUX  ANNEFRANCE  16/08/1964    F"
            ]
          },
          "metadata": {},
          "execution_count": 40
        }
      ]
    },
    {
      "cell_type": "code",
      "metadata": {
        "id": "LO2iLXJ00cWl"
      },
      "source": [
        "worksheet = gc.open_by_url('https://docs.google.com/spreadsheets/d/1SCruyMO_mncyvIF8kA9HEN2cTabM8ge3Mj2Ia_yG8Uk/edit#gid=464665913').worksheet(\"persons\")\n",
        "\n",
        "# get_all_values gives a list of rows.\n",
        "rows = worksheet.get_all_values()\n",
        "\n",
        "import pandas as pd\n",
        "df_persons = pd.DataFrame.from_records(rows,columns=rows[0])\n",
        "df_persons = df_persons.drop(0)"
      ],
      "execution_count": null,
      "outputs": []
    },
    {
      "cell_type": "code",
      "metadata": {
        "id": "RCy1IYsy1arM"
      },
      "source": [
        "df_persons = df_persons[['LastName','FirstName']]"
      ],
      "execution_count": null,
      "outputs": []
    },
    {
      "cell_type": "code",
      "metadata": {
        "id": "5ZsqvoAg3iC0"
      },
      "source": [
        "import unicodedata\n",
        "\n",
        "def process_text(input_str):\n",
        "  # remove simple quote and '-\n",
        "  input_str = input_str.replace('\\'','')\n",
        "  input_str = input_str.replace('-','')\n",
        "  input_str = input_str.replace(' ','_')\n",
        "  nfkd_form = unicodedata.normalize('NFKD', input_str)\n",
        "  return u\"\".join([c for c in nfkd_form if not unicodedata.combining(c)])"
      ],
      "execution_count": null,
      "outputs": []
    },
    {
      "cell_type": "code",
      "metadata": {
        "id": "rwVmAjh32SYz"
      },
      "source": [
        "df_persons['LastName'] = df_persons['LastName'].apply(lambda x : process_text(x))\n",
        "df_persons['FirstName'] = df_persons['FirstName'].apply(lambda x : process_text(x))\n",
        "df_persons['FirstName'] = df_persons['FirstName'].str.upper()\n"
      ],
      "execution_count": null,
      "outputs": []
    },
    {
      "cell_type": "code",
      "metadata": {
        "id": "JzJ5mm6G32a7"
      },
      "source": [
        "df_persons['key'] = df_persons['LastName'] + '_' + df_persons['FirstName']"
      ],
      "execution_count": null,
      "outputs": []
    },
    {
      "cell_type": "code",
      "metadata": {
        "id": "9PlV55gc4EsI"
      },
      "source": [
        "df_persons = df_persons.set_index('key')"
      ],
      "execution_count": null,
      "outputs": []
    },
    {
      "cell_type": "code",
      "metadata": {
        "colab": {
          "base_uri": "https://localhost:8080/",
          "height": 238
        },
        "id": "_15XpINL12SK",
        "outputId": "e2b4df29-2227-4e23-cbca-9c97ed023363"
      },
      "source": [
        "df_persons.head()"
      ],
      "execution_count": null,
      "outputs": [
        {
          "output_type": "execute_result",
          "data": {
            "text/html": [
              "<div>\n",
              "<style scoped>\n",
              "    .dataframe tbody tr th:only-of-type {\n",
              "        vertical-align: middle;\n",
              "    }\n",
              "\n",
              "    .dataframe tbody tr th {\n",
              "        vertical-align: top;\n",
              "    }\n",
              "\n",
              "    .dataframe thead th {\n",
              "        text-align: right;\n",
              "    }\n",
              "</style>\n",
              "<table border=\"1\" class=\"dataframe\">\n",
              "  <thead>\n",
              "    <tr style=\"text-align: right;\">\n",
              "      <th></th>\n",
              "      <th>LastName</th>\n",
              "      <th>FirstName</th>\n",
              "    </tr>\n",
              "    <tr>\n",
              "      <th>key</th>\n",
              "      <th></th>\n",
              "      <th></th>\n",
              "    </tr>\n",
              "  </thead>\n",
              "  <tbody>\n",
              "    <tr>\n",
              "      <th>POSTEL_DEBAUT_JEANNE</th>\n",
              "      <td>POSTEL_DEBAUT</td>\n",
              "      <td>JEANNE</td>\n",
              "    </tr>\n",
              "    <tr>\n",
              "      <th>LE_DIMET_JOCELYN</th>\n",
              "      <td>LE_DIMET</td>\n",
              "      <td>JOCELYN</td>\n",
              "    </tr>\n",
              "    <tr>\n",
              "      <th>WAUQUIEZ_TIMEO</th>\n",
              "      <td>WAUQUIEZ</td>\n",
              "      <td>TIMEO</td>\n",
              "    </tr>\n",
              "    <tr>\n",
              "      <th>MACHADO_LUIS</th>\n",
              "      <td>MACHADO</td>\n",
              "      <td>LUIS</td>\n",
              "    </tr>\n",
              "    <tr>\n",
              "      <th>GROUD_ALAIN</th>\n",
              "      <td>GROUD</td>\n",
              "      <td>ALAIN</td>\n",
              "    </tr>\n",
              "  </tbody>\n",
              "</table>\n",
              "</div>"
            ],
            "text/plain": [
              "                           LastName FirstName\n",
              "key                                          \n",
              "POSTEL_DEBAUT_JEANNE  POSTEL_DEBAUT    JEANNE\n",
              "LE_DIMET_JOCELYN           LE_DIMET   JOCELYN\n",
              "WAUQUIEZ_TIMEO             WAUQUIEZ     TIMEO\n",
              "MACHADO_LUIS                MACHADO      LUIS\n",
              "GROUD_ALAIN                   GROUD     ALAIN"
            ]
          },
          "metadata": {},
          "execution_count": 47
        }
      ]
    },
    {
      "cell_type": "code",
      "metadata": {
        "id": "BiD7styY4X9-"
      },
      "source": [
        "df_join = df_inscr_bis.join(df_persons, on='key', how='left')"
      ],
      "execution_count": null,
      "outputs": []
    },
    {
      "cell_type": "code",
      "metadata": {
        "id": "-M-yPwEh4uCV"
      },
      "source": [
        "df_join = df_join[df_join['LastName'].isnull()]"
      ],
      "execution_count": null,
      "outputs": []
    },
    {
      "cell_type": "code",
      "metadata": {
        "colab": {
          "base_uri": "https://localhost:8080/",
          "height": 238
        },
        "id": "seNY-juE4xBY",
        "outputId": "72510a51-c571-4e19-e909-3f0df15b5419"
      },
      "source": [
        "df_join.head()"
      ],
      "execution_count": null,
      "outputs": [
        {
          "output_type": "execute_result",
          "data": {
            "text/html": [
              "<div>\n",
              "<style scoped>\n",
              "    .dataframe tbody tr th:only-of-type {\n",
              "        vertical-align: middle;\n",
              "    }\n",
              "\n",
              "    .dataframe tbody tr th {\n",
              "        vertical-align: top;\n",
              "    }\n",
              "\n",
              "    .dataframe thead th {\n",
              "        text-align: right;\n",
              "    }\n",
              "</style>\n",
              "<table border=\"1\" class=\"dataframe\">\n",
              "  <thead>\n",
              "    <tr style=\"text-align: right;\">\n",
              "      <th></th>\n",
              "      <th>nom</th>\n",
              "      <th>prenom</th>\n",
              "      <th>naissance</th>\n",
              "      <th>sexe</th>\n",
              "      <th>LastName</th>\n",
              "      <th>FirstName</th>\n",
              "    </tr>\n",
              "    <tr>\n",
              "      <th>key</th>\n",
              "      <th></th>\n",
              "      <th></th>\n",
              "      <th></th>\n",
              "      <th></th>\n",
              "      <th></th>\n",
              "      <th></th>\n",
              "    </tr>\n",
              "  </thead>\n",
              "  <tbody>\n",
              "    <tr>\n",
              "      <th>ALBANEL_GEOFFROY</th>\n",
              "      <td>ALBANEL</td>\n",
              "      <td>GEOFFROY</td>\n",
              "      <td>11/07/1957</td>\n",
              "      <td>H</td>\n",
              "      <td>NaN</td>\n",
              "      <td>NaN</td>\n",
              "    </tr>\n",
              "    <tr>\n",
              "      <th>BAKER_ELIOTT</th>\n",
              "      <td>BAKER</td>\n",
              "      <td>ELIOTT</td>\n",
              "      <td>26/10/2009</td>\n",
              "      <td>H</td>\n",
              "      <td>NaN</td>\n",
              "      <td>NaN</td>\n",
              "    </tr>\n",
              "    <tr>\n",
              "      <th>BARDOUX_ANNEFRANCE</th>\n",
              "      <td>BARDOUX</td>\n",
              "      <td>ANNEFRANCE</td>\n",
              "      <td>16/08/1964</td>\n",
              "      <td>F</td>\n",
              "      <td>NaN</td>\n",
              "      <td>NaN</td>\n",
              "    </tr>\n",
              "    <tr>\n",
              "      <th>BATTE_HIPPOLYTE</th>\n",
              "      <td>BATTE</td>\n",
              "      <td>HIPPOLYTE</td>\n",
              "      <td>10/11/2008</td>\n",
              "      <td>H</td>\n",
              "      <td>NaN</td>\n",
              "      <td>NaN</td>\n",
              "    </tr>\n",
              "    <tr>\n",
              "      <th>BLECH_NICOLAS</th>\n",
              "      <td>BLECH</td>\n",
              "      <td>NICOLAS</td>\n",
              "      <td>14/01/1959</td>\n",
              "      <td>H</td>\n",
              "      <td>NaN</td>\n",
              "      <td>NaN</td>\n",
              "    </tr>\n",
              "  </tbody>\n",
              "</table>\n",
              "</div>"
            ],
            "text/plain": [
              "                        nom      prenom   naissance sexe LastName FirstName\n",
              "key                                                                        \n",
              "ALBANEL_GEOFFROY    ALBANEL    GEOFFROY  11/07/1957    H      NaN       NaN\n",
              "BAKER_ELIOTT          BAKER      ELIOTT  26/10/2009    H      NaN       NaN\n",
              "BARDOUX_ANNEFRANCE  BARDOUX  ANNEFRANCE  16/08/1964    F      NaN       NaN\n",
              "BATTE_HIPPOLYTE       BATTE   HIPPOLYTE  10/11/2008    H      NaN       NaN\n",
              "BLECH_NICOLAS         BLECH     NICOLAS  14/01/1959    H      NaN       NaN"
            ]
          },
          "metadata": {},
          "execution_count": 50
        }
      ]
    },
    {
      "cell_type": "code",
      "metadata": {
        "id": "NEI9YjtO6dz4"
      },
      "source": [
        "try :\n",
        "  inscription_reprocessed = worksheet.spreadsheet.worksheet('Cahier elec.')\n",
        "  inscription_reprocessed.clear()\n",
        "except:\n",
        "  inscription_reprocessed = worksheet.spreadsheet.add_worksheet(title=\"Cahier elec.\", rows=\"350\", cols=\"20\")\n",
        "\n",
        "from gspread_dataframe import set_with_dataframe\n",
        "set_with_dataframe(inscription_reprocessed, df_join)"
      ],
      "execution_count": null,
      "outputs": []
    },
    {
      "cell_type": "code",
      "metadata": {
        "id": "IRxKvO4sADE5"
      },
      "source": [
        " df_join = df_join.reset_index()"
      ],
      "execution_count": null,
      "outputs": []
    },
    {
      "cell_type": "code",
      "metadata": {
        "id": "7ab3hCM0B1bE"
      },
      "source": [
        " df_join = df_join.drop(columns=['key', 'LastName', 'FirstName'])"
      ],
      "execution_count": null,
      "outputs": []
    },
    {
      "cell_type": "code",
      "metadata": {
        "id": "gEe_b6NcAOMF"
      },
      "source": [
        "df_join = df_join.rename(columns={'nom':'LastName','prenom':'FirstName','sexe':'Gender', 'naissance':'Birthday'})\n",
        "df_join['NameAffix'] =''\n"
      ],
      "execution_count": null,
      "outputs": []
    },
    {
      "cell_type": "code",
      "metadata": {
        "colab": {
          "base_uri": "https://localhost:8080/",
          "height": 206
        },
        "id": "6CA21LDICEQi",
        "outputId": "35505e3a-bc70-489d-95ee-db7974e53dc9"
      },
      "source": [
        "df_join.head()"
      ],
      "execution_count": null,
      "outputs": [
        {
          "output_type": "execute_result",
          "data": {
            "text/html": [
              "<div>\n",
              "<style scoped>\n",
              "    .dataframe tbody tr th:only-of-type {\n",
              "        vertical-align: middle;\n",
              "    }\n",
              "\n",
              "    .dataframe tbody tr th {\n",
              "        vertical-align: top;\n",
              "    }\n",
              "\n",
              "    .dataframe thead th {\n",
              "        text-align: right;\n",
              "    }\n",
              "</style>\n",
              "<table border=\"1\" class=\"dataframe\">\n",
              "  <thead>\n",
              "    <tr style=\"text-align: right;\">\n",
              "      <th></th>\n",
              "      <th>LastName</th>\n",
              "      <th>FirstName</th>\n",
              "      <th>Birthday</th>\n",
              "      <th>Gender</th>\n",
              "      <th>NameAffix</th>\n",
              "    </tr>\n",
              "  </thead>\n",
              "  <tbody>\n",
              "    <tr>\n",
              "      <th>0</th>\n",
              "      <td>ALBANEL</td>\n",
              "      <td>GEOFFROY</td>\n",
              "      <td>11/07/1957</td>\n",
              "      <td>H</td>\n",
              "      <td></td>\n",
              "    </tr>\n",
              "    <tr>\n",
              "      <th>1</th>\n",
              "      <td>BAKER</td>\n",
              "      <td>ELIOTT</td>\n",
              "      <td>26/10/2009</td>\n",
              "      <td>H</td>\n",
              "      <td></td>\n",
              "    </tr>\n",
              "    <tr>\n",
              "      <th>2</th>\n",
              "      <td>BARDOUX</td>\n",
              "      <td>ANNEFRANCE</td>\n",
              "      <td>16/08/1964</td>\n",
              "      <td>F</td>\n",
              "      <td></td>\n",
              "    </tr>\n",
              "    <tr>\n",
              "      <th>3</th>\n",
              "      <td>BATTE</td>\n",
              "      <td>HIPPOLYTE</td>\n",
              "      <td>10/11/2008</td>\n",
              "      <td>H</td>\n",
              "      <td></td>\n",
              "    </tr>\n",
              "    <tr>\n",
              "      <th>4</th>\n",
              "      <td>BLECH</td>\n",
              "      <td>NICOLAS</td>\n",
              "      <td>14/01/1959</td>\n",
              "      <td>H</td>\n",
              "      <td></td>\n",
              "    </tr>\n",
              "  </tbody>\n",
              "</table>\n",
              "</div>"
            ],
            "text/plain": [
              "  LastName   FirstName    Birthday Gender NameAffix\n",
              "0  ALBANEL    GEOFFROY  11/07/1957      H          \n",
              "1    BAKER      ELIOTT  26/10/2009      H          \n",
              "2  BARDOUX  ANNEFRANCE  16/08/1964      F          \n",
              "3    BATTE   HIPPOLYTE  10/11/2008      H          \n",
              "4    BLECH     NICOLAS  14/01/1959      H          "
            ]
          },
          "metadata": {},
          "execution_count": 55
        }
      ]
    },
    {
      "cell_type": "code",
      "metadata": {
        "id": "33YjEayJHJ5H"
      },
      "source": [
        "df_join['Title'] = ''\n",
        "df_join = df_join[['FirstName','LastName', 'NameAffix','Title','Gender','Birthday']]"
      ],
      "execution_count": null,
      "outputs": []
    },
    {
      "cell_type": "code",
      "metadata": {
        "id": "DxjShOnrHR-P"
      },
      "source": [
        "df_join['Gender'] = df_join['Gender'].apply(lambda x : 'féminin' if x=='F' else 'masculin')"
      ],
      "execution_count": null,
      "outputs": []
    },
    {
      "cell_type": "code",
      "metadata": {
        "id": "Ec44_PTBDAi4"
      },
      "source": [
        "df_join['Birthday'] = df_join['Birthday'].apply(lambda x : str(x).replace('/','.'))"
      ],
      "execution_count": null,
      "outputs": []
    },
    {
      "cell_type": "code",
      "metadata": {
        "colab": {
          "base_uri": "https://localhost:8080/",
          "height": 206
        },
        "id": "QPqAcMD3DjQB",
        "outputId": "ba834226-c06c-4a12-d86e-8ed47edfba86"
      },
      "source": [
        "df_join.head()"
      ],
      "execution_count": null,
      "outputs": [
        {
          "output_type": "execute_result",
          "data": {
            "text/html": [
              "<div>\n",
              "<style scoped>\n",
              "    .dataframe tbody tr th:only-of-type {\n",
              "        vertical-align: middle;\n",
              "    }\n",
              "\n",
              "    .dataframe tbody tr th {\n",
              "        vertical-align: top;\n",
              "    }\n",
              "\n",
              "    .dataframe thead th {\n",
              "        text-align: right;\n",
              "    }\n",
              "</style>\n",
              "<table border=\"1\" class=\"dataframe\">\n",
              "  <thead>\n",
              "    <tr style=\"text-align: right;\">\n",
              "      <th></th>\n",
              "      <th>FirstName</th>\n",
              "      <th>LastName</th>\n",
              "      <th>NameAffix</th>\n",
              "      <th>Title</th>\n",
              "      <th>Gender</th>\n",
              "      <th>Birthday</th>\n",
              "    </tr>\n",
              "  </thead>\n",
              "  <tbody>\n",
              "    <tr>\n",
              "      <th>0</th>\n",
              "      <td>GEOFFROY</td>\n",
              "      <td>ALBANEL</td>\n",
              "      <td></td>\n",
              "      <td></td>\n",
              "      <td>masculin</td>\n",
              "      <td>11.07.1957</td>\n",
              "    </tr>\n",
              "    <tr>\n",
              "      <th>1</th>\n",
              "      <td>ELIOTT</td>\n",
              "      <td>BAKER</td>\n",
              "      <td></td>\n",
              "      <td></td>\n",
              "      <td>masculin</td>\n",
              "      <td>26.10.2009</td>\n",
              "    </tr>\n",
              "    <tr>\n",
              "      <th>2</th>\n",
              "      <td>ANNEFRANCE</td>\n",
              "      <td>BARDOUX</td>\n",
              "      <td></td>\n",
              "      <td></td>\n",
              "      <td>féminin</td>\n",
              "      <td>16.08.1964</td>\n",
              "    </tr>\n",
              "    <tr>\n",
              "      <th>3</th>\n",
              "      <td>HIPPOLYTE</td>\n",
              "      <td>BATTE</td>\n",
              "      <td></td>\n",
              "      <td></td>\n",
              "      <td>masculin</td>\n",
              "      <td>10.11.2008</td>\n",
              "    </tr>\n",
              "    <tr>\n",
              "      <th>4</th>\n",
              "      <td>NICOLAS</td>\n",
              "      <td>BLECH</td>\n",
              "      <td></td>\n",
              "      <td></td>\n",
              "      <td>masculin</td>\n",
              "      <td>14.01.1959</td>\n",
              "    </tr>\n",
              "  </tbody>\n",
              "</table>\n",
              "</div>"
            ],
            "text/plain": [
              "    FirstName LastName NameAffix Title    Gender    Birthday\n",
              "0    GEOFFROY  ALBANEL                  masculin  11.07.1957\n",
              "1      ELIOTT    BAKER                  masculin  26.10.2009\n",
              "2  ANNEFRANCE  BARDOUX                   féminin  16.08.1964\n",
              "3   HIPPOLYTE    BATTE                  masculin  10.11.2008\n",
              "4     NICOLAS    BLECH                  masculin  14.01.1959"
            ]
          },
          "metadata": {},
          "execution_count": 59
        }
      ]
    },
    {
      "cell_type": "code",
      "metadata": {
        "id": "sRK1m9WNDsiW"
      },
      "source": [
        "try :\n",
        "  inscription_reprocessed = worksheet.spreadsheet.worksheet('Persons to import')\n",
        "  inscription_reprocessed.clear()\n",
        "except:\n",
        "  inscription_reprocessed = worksheet.spreadsheet.add_worksheet(title=\"Persons to import\", rows=\"100\", cols=\"20\")\n",
        "\n",
        "from gspread_dataframe import set_with_dataframe\n",
        "set_with_dataframe(inscription_reprocessed, df_join)"
      ],
      "execution_count": null,
      "outputs": []
    }
  ]
}