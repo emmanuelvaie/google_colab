{
  "nbformat": 4,
  "nbformat_minor": 0,
  "metadata": {
    "colab": {
      "provenance": [],
      "collapsed_sections": [],
      "authorship_tag": "ABX9TyNCqGHqQwlbzdS1l/kGaOxE",
      "include_colab_link": true
    },
    "kernelspec": {
      "name": "python3",
      "display_name": "Python 3"
    },
    "language_info": {
      "name": "python"
    }
  },
  "cells": [
    {
      "cell_type": "markdown",
      "metadata": {
        "id": "view-in-github",
        "colab_type": "text"
      },
      "source": [
        "<a href=\"https://colab.research.google.com/github/emmanuelvaie/google_colab/blob/main/etude_licences.ipynb\" target=\"_parent\"><img src=\"https://colab.research.google.com/assets/colab-badge.svg\" alt=\"Open In Colab\"/></a>"
      ]
    },
    {
      "cell_type": "code",
      "execution_count": null,
      "metadata": {
        "id": "QoJU5JjAKvH-"
      },
      "outputs": [],
      "source": [
        "from google.colab import auth\n",
        "auth.authenticate_user()\n",
        "import pandas as pd\n",
        "import gspread\n",
        "from google.auth import default\n",
        "from gspread_dataframe import set_with_dataframe\n",
        "\n",
        "\n",
        "creds, _ = default()\n",
        "\n",
        "gc = gspread.authorize(creds) "
      ]
    },
    {
      "cell_type": "code",
      "source": [
        "worksheet_licence = gc.open_by_url('https://docs.google.com/spreadsheets/d/1cifoZq8-5ILJk5-2R3yZWnX52DohTYoG1cYbeo0Gqss/edit#gid=1576518051').sheet1\n",
        "\n",
        "licences_2022 = worksheet_licence.spreadsheet.worksheet('2022')\n",
        "# get_all_values gives a list of rows.\n",
        "rows_licences = licences_2022.get_all_values()\n",
        "\n",
        "df_licences_2022 = pd.DataFrame.from_records(rows_licences,columns=rows_licences[0])\n",
        "df_licences_2022 = df_licences_2022.drop(0).reindex()"
      ],
      "metadata": {
        "id": "VF_XKBEFLDQ5"
      },
      "execution_count": null,
      "outputs": []
    },
    {
      "cell_type": "code",
      "source": [
        "df_licences_2022['NO ADHERENT'].count()"
      ],
      "metadata": {
        "colab": {
          "base_uri": "https://localhost:8080/"
        },
        "id": "7EV-JHNcf7Eo",
        "outputId": "acec30ec-2b2b-4beb-b16f-091337058c8b"
      },
      "execution_count": null,
      "outputs": [
        {
          "output_type": "execute_result",
          "data": {
            "text/plain": [
              "390"
            ]
          },
          "metadata": {},
          "execution_count": 3
        }
      ]
    },
    {
      "cell_type": "code",
      "source": [
        "df_licences_2022['NO ADHERENT'] = df_licences_2022['NO ADHERENT'].apply(lambda x: x.strip())\n",
        "df_licences_2022['NO ADHERENT'] = df_licences_2022['NO ADHERENT'].astype('float')\n",
        "df_licences_2022['NO ADHERENT'] = df_licences_2022['NO ADHERENT'].astype('Int32')"
      ],
      "metadata": {
        "id": "E8SgSk3FqLv-"
      },
      "execution_count": null,
      "outputs": []
    },
    {
      "cell_type": "code",
      "source": [
        "licences_2023 = worksheet_licence.spreadsheet.worksheet('2023')\n",
        "\n",
        "# get_all_values gives a list of rows.\n",
        "rows_licences = licences_2023.get_all_values()\n",
        "\n",
        "import pandas as pd\n",
        "df_licences_2023 = pd.DataFrame.from_records(rows_licences,columns=rows_licences[0])\n",
        "df_licences_2023 = df_licences_2023.drop(0).reindex()"
      ],
      "metadata": {
        "id": "3GKLJUslf7cG"
      },
      "execution_count": null,
      "outputs": []
    },
    {
      "cell_type": "code",
      "source": [
        "df_licences_2023['NO ADHERENT'].count()"
      ],
      "metadata": {
        "colab": {
          "base_uri": "https://localhost:8080/"
        },
        "id": "_DDLU-TUggvi",
        "outputId": "0118e9a3-3851-411c-85ec-fc080cc813d0"
      },
      "execution_count": null,
      "outputs": [
        {
          "output_type": "execute_result",
          "data": {
            "text/plain": [
              "312"
            ]
          },
          "metadata": {},
          "execution_count": 6
        }
      ]
    },
    {
      "cell_type": "code",
      "source": [
        "df_licences_2023['NO ADHERENT'] = df_licences_2023['NO ADHERENT'].apply(lambda x: x.strip())\n",
        "df_licences_2023['NO ADHERENT'] = df_licences_2023['NO ADHERENT'].astype('float')\n",
        "df_licences_2023['NO ADHERENT'] = df_licences_2023['NO ADHERENT'].astype('Int32')"
      ],
      "metadata": {
        "id": "bxYkoVOIqhOx"
      },
      "execution_count": null,
      "outputs": []
    },
    {
      "cell_type": "code",
      "source": [
        "import datetime\n",
        "now = datetime.datetime.now()\n",
        "df_licences_2022['AGE'] = df_licences_2022['DATE NAISSANCE'].apply(lambda x: now.year - pd.to_datetime(x).year)\n",
        "df_licences_2023['AGE'] = df_licences_2023['DATE NAISSANCE'].apply(lambda x: now.year - pd.to_datetime(x).year)"
      ],
      "metadata": {
        "id": "2Y5qglkhBter"
      },
      "execution_count": null,
      "outputs": []
    },
    {
      "cell_type": "code",
      "source": [
        "df_2022 = df_licences_2022[['NO ADHERENT','NOM','PRENOM','EMAIL','AGE']]\n",
        "df_2023 = df_licences_2023[['NO ADHERENT','NOM','PRENOM','EMAIL','AGE']]"
      ],
      "metadata": {
        "id": "BMDUTNXej71j"
      },
      "execution_count": null,
      "outputs": []
    },
    {
      "cell_type": "code",
      "source": [
        "df = df_2022.join(df_2023.set_index('NO ADHERENT'), on='NO ADHERENT', lsuffix='2022', rsuffix='2023')"
      ],
      "metadata": {
        "id": "kRmX1wd3k9vS"
      },
      "execution_count": null,
      "outputs": []
    },
    {
      "cell_type": "code",
      "source": [
        "df.head()"
      ],
      "metadata": {
        "colab": {
          "base_uri": "https://localhost:8080/",
          "height": 206
        },
        "id": "r86qgkpdsZNs",
        "outputId": "b9992eb7-0f33-4596-84fa-d9ec42a7678c"
      },
      "execution_count": null,
      "outputs": [
        {
          "output_type": "execute_result",
          "data": {
            "text/plain": [
              "  NO ADHERENT   NOM2022 PRENOM2022                     EMAIL2022  AGE2022  \\\n",
              "1      569783    MARTIN     ARIANE     helene.chauvire@gmail.com       10   \n",
              "2      566604     JUDAS      ELISA        cindybarrast@gmail.com       11   \n",
              "3      572683    BUTEAU      LOUIS  valentin.marie0786@orange.fr       11   \n",
              "4      570218  VIALFONT      RONAN    richard.vialfont@gmail.com       12   \n",
              "5      571118   CHAPUIS     SALOME      nathalie.venet@gmail.com       12   \n",
              "\n",
              "  NOM2023 PRENOM2023               EMAIL2023  AGE2023  \n",
              "1     NaN        NaN                     NaN      NaN  \n",
              "2   JUDAS      ELISA  cindybarrast@gmail.com     11.0  \n",
              "3     NaN        NaN                     NaN      NaN  \n",
              "4     NaN        NaN                     NaN      NaN  \n",
              "5     NaN        NaN                     NaN      NaN  "
            ],
            "text/html": [
              "\n",
              "  <div id=\"df-e743afe0-aad5-4d3e-9dab-38d5c46c8d19\">\n",
              "    <div class=\"colab-df-container\">\n",
              "      <div>\n",
              "<style scoped>\n",
              "    .dataframe tbody tr th:only-of-type {\n",
              "        vertical-align: middle;\n",
              "    }\n",
              "\n",
              "    .dataframe tbody tr th {\n",
              "        vertical-align: top;\n",
              "    }\n",
              "\n",
              "    .dataframe thead th {\n",
              "        text-align: right;\n",
              "    }\n",
              "</style>\n",
              "<table border=\"1\" class=\"dataframe\">\n",
              "  <thead>\n",
              "    <tr style=\"text-align: right;\">\n",
              "      <th></th>\n",
              "      <th>NO ADHERENT</th>\n",
              "      <th>NOM2022</th>\n",
              "      <th>PRENOM2022</th>\n",
              "      <th>EMAIL2022</th>\n",
              "      <th>AGE2022</th>\n",
              "      <th>NOM2023</th>\n",
              "      <th>PRENOM2023</th>\n",
              "      <th>EMAIL2023</th>\n",
              "      <th>AGE2023</th>\n",
              "    </tr>\n",
              "  </thead>\n",
              "  <tbody>\n",
              "    <tr>\n",
              "      <th>1</th>\n",
              "      <td>569783</td>\n",
              "      <td>MARTIN</td>\n",
              "      <td>ARIANE</td>\n",
              "      <td>helene.chauvire@gmail.com</td>\n",
              "      <td>10</td>\n",
              "      <td>NaN</td>\n",
              "      <td>NaN</td>\n",
              "      <td>NaN</td>\n",
              "      <td>NaN</td>\n",
              "    </tr>\n",
              "    <tr>\n",
              "      <th>2</th>\n",
              "      <td>566604</td>\n",
              "      <td>JUDAS</td>\n",
              "      <td>ELISA</td>\n",
              "      <td>cindybarrast@gmail.com</td>\n",
              "      <td>11</td>\n",
              "      <td>JUDAS</td>\n",
              "      <td>ELISA</td>\n",
              "      <td>cindybarrast@gmail.com</td>\n",
              "      <td>11.0</td>\n",
              "    </tr>\n",
              "    <tr>\n",
              "      <th>3</th>\n",
              "      <td>572683</td>\n",
              "      <td>BUTEAU</td>\n",
              "      <td>LOUIS</td>\n",
              "      <td>valentin.marie0786@orange.fr</td>\n",
              "      <td>11</td>\n",
              "      <td>NaN</td>\n",
              "      <td>NaN</td>\n",
              "      <td>NaN</td>\n",
              "      <td>NaN</td>\n",
              "    </tr>\n",
              "    <tr>\n",
              "      <th>4</th>\n",
              "      <td>570218</td>\n",
              "      <td>VIALFONT</td>\n",
              "      <td>RONAN</td>\n",
              "      <td>richard.vialfont@gmail.com</td>\n",
              "      <td>12</td>\n",
              "      <td>NaN</td>\n",
              "      <td>NaN</td>\n",
              "      <td>NaN</td>\n",
              "      <td>NaN</td>\n",
              "    </tr>\n",
              "    <tr>\n",
              "      <th>5</th>\n",
              "      <td>571118</td>\n",
              "      <td>CHAPUIS</td>\n",
              "      <td>SALOME</td>\n",
              "      <td>nathalie.venet@gmail.com</td>\n",
              "      <td>12</td>\n",
              "      <td>NaN</td>\n",
              "      <td>NaN</td>\n",
              "      <td>NaN</td>\n",
              "      <td>NaN</td>\n",
              "    </tr>\n",
              "  </tbody>\n",
              "</table>\n",
              "</div>\n",
              "      <button class=\"colab-df-convert\" onclick=\"convertToInteractive('df-e743afe0-aad5-4d3e-9dab-38d5c46c8d19')\"\n",
              "              title=\"Convert this dataframe to an interactive table.\"\n",
              "              style=\"display:none;\">\n",
              "        \n",
              "  <svg xmlns=\"http://www.w3.org/2000/svg\" height=\"24px\"viewBox=\"0 0 24 24\"\n",
              "       width=\"24px\">\n",
              "    <path d=\"M0 0h24v24H0V0z\" fill=\"none\"/>\n",
              "    <path d=\"M18.56 5.44l.94 2.06.94-2.06 2.06-.94-2.06-.94-.94-2.06-.94 2.06-2.06.94zm-11 1L8.5 8.5l.94-2.06 2.06-.94-2.06-.94L8.5 2.5l-.94 2.06-2.06.94zm10 10l.94 2.06.94-2.06 2.06-.94-2.06-.94-.94-2.06-.94 2.06-2.06.94z\"/><path d=\"M17.41 7.96l-1.37-1.37c-.4-.4-.92-.59-1.43-.59-.52 0-1.04.2-1.43.59L10.3 9.45l-7.72 7.72c-.78.78-.78 2.05 0 2.83L4 21.41c.39.39.9.59 1.41.59.51 0 1.02-.2 1.41-.59l7.78-7.78 2.81-2.81c.8-.78.8-2.07 0-2.86zM5.41 20L4 18.59l7.72-7.72 1.47 1.35L5.41 20z\"/>\n",
              "  </svg>\n",
              "      </button>\n",
              "      \n",
              "  <style>\n",
              "    .colab-df-container {\n",
              "      display:flex;\n",
              "      flex-wrap:wrap;\n",
              "      gap: 12px;\n",
              "    }\n",
              "\n",
              "    .colab-df-convert {\n",
              "      background-color: #E8F0FE;\n",
              "      border: none;\n",
              "      border-radius: 50%;\n",
              "      cursor: pointer;\n",
              "      display: none;\n",
              "      fill: #1967D2;\n",
              "      height: 32px;\n",
              "      padding: 0 0 0 0;\n",
              "      width: 32px;\n",
              "    }\n",
              "\n",
              "    .colab-df-convert:hover {\n",
              "      background-color: #E2EBFA;\n",
              "      box-shadow: 0px 1px 2px rgba(60, 64, 67, 0.3), 0px 1px 3px 1px rgba(60, 64, 67, 0.15);\n",
              "      fill: #174EA6;\n",
              "    }\n",
              "\n",
              "    [theme=dark] .colab-df-convert {\n",
              "      background-color: #3B4455;\n",
              "      fill: #D2E3FC;\n",
              "    }\n",
              "\n",
              "    [theme=dark] .colab-df-convert:hover {\n",
              "      background-color: #434B5C;\n",
              "      box-shadow: 0px 1px 3px 1px rgba(0, 0, 0, 0.15);\n",
              "      filter: drop-shadow(0px 1px 2px rgba(0, 0, 0, 0.3));\n",
              "      fill: #FFFFFF;\n",
              "    }\n",
              "  </style>\n",
              "\n",
              "      <script>\n",
              "        const buttonEl =\n",
              "          document.querySelector('#df-e743afe0-aad5-4d3e-9dab-38d5c46c8d19 button.colab-df-convert');\n",
              "        buttonEl.style.display =\n",
              "          google.colab.kernel.accessAllowed ? 'block' : 'none';\n",
              "\n",
              "        async function convertToInteractive(key) {\n",
              "          const element = document.querySelector('#df-e743afe0-aad5-4d3e-9dab-38d5c46c8d19');\n",
              "          const dataTable =\n",
              "            await google.colab.kernel.invokeFunction('convertToInteractive',\n",
              "                                                     [key], {});\n",
              "          if (!dataTable) return;\n",
              "\n",
              "          const docLinkHtml = 'Like what you see? Visit the ' +\n",
              "            '<a target=\"_blank\" href=https://colab.research.google.com/notebooks/data_table.ipynb>data table notebook</a>'\n",
              "            + ' to learn more about interactive tables.';\n",
              "          element.innerHTML = '';\n",
              "          dataTable['output_type'] = 'display_data';\n",
              "          await google.colab.output.renderOutput(dataTable, element);\n",
              "          const docLink = document.createElement('div');\n",
              "          docLink.innerHTML = docLinkHtml;\n",
              "          element.appendChild(docLink);\n",
              "        }\n",
              "      </script>\n",
              "    </div>\n",
              "  </div>\n",
              "  "
            ]
          },
          "metadata": {},
          "execution_count": 11
        }
      ]
    },
    {
      "cell_type": "code",
      "source": [
        "df_lost = df[df['NOM2023'].isna()]\n",
        "df_lost.head()"
      ],
      "metadata": {
        "colab": {
          "base_uri": "https://localhost:8080/",
          "height": 206
        },
        "id": "oxqd6btcrQC0",
        "outputId": "7155d566-9ef5-4bfc-e806-bbb13b33f3d8"
      },
      "execution_count": null,
      "outputs": [
        {
          "output_type": "execute_result",
          "data": {
            "text/plain": [
              "  NO ADHERENT   NOM2022 PRENOM2022                     EMAIL2022  AGE2022  \\\n",
              "1      569783    MARTIN     ARIANE     helene.chauvire@gmail.com       10   \n",
              "3      572683    BUTEAU      LOUIS  valentin.marie0786@orange.fr       11   \n",
              "4      570218  VIALFONT      RONAN    richard.vialfont@gmail.com       12   \n",
              "5      571118   CHAPUIS     SALOME      nathalie.venet@gmail.com       12   \n",
              "6      569439     LIARD   MATTHIAS         mattirikudo@gmail.com       12   \n",
              "\n",
              "  NOM2023 PRENOM2023 EMAIL2023  AGE2023  \n",
              "1     NaN        NaN       NaN      NaN  \n",
              "3     NaN        NaN       NaN      NaN  \n",
              "4     NaN        NaN       NaN      NaN  \n",
              "5     NaN        NaN       NaN      NaN  \n",
              "6     NaN        NaN       NaN      NaN  "
            ],
            "text/html": [
              "\n",
              "  <div id=\"df-224216b8-49f8-4d78-9d58-94e5f05c3274\">\n",
              "    <div class=\"colab-df-container\">\n",
              "      <div>\n",
              "<style scoped>\n",
              "    .dataframe tbody tr th:only-of-type {\n",
              "        vertical-align: middle;\n",
              "    }\n",
              "\n",
              "    .dataframe tbody tr th {\n",
              "        vertical-align: top;\n",
              "    }\n",
              "\n",
              "    .dataframe thead th {\n",
              "        text-align: right;\n",
              "    }\n",
              "</style>\n",
              "<table border=\"1\" class=\"dataframe\">\n",
              "  <thead>\n",
              "    <tr style=\"text-align: right;\">\n",
              "      <th></th>\n",
              "      <th>NO ADHERENT</th>\n",
              "      <th>NOM2022</th>\n",
              "      <th>PRENOM2022</th>\n",
              "      <th>EMAIL2022</th>\n",
              "      <th>AGE2022</th>\n",
              "      <th>NOM2023</th>\n",
              "      <th>PRENOM2023</th>\n",
              "      <th>EMAIL2023</th>\n",
              "      <th>AGE2023</th>\n",
              "    </tr>\n",
              "  </thead>\n",
              "  <tbody>\n",
              "    <tr>\n",
              "      <th>1</th>\n",
              "      <td>569783</td>\n",
              "      <td>MARTIN</td>\n",
              "      <td>ARIANE</td>\n",
              "      <td>helene.chauvire@gmail.com</td>\n",
              "      <td>10</td>\n",
              "      <td>NaN</td>\n",
              "      <td>NaN</td>\n",
              "      <td>NaN</td>\n",
              "      <td>NaN</td>\n",
              "    </tr>\n",
              "    <tr>\n",
              "      <th>3</th>\n",
              "      <td>572683</td>\n",
              "      <td>BUTEAU</td>\n",
              "      <td>LOUIS</td>\n",
              "      <td>valentin.marie0786@orange.fr</td>\n",
              "      <td>11</td>\n",
              "      <td>NaN</td>\n",
              "      <td>NaN</td>\n",
              "      <td>NaN</td>\n",
              "      <td>NaN</td>\n",
              "    </tr>\n",
              "    <tr>\n",
              "      <th>4</th>\n",
              "      <td>570218</td>\n",
              "      <td>VIALFONT</td>\n",
              "      <td>RONAN</td>\n",
              "      <td>richard.vialfont@gmail.com</td>\n",
              "      <td>12</td>\n",
              "      <td>NaN</td>\n",
              "      <td>NaN</td>\n",
              "      <td>NaN</td>\n",
              "      <td>NaN</td>\n",
              "    </tr>\n",
              "    <tr>\n",
              "      <th>5</th>\n",
              "      <td>571118</td>\n",
              "      <td>CHAPUIS</td>\n",
              "      <td>SALOME</td>\n",
              "      <td>nathalie.venet@gmail.com</td>\n",
              "      <td>12</td>\n",
              "      <td>NaN</td>\n",
              "      <td>NaN</td>\n",
              "      <td>NaN</td>\n",
              "      <td>NaN</td>\n",
              "    </tr>\n",
              "    <tr>\n",
              "      <th>6</th>\n",
              "      <td>569439</td>\n",
              "      <td>LIARD</td>\n",
              "      <td>MATTHIAS</td>\n",
              "      <td>mattirikudo@gmail.com</td>\n",
              "      <td>12</td>\n",
              "      <td>NaN</td>\n",
              "      <td>NaN</td>\n",
              "      <td>NaN</td>\n",
              "      <td>NaN</td>\n",
              "    </tr>\n",
              "  </tbody>\n",
              "</table>\n",
              "</div>\n",
              "      <button class=\"colab-df-convert\" onclick=\"convertToInteractive('df-224216b8-49f8-4d78-9d58-94e5f05c3274')\"\n",
              "              title=\"Convert this dataframe to an interactive table.\"\n",
              "              style=\"display:none;\">\n",
              "        \n",
              "  <svg xmlns=\"http://www.w3.org/2000/svg\" height=\"24px\"viewBox=\"0 0 24 24\"\n",
              "       width=\"24px\">\n",
              "    <path d=\"M0 0h24v24H0V0z\" fill=\"none\"/>\n",
              "    <path d=\"M18.56 5.44l.94 2.06.94-2.06 2.06-.94-2.06-.94-.94-2.06-.94 2.06-2.06.94zm-11 1L8.5 8.5l.94-2.06 2.06-.94-2.06-.94L8.5 2.5l-.94 2.06-2.06.94zm10 10l.94 2.06.94-2.06 2.06-.94-2.06-.94-.94-2.06-.94 2.06-2.06.94z\"/><path d=\"M17.41 7.96l-1.37-1.37c-.4-.4-.92-.59-1.43-.59-.52 0-1.04.2-1.43.59L10.3 9.45l-7.72 7.72c-.78.78-.78 2.05 0 2.83L4 21.41c.39.39.9.59 1.41.59.51 0 1.02-.2 1.41-.59l7.78-7.78 2.81-2.81c.8-.78.8-2.07 0-2.86zM5.41 20L4 18.59l7.72-7.72 1.47 1.35L5.41 20z\"/>\n",
              "  </svg>\n",
              "      </button>\n",
              "      \n",
              "  <style>\n",
              "    .colab-df-container {\n",
              "      display:flex;\n",
              "      flex-wrap:wrap;\n",
              "      gap: 12px;\n",
              "    }\n",
              "\n",
              "    .colab-df-convert {\n",
              "      background-color: #E8F0FE;\n",
              "      border: none;\n",
              "      border-radius: 50%;\n",
              "      cursor: pointer;\n",
              "      display: none;\n",
              "      fill: #1967D2;\n",
              "      height: 32px;\n",
              "      padding: 0 0 0 0;\n",
              "      width: 32px;\n",
              "    }\n",
              "\n",
              "    .colab-df-convert:hover {\n",
              "      background-color: #E2EBFA;\n",
              "      box-shadow: 0px 1px 2px rgba(60, 64, 67, 0.3), 0px 1px 3px 1px rgba(60, 64, 67, 0.15);\n",
              "      fill: #174EA6;\n",
              "    }\n",
              "\n",
              "    [theme=dark] .colab-df-convert {\n",
              "      background-color: #3B4455;\n",
              "      fill: #D2E3FC;\n",
              "    }\n",
              "\n",
              "    [theme=dark] .colab-df-convert:hover {\n",
              "      background-color: #434B5C;\n",
              "      box-shadow: 0px 1px 3px 1px rgba(0, 0, 0, 0.15);\n",
              "      filter: drop-shadow(0px 1px 2px rgba(0, 0, 0, 0.3));\n",
              "      fill: #FFFFFF;\n",
              "    }\n",
              "  </style>\n",
              "\n",
              "      <script>\n",
              "        const buttonEl =\n",
              "          document.querySelector('#df-224216b8-49f8-4d78-9d58-94e5f05c3274 button.colab-df-convert');\n",
              "        buttonEl.style.display =\n",
              "          google.colab.kernel.accessAllowed ? 'block' : 'none';\n",
              "\n",
              "        async function convertToInteractive(key) {\n",
              "          const element = document.querySelector('#df-224216b8-49f8-4d78-9d58-94e5f05c3274');\n",
              "          const dataTable =\n",
              "            await google.colab.kernel.invokeFunction('convertToInteractive',\n",
              "                                                     [key], {});\n",
              "          if (!dataTable) return;\n",
              "\n",
              "          const docLinkHtml = 'Like what you see? Visit the ' +\n",
              "            '<a target=\"_blank\" href=https://colab.research.google.com/notebooks/data_table.ipynb>data table notebook</a>'\n",
              "            + ' to learn more about interactive tables.';\n",
              "          element.innerHTML = '';\n",
              "          dataTable['output_type'] = 'display_data';\n",
              "          await google.colab.output.renderOutput(dataTable, element);\n",
              "          const docLink = document.createElement('div');\n",
              "          docLink.innerHTML = docLinkHtml;\n",
              "          element.appendChild(docLink);\n",
              "        }\n",
              "      </script>\n",
              "    </div>\n",
              "  </div>\n",
              "  "
            ]
          },
          "metadata": {},
          "execution_count": 12
        }
      ]
    },
    {
      "cell_type": "code",
      "source": [
        "nb_rows = df_lost['NO ADHERENT'].count()\n",
        "nb_cols = len(list(df_lost.columns))"
      ],
      "metadata": {
        "id": "OFX_9xKksqd1"
      },
      "execution_count": null,
      "outputs": []
    },
    {
      "cell_type": "code",
      "source": [
        "hist = df_lost['AGE2022'].hist(bins=20, legend=True,figsize =(10,5))"
      ],
      "metadata": {
        "colab": {
          "base_uri": "https://localhost:8080/",
          "height": 322
        },
        "id": "ZFG1DtOoGtkF",
        "outputId": "ea70ca6d-8951-408e-abdd-4a796f55b709"
      },
      "execution_count": null,
      "outputs": [
        {
          "output_type": "display_data",
          "data": {
            "text/plain": [
              "<Figure size 720x360 with 1 Axes>"
            ],
            "image/png": "[encoded data removed]"
          },
          "metadata": {
            "needs_background": "light"
          }
        }
      ]
    },
    {
      "cell_type": "code",
      "source": [
        "try :\n",
        "  licences_reprocessed = worksheet_licence.spreadsheet.worksheet('Lost')\n",
        "  licences_reprocessed.clear()\n",
        "except:\n",
        "  licences_reprocessed = worksheet_licence.spreadsheet.add_worksheet(title='Lost', rows=nb_rows, cols=10)\n",
        "\n",
        "\n",
        "set_with_dataframe(licences_reprocessed, df_lost)"
      ],
      "metadata": {
        "id": "4YldZQjBWJ80"
      },
      "execution_count": null,
      "outputs": []
    },
    {
      "cell_type": "code",
      "source": [
        "df_join = df_2023.join(df_2022.set_index('NO ADHERENT'), on='NO ADHERENT', lsuffix='2023', rsuffix='2022')"
      ],
      "metadata": {
        "id": "8HDW8UuCsyaA"
      },
      "execution_count": null,
      "outputs": []
    },
    {
      "cell_type": "code",
      "source": [
        " df_new= df_join[df_join['NOM2022'].isna()]"
      ],
      "metadata": {
        "id": "aRcoeruX8cUn"
      },
      "execution_count": null,
      "outputs": []
    },
    {
      "cell_type": "code",
      "source": [
        "try :\n",
        "  licences_reprocessed = worksheet_licence.spreadsheet.worksheet('New')\n",
        "  licences_reprocessed.clear()\n",
        "except:\n",
        "  licences_reprocessed = worksheet_licence.spreadsheet.add_worksheet(title='New', rows=nb_rows, cols=10)\n",
        "\n",
        "\n",
        "set_with_dataframe(licences_reprocessed, df_new)"
      ],
      "metadata": {
        "id": "ZrvMrX5z8dvn"
      },
      "execution_count": null,
      "outputs": []
    },
    {
      "cell_type": "code",
      "source": [
        "hist_new = df_new['AGE2023'].hist(bins=20, legend=True,figsize =(10,5))"
      ],
      "metadata": {
        "colab": {
          "base_uri": "https://localhost:8080/",
          "height": 320
        },
        "id": "89rdlnS19KBL",
        "outputId": "efc3a36d-cb26-4b75-af22-0a34ae27c800"
      },
      "execution_count": null,
      "outputs": [
        {
          "output_type": "display_data",
          "data": {
            "text/plain": [
              "<Figure size 720x360 with 1 Axes>"
            ],
            "image/png": "[encoded data removed]"
          },
          "metadata": {
            "needs_background": "light"
          }
        }
      ]
    },
    {
      "cell_type": "code",
      "source": [],
      "metadata": {
        "id": "vhR2X4AC-6tv"
      },
      "execution_count": null,
      "outputs": []
    }
  ]
}