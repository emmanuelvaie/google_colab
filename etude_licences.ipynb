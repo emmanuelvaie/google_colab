{
  "nbformat": 4,
  "nbformat_minor": 0,
  "metadata": {
    "colab": {
      "provenance": [],
      "collapsed_sections": [],
      "authorship_tag": "ABX9TyNB7F2b9Q2JvOho6J/PHpRt",
      "include_colab_link": true
    },
    "kernelspec": {
      "name": "python3",
      "display_name": "Python 3"
    },
    "language_info": {
      "name": "python"
    }
  },
  "cells": [
    {
      "cell_type": "markdown",
      "metadata": {
        "id": "view-in-github",
        "colab_type": "text"
      },
      "source": [
        "<a href=\"https://colab.research.google.com/github/emmanuelvaie/google_colab/blob/main/etude_licences.ipynb\" target=\"_parent\"><img src=\"https://colab.research.google.com/assets/colab-badge.svg\" alt=\"Open In Colab\"/></a>"
      ]
    },
    {
      "cell_type": "code",
      "execution_count": 89,
      "metadata": {
        "id": "QoJU5JjAKvH-"
      },
      "outputs": [],
      "source": [
        "from google.colab import auth\n",
        "auth.authenticate_user()\n",
        "import pandas as pd\n",
        "import gspread\n",
        "from google.auth import default\n",
        "from gspread_dataframe import set_with_dataframe\n",
        "\n",
        "\n",
        "creds, _ = default()\n",
        "\n",
        "gc = gspread.authorize(creds) "
      ]
    },
    {
      "cell_type": "code",
      "source": [
        "worksheet_licence = gc.open_by_url('https://docs.google.com/spreadsheets/d/1cifoZq8-5ILJk5-2R3yZWnX52DohTYoG1cYbeo0Gqss/edit#gid=1576518051').sheet1\n",
        "\n",
        "licences_2022 = worksheet_licence.spreadsheet.worksheet('2022')\n",
        "# get_all_values gives a list of rows.\n",
        "rows_licences = licences_2022.get_all_values()\n",
        "\n",
        "df_licences_2022 = pd.DataFrame.from_records(rows_licences,columns=rows_licences[0])\n",
        "df_licences_2022 = df_licences_2022.drop(0).reindex()"
      ],
      "metadata": {
        "id": "VF_XKBEFLDQ5"
      },
      "execution_count": 47,
      "outputs": []
    },
    {
      "cell_type": "code",
      "source": [
        "df_licences_2022['NO ADHERENT'].count()"
      ],
      "metadata": {
        "colab": {
          "base_uri": "https://localhost:8080/"
        },
        "id": "7EV-JHNcf7Eo",
        "outputId": "ed465bed-e795-44e6-ef40-9bf0e39f4bf9"
      },
      "execution_count": 48,
      "outputs": [
        {
          "output_type": "execute_result",
          "data": {
            "text/plain": [
              "390"
            ]
          },
          "metadata": {},
          "execution_count": 48
        }
      ]
    },
    {
      "cell_type": "code",
      "source": [
        "df_licences_2022['NO ADHERENT'] = df_licences_2022['NO ADHERENT'].apply(lambda x: x.strip())\n",
        "df_licences_2022['NO ADHERENT'] = df_licences_2022['NO ADHERENT'].astype('float')\n",
        "df_licences_2022['NO ADHERENT'] = df_licences_2022['NO ADHERENT'].astype('Int32')"
      ],
      "metadata": {
        "id": "E8SgSk3FqLv-"
      },
      "execution_count": 66,
      "outputs": []
    },
    {
      "cell_type": "code",
      "source": [
        "licences_2023 = worksheet_licence.spreadsheet.worksheet('2023')\n",
        "\n",
        "# get_all_values gives a list of rows.\n",
        "rows_licences = licences_2023.get_all_values()\n",
        "\n",
        "import pandas as pd\n",
        "df_licences_2023 = pd.DataFrame.from_records(rows_licences,columns=rows_licences[0])\n",
        "df_licences_2023 = df_licences_2023.drop(0).reindex()"
      ],
      "metadata": {
        "id": "3GKLJUslf7cG"
      },
      "execution_count": 49,
      "outputs": []
    },
    {
      "cell_type": "code",
      "source": [
        "df_licences_2023['NO ADHERENT'].count()"
      ],
      "metadata": {
        "colab": {
          "base_uri": "https://localhost:8080/"
        },
        "id": "_DDLU-TUggvi",
        "outputId": "5275c389-27c4-43aa-cca8-e87e335cc8bc"
      },
      "execution_count": 50,
      "outputs": [
        {
          "output_type": "execute_result",
          "data": {
            "text/plain": [
              "286"
            ]
          },
          "metadata": {},
          "execution_count": 50
        }
      ]
    },
    {
      "cell_type": "code",
      "source": [
        "df_licences_2023['NO ADHERENT'] = df_licences_2023['NO ADHERENT'].apply(lambda x: x.strip())\n",
        "df_licences_2023['NO ADHERENT'] = df_licences_2023['NO ADHERENT'].astype('float')\n",
        "df_licences_2023['NO ADHERENT'] = df_licences_2023['NO ADHERENT'].astype('Int32')"
      ],
      "metadata": {
        "id": "bxYkoVOIqhOx"
      },
      "execution_count": 67,
      "outputs": []
    },
    {
      "cell_type": "code",
      "source": [
        "import datetime\n",
        "now = datetime.datetime.now()\n",
        "df_licences_2022['AGE'] = df_licences_2022['DATE NAISSANCE'].apply(lambda x: now.year - pd.to_datetime(x).year)\n",
        "df_licences_2023['AGE'] = df_licences_2023['DATE NAISSANCE'].apply(lambda x: now.year - pd.to_datetime(x).year)"
      ],
      "metadata": {
        "id": "2Y5qglkhBter"
      },
      "execution_count": 105,
      "outputs": []
    },
    {
      "cell_type": "code",
      "source": [
        "df_2022 = df_licences_2022[['NO ADHERENT','NOM','PRENOM','EMAIL','AGE']]\n",
        "df_2023 = df_licences_2023[['NO ADHERENT','NOM','PRENOM','EMAIL','AGE']]"
      ],
      "metadata": {
        "id": "BMDUTNXej71j"
      },
      "execution_count": 106,
      "outputs": []
    },
    {
      "cell_type": "code",
      "source": [
        "df = df_2022.join(df_2023.set_index('NO ADHERENT'), on='NO ADHERENT', lsuffix='2022', rsuffix='2023')"
      ],
      "metadata": {
        "id": "kRmX1wd3k9vS"
      },
      "execution_count": 107,
      "outputs": []
    },
    {
      "cell_type": "code",
      "source": [
        "df.head()"
      ],
      "metadata": {
        "colab": {
          "base_uri": "https://localhost:8080/",
          "height": 206
        },
        "id": "r86qgkpdsZNs",
        "outputId": "c6dfec23-7a55-47a5-e68b-6c85c8314380"
      },
      "execution_count": 108,
      "outputs": [
        {
          "output_type": "execute_result",
          "data": {
            "text/plain": [
              "  NO ADHERENT   NOM2022  PRENOM2022                   EMAIL2022  AGE2022  \\\n",
              "1      127195  JONCOURT      SYLVIE  joncourtsylvie02@gmail.com       63   \n",
              "2      231248   JOUBERT      JEROME  joubert_jerome@hotmail.com       55   \n",
              "3      525000      TOTH   KRISZTINA          t.kriszty@yahoo.fr       49   \n",
              "4      348574      VAIE    EMMANUEL           vaiee@hotmail.com       51   \n",
              "5      432020  EXBRAYAT  JEAN-LOUIS        jexbrayat@icloud.com       73   \n",
              "\n",
              "    NOM2023  PRENOM2023                   EMAIL2023  AGE2023  \n",
              "1  JONCOURT      SYLVIE  joncourtsylvie02@gmail.com     63.0  \n",
              "2   JOUBERT      JEROME  joubert_jerome@hotmail.com     55.0  \n",
              "3      TOTH   KRISZTINA          t.kriszty@yahoo.fr     49.0  \n",
              "4      VAIE    EMMANUEL           vaiee@hotmail.com     51.0  \n",
              "5  EXBRAYAT  JEAN-LOUIS        jexbrayat@icloud.com     73.0  "
            ],
            "text/html": [
              "\n",
              "  <div id=\"df-ce78f323-f77c-48b0-ab9e-6a3f5c7213f2\">\n",
              "    <div class=\"colab-df-container\">\n",
              "      <div>\n",
              "<style scoped>\n",
              "    .dataframe tbody tr th:only-of-type {\n",
              "        vertical-align: middle;\n",
              "    }\n",
              "\n",
              "    .dataframe tbody tr th {\n",
              "        vertical-align: top;\n",
              "    }\n",
              "\n",
              "    .dataframe thead th {\n",
              "        text-align: right;\n",
              "    }\n",
              "</style>\n",
              "<table border=\"1\" class=\"dataframe\">\n",
              "  <thead>\n",
              "    <tr style=\"text-align: right;\">\n",
              "      <th></th>\n",
              "      <th>NO ADHERENT</th>\n",
              "      <th>NOM2022</th>\n",
              "      <th>PRENOM2022</th>\n",
              "      <th>EMAIL2022</th>\n",
              "      <th>AGE2022</th>\n",
              "      <th>NOM2023</th>\n",
              "      <th>PRENOM2023</th>\n",
              "      <th>EMAIL2023</th>\n",
              "      <th>AGE2023</th>\n",
              "    </tr>\n",
              "  </thead>\n",
              "  <tbody>\n",
              "    <tr>\n",
              "      <th>1</th>\n",
              "      <td>127195</td>\n",
              "      <td>JONCOURT</td>\n",
              "      <td>SYLVIE</td>\n",
              "      <td>joncourtsylvie02@gmail.com</td>\n",
              "      <td>63</td>\n",
              "      <td>JONCOURT</td>\n",
              "      <td>SYLVIE</td>\n",
              "      <td>joncourtsylvie02@gmail.com</td>\n",
              "      <td>63.0</td>\n",
              "    </tr>\n",
              "    <tr>\n",
              "      <th>2</th>\n",
              "      <td>231248</td>\n",
              "      <td>JOUBERT</td>\n",
              "      <td>JEROME</td>\n",
              "      <td>joubert_jerome@hotmail.com</td>\n",
              "      <td>55</td>\n",
              "      <td>JOUBERT</td>\n",
              "      <td>JEROME</td>\n",
              "      <td>joubert_jerome@hotmail.com</td>\n",
              "      <td>55.0</td>\n",
              "    </tr>\n",
              "    <tr>\n",
              "      <th>3</th>\n",
              "      <td>525000</td>\n",
              "      <td>TOTH</td>\n",
              "      <td>KRISZTINA</td>\n",
              "      <td>t.kriszty@yahoo.fr</td>\n",
              "      <td>49</td>\n",
              "      <td>TOTH</td>\n",
              "      <td>KRISZTINA</td>\n",
              "      <td>t.kriszty@yahoo.fr</td>\n",
              "      <td>49.0</td>\n",
              "    </tr>\n",
              "    <tr>\n",
              "      <th>4</th>\n",
              "      <td>348574</td>\n",
              "      <td>VAIE</td>\n",
              "      <td>EMMANUEL</td>\n",
              "      <td>vaiee@hotmail.com</td>\n",
              "      <td>51</td>\n",
              "      <td>VAIE</td>\n",
              "      <td>EMMANUEL</td>\n",
              "      <td>vaiee@hotmail.com</td>\n",
              "      <td>51.0</td>\n",
              "    </tr>\n",
              "    <tr>\n",
              "      <th>5</th>\n",
              "      <td>432020</td>\n",
              "      <td>EXBRAYAT</td>\n",
              "      <td>JEAN-LOUIS</td>\n",
              "      <td>jexbrayat@icloud.com</td>\n",
              "      <td>73</td>\n",
              "      <td>EXBRAYAT</td>\n",
              "      <td>JEAN-LOUIS</td>\n",
              "      <td>jexbrayat@icloud.com</td>\n",
              "      <td>73.0</td>\n",
              "    </tr>\n",
              "  </tbody>\n",
              "</table>\n",
              "</div>\n",
              "      <button class=\"colab-df-convert\" onclick=\"convertToInteractive('df-ce78f323-f77c-48b0-ab9e-6a3f5c7213f2')\"\n",
              "              title=\"Convert this dataframe to an interactive table.\"\n",
              "              style=\"display:none;\">\n",
              "        \n",
              "  <svg xmlns=\"http://www.w3.org/2000/svg\" height=\"24px\"viewBox=\"0 0 24 24\"\n",
              "       width=\"24px\">\n",
              "    <path d=\"M0 0h24v24H0V0z\" fill=\"none\"/>\n",
              "    <path d=\"M18.56 5.44l.94 2.06.94-2.06 2.06-.94-2.06-.94-.94-2.06-.94 2.06-2.06.94zm-11 1L8.5 8.5l.94-2.06 2.06-.94-2.06-.94L8.5 2.5l-.94 2.06-2.06.94zm10 10l.94 2.06.94-2.06 2.06-.94-2.06-.94-.94-2.06-.94 2.06-2.06.94z\"/><path d=\"M17.41 7.96l-1.37-1.37c-.4-.4-.92-.59-1.43-.59-.52 0-1.04.2-1.43.59L10.3 9.45l-7.72 7.72c-.78.78-.78 2.05 0 2.83L4 21.41c.39.39.9.59 1.41.59.51 0 1.02-.2 1.41-.59l7.78-7.78 2.81-2.81c.8-.78.8-2.07 0-2.86zM5.41 20L4 18.59l7.72-7.72 1.47 1.35L5.41 20z\"/>\n",
              "  </svg>\n",
              "      </button>\n",
              "      \n",
              "  <style>\n",
              "    .colab-df-container {\n",
              "      display:flex;\n",
              "      flex-wrap:wrap;\n",
              "      gap: 12px;\n",
              "    }\n",
              "\n",
              "    .colab-df-convert {\n",
              "      background-color: #E8F0FE;\n",
              "      border: none;\n",
              "      border-radius: 50%;\n",
              "      cursor: pointer;\n",
              "      display: none;\n",
              "      fill: #1967D2;\n",
              "      height: 32px;\n",
              "      padding: 0 0 0 0;\n",
              "      width: 32px;\n",
              "    }\n",
              "\n",
              "    .colab-df-convert:hover {\n",
              "      background-color: #E2EBFA;\n",
              "      box-shadow: 0px 1px 2px rgba(60, 64, 67, 0.3), 0px 1px 3px 1px rgba(60, 64, 67, 0.15);\n",
              "      fill: #174EA6;\n",
              "    }\n",
              "\n",
              "    [theme=dark] .colab-df-convert {\n",
              "      background-color: #3B4455;\n",
              "      fill: #D2E3FC;\n",
              "    }\n",
              "\n",
              "    [theme=dark] .colab-df-convert:hover {\n",
              "      background-color: #434B5C;\n",
              "      box-shadow: 0px 1px 3px 1px rgba(0, 0, 0, 0.15);\n",
              "      filter: drop-shadow(0px 1px 2px rgba(0, 0, 0, 0.3));\n",
              "      fill: #FFFFFF;\n",
              "    }\n",
              "  </style>\n",
              "\n",
              "      <script>\n",
              "        const buttonEl =\n",
              "          document.querySelector('#df-ce78f323-f77c-48b0-ab9e-6a3f5c7213f2 button.colab-df-convert');\n",
              "        buttonEl.style.display =\n",
              "          google.colab.kernel.accessAllowed ? 'block' : 'none';\n",
              "\n",
              "        async function convertToInteractive(key) {\n",
              "          const element = document.querySelector('#df-ce78f323-f77c-48b0-ab9e-6a3f5c7213f2');\n",
              "          const dataTable =\n",
              "            await google.colab.kernel.invokeFunction('convertToInteractive',\n",
              "                                                     [key], {});\n",
              "          if (!dataTable) return;\n",
              "\n",
              "          const docLinkHtml = 'Like what you see? Visit the ' +\n",
              "            '<a target=\"_blank\" href=https://colab.research.google.com/notebooks/data_table.ipynb>data table notebook</a>'\n",
              "            + ' to learn more about interactive tables.';\n",
              "          element.innerHTML = '';\n",
              "          dataTable['output_type'] = 'display_data';\n",
              "          await google.colab.output.renderOutput(dataTable, element);\n",
              "          const docLink = document.createElement('div');\n",
              "          docLink.innerHTML = docLinkHtml;\n",
              "          element.appendChild(docLink);\n",
              "        }\n",
              "      </script>\n",
              "    </div>\n",
              "  </div>\n",
              "  "
            ]
          },
          "metadata": {},
          "execution_count": 108
        }
      ]
    },
    {
      "cell_type": "code",
      "source": [
        "df_lost = df[df['NOM2023'].isna()]\n",
        "df_lost.head()"
      ],
      "metadata": {
        "colab": {
          "base_uri": "https://localhost:8080/",
          "height": 206
        },
        "id": "oxqd6btcrQC0",
        "outputId": "7b3bee1f-480e-4c24-87fa-cc4996506231"
      },
      "execution_count": 109,
      "outputs": [
        {
          "output_type": "execute_result",
          "data": {
            "text/plain": [
              "   NO ADHERENT   NOM2022 PRENOM2022                   EMAIL2022  AGE2022  \\\n",
              "9       551820     BADIN      ALAIN          alainbadin@free.fr       60   \n",
              "11      550880  BURGALAT   BERTRAND       bertrand@tricatel.com       59   \n",
              "16      433007    FERTIN    EDOUARD      edflo.fertin@gmail.com       54   \n",
              "18      548978   LAURENT      SIMON   simonlaurent864@gmail.com       14   \n",
              "20      557077   MAINGUY     MATHIS  albanechaffard@hotmail.com       15   \n",
              "\n",
              "   NOM2023 PRENOM2023 EMAIL2023  AGE2023  \n",
              "9      NaN        NaN       NaN      NaN  \n",
              "11     NaN        NaN       NaN      NaN  \n",
              "16     NaN        NaN       NaN      NaN  \n",
              "18     NaN        NaN       NaN      NaN  \n",
              "20     NaN        NaN       NaN      NaN  "
            ],
            "text/html": [
              "\n",
              "  <div id=\"df-7f925265-8d28-4dec-b0cc-c8ec492dabac\">\n",
              "    <div class=\"colab-df-container\">\n",
              "      <div>\n",
              "<style scoped>\n",
              "    .dataframe tbody tr th:only-of-type {\n",
              "        vertical-align: middle;\n",
              "    }\n",
              "\n",
              "    .dataframe tbody tr th {\n",
              "        vertical-align: top;\n",
              "    }\n",
              "\n",
              "    .dataframe thead th {\n",
              "        text-align: right;\n",
              "    }\n",
              "</style>\n",
              "<table border=\"1\" class=\"dataframe\">\n",
              "  <thead>\n",
              "    <tr style=\"text-align: right;\">\n",
              "      <th></th>\n",
              "      <th>NO ADHERENT</th>\n",
              "      <th>NOM2022</th>\n",
              "      <th>PRENOM2022</th>\n",
              "      <th>EMAIL2022</th>\n",
              "      <th>AGE2022</th>\n",
              "      <th>NOM2023</th>\n",
              "      <th>PRENOM2023</th>\n",
              "      <th>EMAIL2023</th>\n",
              "      <th>AGE2023</th>\n",
              "    </tr>\n",
              "  </thead>\n",
              "  <tbody>\n",
              "    <tr>\n",
              "      <th>9</th>\n",
              "      <td>551820</td>\n",
              "      <td>BADIN</td>\n",
              "      <td>ALAIN</td>\n",
              "      <td>alainbadin@free.fr</td>\n",
              "      <td>60</td>\n",
              "      <td>NaN</td>\n",
              "      <td>NaN</td>\n",
              "      <td>NaN</td>\n",
              "      <td>NaN</td>\n",
              "    </tr>\n",
              "    <tr>\n",
              "      <th>11</th>\n",
              "      <td>550880</td>\n",
              "      <td>BURGALAT</td>\n",
              "      <td>BERTRAND</td>\n",
              "      <td>bertrand@tricatel.com</td>\n",
              "      <td>59</td>\n",
              "      <td>NaN</td>\n",
              "      <td>NaN</td>\n",
              "      <td>NaN</td>\n",
              "      <td>NaN</td>\n",
              "    </tr>\n",
              "    <tr>\n",
              "      <th>16</th>\n",
              "      <td>433007</td>\n",
              "      <td>FERTIN</td>\n",
              "      <td>EDOUARD</td>\n",
              "      <td>edflo.fertin@gmail.com</td>\n",
              "      <td>54</td>\n",
              "      <td>NaN</td>\n",
              "      <td>NaN</td>\n",
              "      <td>NaN</td>\n",
              "      <td>NaN</td>\n",
              "    </tr>\n",
              "    <tr>\n",
              "      <th>18</th>\n",
              "      <td>548978</td>\n",
              "      <td>LAURENT</td>\n",
              "      <td>SIMON</td>\n",
              "      <td>simonlaurent864@gmail.com</td>\n",
              "      <td>14</td>\n",
              "      <td>NaN</td>\n",
              "      <td>NaN</td>\n",
              "      <td>NaN</td>\n",
              "      <td>NaN</td>\n",
              "    </tr>\n",
              "    <tr>\n",
              "      <th>20</th>\n",
              "      <td>557077</td>\n",
              "      <td>MAINGUY</td>\n",
              "      <td>MATHIS</td>\n",
              "      <td>albanechaffard@hotmail.com</td>\n",
              "      <td>15</td>\n",
              "      <td>NaN</td>\n",
              "      <td>NaN</td>\n",
              "      <td>NaN</td>\n",
              "      <td>NaN</td>\n",
              "    </tr>\n",
              "  </tbody>\n",
              "</table>\n",
              "</div>\n",
              "      <button class=\"colab-df-convert\" onclick=\"convertToInteractive('df-7f925265-8d28-4dec-b0cc-c8ec492dabac')\"\n",
              "              title=\"Convert this dataframe to an interactive table.\"\n",
              "              style=\"display:none;\">\n",
              "        \n",
              "  <svg xmlns=\"http://www.w3.org/2000/svg\" height=\"24px\"viewBox=\"0 0 24 24\"\n",
              "       width=\"24px\">\n",
              "    <path d=\"M0 0h24v24H0V0z\" fill=\"none\"/>\n",
              "    <path d=\"M18.56 5.44l.94 2.06.94-2.06 2.06-.94-2.06-.94-.94-2.06-.94 2.06-2.06.94zm-11 1L8.5 8.5l.94-2.06 2.06-.94-2.06-.94L8.5 2.5l-.94 2.06-2.06.94zm10 10l.94 2.06.94-2.06 2.06-.94-2.06-.94-.94-2.06-.94 2.06-2.06.94z\"/><path d=\"M17.41 7.96l-1.37-1.37c-.4-.4-.92-.59-1.43-.59-.52 0-1.04.2-1.43.59L10.3 9.45l-7.72 7.72c-.78.78-.78 2.05 0 2.83L4 21.41c.39.39.9.59 1.41.59.51 0 1.02-.2 1.41-.59l7.78-7.78 2.81-2.81c.8-.78.8-2.07 0-2.86zM5.41 20L4 18.59l7.72-7.72 1.47 1.35L5.41 20z\"/>\n",
              "  </svg>\n",
              "      </button>\n",
              "      \n",
              "  <style>\n",
              "    .colab-df-container {\n",
              "      display:flex;\n",
              "      flex-wrap:wrap;\n",
              "      gap: 12px;\n",
              "    }\n",
              "\n",
              "    .colab-df-convert {\n",
              "      background-color: #E8F0FE;\n",
              "      border: none;\n",
              "      border-radius: 50%;\n",
              "      cursor: pointer;\n",
              "      display: none;\n",
              "      fill: #1967D2;\n",
              "      height: 32px;\n",
              "      padding: 0 0 0 0;\n",
              "      width: 32px;\n",
              "    }\n",
              "\n",
              "    .colab-df-convert:hover {\n",
              "      background-color: #E2EBFA;\n",
              "      box-shadow: 0px 1px 2px rgba(60, 64, 67, 0.3), 0px 1px 3px 1px rgba(60, 64, 67, 0.15);\n",
              "      fill: #174EA6;\n",
              "    }\n",
              "\n",
              "    [theme=dark] .colab-df-convert {\n",
              "      background-color: #3B4455;\n",
              "      fill: #D2E3FC;\n",
              "    }\n",
              "\n",
              "    [theme=dark] .colab-df-convert:hover {\n",
              "      background-color: #434B5C;\n",
              "      box-shadow: 0px 1px 3px 1px rgba(0, 0, 0, 0.15);\n",
              "      filter: drop-shadow(0px 1px 2px rgba(0, 0, 0, 0.3));\n",
              "      fill: #FFFFFF;\n",
              "    }\n",
              "  </style>\n",
              "\n",
              "      <script>\n",
              "        const buttonEl =\n",
              "          document.querySelector('#df-7f925265-8d28-4dec-b0cc-c8ec492dabac button.colab-df-convert');\n",
              "        buttonEl.style.display =\n",
              "          google.colab.kernel.accessAllowed ? 'block' : 'none';\n",
              "\n",
              "        async function convertToInteractive(key) {\n",
              "          const element = document.querySelector('#df-7f925265-8d28-4dec-b0cc-c8ec492dabac');\n",
              "          const dataTable =\n",
              "            await google.colab.kernel.invokeFunction('convertToInteractive',\n",
              "                                                     [key], {});\n",
              "          if (!dataTable) return;\n",
              "\n",
              "          const docLinkHtml = 'Like what you see? Visit the ' +\n",
              "            '<a target=\"_blank\" href=https://colab.research.google.com/notebooks/data_table.ipynb>data table notebook</a>'\n",
              "            + ' to learn more about interactive tables.';\n",
              "          element.innerHTML = '';\n",
              "          dataTable['output_type'] = 'display_data';\n",
              "          await google.colab.output.renderOutput(dataTable, element);\n",
              "          const docLink = document.createElement('div');\n",
              "          docLink.innerHTML = docLinkHtml;\n",
              "          element.appendChild(docLink);\n",
              "        }\n",
              "      </script>\n",
              "    </div>\n",
              "  </div>\n",
              "  "
            ]
          },
          "metadata": {},
          "execution_count": 109
        }
      ]
    },
    {
      "cell_type": "code",
      "source": [
        "nb_rows = df_lost['NO ADHERENT'].count()\n",
        "nb_cols = len(list(df_lost.columns))"
      ],
      "metadata": {
        "id": "OFX_9xKksqd1"
      },
      "execution_count": 110,
      "outputs": []
    },
    {
      "cell_type": "code",
      "source": [
        "hist = df_lost['AGE2022'].hist(bins=20, legend=True,figsize =(10,5))"
      ],
      "metadata": {
        "colab": {
          "base_uri": "https://localhost:8080/",
          "height": 320
        },
        "id": "ZFG1DtOoGtkF",
        "outputId": "3d2dcd68-e9aa-47e9-d229-dce211ae2743"
      },
      "execution_count": 118,
      "outputs": [
        {
          "output_type": "display_data",
          "data": {
            "text/plain": [
              "<Figure size 720x360 with 1 Axes>"
            ],
            "image/png": "[encoded data removed]"
          },
          "metadata": {
            "needs_background": "light"
          }
        }
      ]
    },
    {
      "cell_type": "code",
      "source": [
        "try :\n",
        "  licences_reprocessed = worksheet_licence.spreadsheet.worksheet('Lost')\n",
        "  licences_reprocessed.clear()\n",
        "except:\n",
        "  licences_reprocessed = worksheet_licence.spreadsheet.add_worksheet(title='Lost', rows=nb_rows, cols=10)\n",
        "\n",
        "\n",
        "set_with_dataframe(licences_reprocessed, df_lost)"
      ],
      "metadata": {
        "id": "4YldZQjBWJ80"
      },
      "execution_count": 112,
      "outputs": []
    },
    {
      "cell_type": "code",
      "source": [],
      "metadata": {
        "id": "8HDW8UuCsyaA"
      },
      "execution_count": null,
      "outputs": []
    }
  ]
}