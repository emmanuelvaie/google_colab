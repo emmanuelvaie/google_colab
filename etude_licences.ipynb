{
  "nbformat": 4,
  "nbformat_minor": 0,
  "metadata": {
    "colab": {
      "provenance": [],
      "collapsed_sections": [],
      "authorship_tag": "ABX9TyON9oxW3zPuBto6BLGkH6YE",
      "include_colab_link": true
    },
    "kernelspec": {
      "name": "python3",
      "display_name": "Python 3"
    },
    "language_info": {
      "name": "python"
    }
  },
  "cells": [
    {
      "cell_type": "markdown",
      "metadata": {
        "id": "view-in-github",
        "colab_type": "text"
      },
      "source": [
        "<a href=\"https://colab.research.google.com/github/emmanuelvaie/google_colab/blob/main/etude_licences.ipynb\" target=\"_parent\"><img src=\"https://colab.research.google.com/assets/colab-badge.svg\" alt=\"Open In Colab\"/></a>"
      ]
    },
    {
      "cell_type": "code",
      "execution_count": 8,
      "metadata": {
        "id": "QoJU5JjAKvH-"
      },
      "outputs": [],
      "source": [
        "from google.colab import auth\n",
        "auth.authenticate_user()\n",
        "import pandas as pd\n",
        "import gspread\n",
        "from google.auth import default\n",
        "creds, _ = default()\n",
        "\n",
        "gc = gspread.authorize(creds) "
      ]
    },
    {
      "cell_type": "code",
      "source": [
        "worksheet_licence = gc.open_by_url('https://docs.google.com/spreadsheets/d/1cifoZq8-5ILJk5-2R3yZWnX52DohTYoG1cYbeo0Gqss/edit#gid=1576518051').sheet1\n",
        "\n",
        "licences_2022 = worksheet_licence.spreadsheet.worksheet('2022')\n",
        "# get_all_values gives a list of rows.\n",
        "rows_licences = licences_2022.get_all_values()\n",
        "\n",
        "df_licences_2022 = pd.DataFrame.from_records(rows_licences,columns=rows_licences[0])\n",
        "df_licences_2022 = df_licences_2022.drop(0).reindex()"
      ],
      "metadata": {
        "id": "VF_XKBEFLDQ5"
      },
      "execution_count": 10,
      "outputs": []
    },
    {
      "cell_type": "code",
      "source": [
        "df_licences_2022['NO ADHERENT'].count()"
      ],
      "metadata": {
        "colab": {
          "base_uri": "https://localhost:8080/"
        },
        "id": "7EV-JHNcf7Eo",
        "outputId": "cd2f8168-c462-4274-e715-3e993415582e"
      },
      "execution_count": 15,
      "outputs": [
        {
          "output_type": "execute_result",
          "data": {
            "text/plain": [
              "390"
            ]
          },
          "metadata": {},
          "execution_count": 15
        }
      ]
    },
    {
      "cell_type": "code",
      "source": [
        "licences_2023 = worksheet_licence.spreadsheet.worksheet('2023')\n",
        "\n",
        "# get_all_values gives a list of rows.\n",
        "rows_licences = licences_2023.get_all_values()\n",
        "\n",
        "import pandas as pd\n",
        "df_licences_2023 = pd.DataFrame.from_records(rows_licences,columns=rows_licences[0])\n",
        "df_licences_2023 = df_licences_2023.drop(0).reindex()"
      ],
      "metadata": {
        "id": "3GKLJUslf7cG"
      },
      "execution_count": 12,
      "outputs": []
    },
    {
      "cell_type": "code",
      "source": [
        "df_licences_2023['NO ADHERENT'].count()"
      ],
      "metadata": {
        "colab": {
          "base_uri": "https://localhost:8080/"
        },
        "id": "_DDLU-TUggvi",
        "outputId": "db23237c-9b61-49f5-c5d3-d3b9a40fbdb4"
      },
      "execution_count": 14,
      "outputs": [
        {
          "output_type": "execute_result",
          "data": {
            "text/plain": [
              "286"
            ]
          },
          "metadata": {},
          "execution_count": 14
        }
      ]
    },
    {
      "cell_type": "code",
      "source": [],
      "metadata": {
        "id": "oVXNdFe4hsps"
      },
      "execution_count": null,
      "outputs": []
    },
    {
      "cell_type": "code",
      "source": [
        "try :\n",
        "  licences_reprocessed = worksheet_licence.spreadsheet.worksheet('Lost')\n",
        "  licences_reprocessed.clear()\n",
        "except:\n",
        "  licences_reprocessed = worksheet_licence.spreadsheet.add_worksheet(title='Lost', rows=nb_rows, cols=nb_cols)\n",
        "\n",
        "from gspread_dataframe import set_with_dataframe\n",
        "set_with_dataframe(licences_reprocessed, df_lost)"
      ],
      "metadata": {
        "id": "4YldZQjBWJ80"
      },
      "execution_count": null,
      "outputs": []
    }
  ]
}