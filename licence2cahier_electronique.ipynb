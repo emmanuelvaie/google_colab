{
  "nbformat": 4,
  "nbformat_minor": 0,
  "metadata": {
    "colab": {
      "provenance": [],
      "collapsed_sections": [],
      "authorship_tag": "ABX9TyPkFalwRXEw2q5xXNdVjQd7",
      "include_colab_link": true
    },
    "kernelspec": {
      "name": "python3",
      "display_name": "Python 3"
    },
    "language_info": {
      "name": "python"
    }
  },
  "cells": [
    {
      "cell_type": "markdown",
      "metadata": {
        "id": "view-in-github",
        "colab_type": "text"
      },
      "source": [
        "<a href=\"https://colab.research.google.com/github/emmanuelvaie/google_colab/blob/main/licence2cahier_electronique.ipynb\" target=\"_parent\"><img src=\"https://colab.research.google.com/assets/colab-badge.svg\" alt=\"Open In Colab\"/></a>"
      ]
    },
    {
      "cell_type": "code",
      "execution_count": 98,
      "metadata": {
        "id": "QoJU5JjAKvH-"
      },
      "outputs": [],
      "source": [
        "from google.colab import auth\n",
        "auth.authenticate_user()\n",
        "\n",
        "import gspread\n",
        "from google.auth import default\n",
        "creds, _ = default()\n",
        "\n",
        "gc = gspread.authorize(creds) "
      ]
    },
    {
      "cell_type": "code",
      "source": [
        "worksheet_licence = gc.open_by_url('https://docs.google.com/spreadsheets/d/15vnCNwatQkb-Ag4K6jvIL1pXpZRwtBrhcbCJ6397LDA/edit#gid=806761863').sheet1\n",
        "\n",
        "# get_all_values gives a list of rows.\n",
        "rows_licences = worksheet_licence.get_all_values()\n",
        "\n",
        "import pandas as pd\n",
        "df_licences = pd.DataFrame.from_records(rows_licences,columns=rows_licences[0])\n",
        "df_licences = df_licences.drop(0).reindex()"
      ],
      "metadata": {
        "id": "VF_XKBEFLDQ5"
      },
      "execution_count": 99,
      "outputs": []
    },
    {
      "cell_type": "code",
      "source": [
        "df_licences.count()"
      ],
      "metadata": {
        "colab": {
          "base_uri": "https://localhost:8080/"
        },
        "id": "_DDLU-TUggvi",
        "outputId": "e8d9bc4e-5ece-42fc-c617-576e01b92945"
      },
      "execution_count": 100,
      "outputs": [
        {
          "output_type": "execute_result",
          "data": {
            "text/plain": [
              "NO ADHERENT                 197\n",
              "NOM                         197\n",
              "PRENOM                      197\n",
              "DATE NAISSANCE              197\n",
              "SEXE                        197\n",
              "DIFFUSION ADRESSE           197\n",
              "CATEGORIE LICENCE           197\n",
              "ADRESSE 1                   197\n",
              "ADRESSE 2                   197\n",
              "ADRESSE 3                   197\n",
              "ADRESSE 4                   197\n",
              "CODE POSTAL                 197\n",
              "VILLE                       197\n",
              "PAYS                        197\n",
              "N TEL                       197\n",
              "EMAIL                       197\n",
              "CODE INSEE                  197\n",
              "NO STR                      197\n",
              "LIGUE                       197\n",
              "CD                          197\n",
              "DATE DE SAISIE              197\n",
              "PORTEUR D'UN HANDICAP       197\n",
              "TYPE DE HANDICAP            197\n",
              "CLASSIFICATION ENVISAGEE    197\n",
              "CLASSIFICATION              197\n",
              "SOUS-CLASSIFICATION         197\n",
              "CLASSIFICATION VI           197\n",
              "NIVEAU CLASSIFICATION       197\n",
              "MODE SAISIE                 197\n",
              "dtype: int64"
            ]
          },
          "metadata": {},
          "execution_count": 100
        }
      ]
    },
    {
      "cell_type": "code",
      "source": [
        "df_licences.columns"
      ],
      "metadata": {
        "colab": {
          "base_uri": "https://localhost:8080/"
        },
        "id": "B3xwTuvTMszW",
        "outputId": "c38d21bc-c6ef-4049-c0a8-c4aa49537cec"
      },
      "execution_count": 101,
      "outputs": [
        {
          "output_type": "execute_result",
          "data": {
            "text/plain": [
              "Index(['NO ADHERENT', 'NOM', 'PRENOM', 'DATE NAISSANCE', 'SEXE',\n",
              "       'DIFFUSION ADRESSE', 'CATEGORIE LICENCE', 'ADRESSE 1', 'ADRESSE 2',\n",
              "       'ADRESSE 3', 'ADRESSE 4', 'CODE POSTAL', 'VILLE', 'PAYS', 'N TEL',\n",
              "       'EMAIL', 'CODE INSEE', 'NO STR', 'LIGUE', 'CD', 'DATE DE SAISIE',\n",
              "       'PORTEUR D'UN HANDICAP', 'TYPE DE HANDICAP', 'CLASSIFICATION ENVISAGEE',\n",
              "       'CLASSIFICATION', 'SOUS-CLASSIFICATION', 'CLASSIFICATION VI',\n",
              "       'NIVEAU CLASSIFICATION', 'MODE SAISIE'],\n",
              "      dtype='object')"
            ]
          },
          "metadata": {},
          "execution_count": 101
        }
      ]
    },
    {
      "cell_type": "code",
      "source": [
        "df_licences = df_licences.drop(columns=['DIFFUSION ADRESSE','ADRESSE 1', 'ADRESSE 2',\n",
        "       'ADRESSE 3', 'ADRESSE 4','N TEL',\n",
        "       'EMAIL', 'CODE INSEE', 'NO STR', 'LIGUE', 'CD', 'DATE DE SAISIE',\n",
        "       'PORTEUR D\\'UN HANDICAP', 'TYPE DE HANDICAP', 'CLASSIFICATION ENVISAGEE',\n",
        "       'CLASSIFICATION', 'SOUS-CLASSIFICATION', 'CLASSIFICATION VI',\n",
        "       'NIVEAU CLASSIFICATION', 'MODE SAISIE'])"
      ],
      "metadata": {
        "id": "13qB_Wz2ZnAQ"
      },
      "execution_count": 102,
      "outputs": []
    },
    {
      "cell_type": "code",
      "source": [
        "df_licences = df_licences.rename(columns={'PRENOM':'FirstName', 'NOM':'LastName',\\\n",
        "                                          'DATE NAISSANCE':'Birthday','SEXE':'Gender',\\\n",
        "                            'CATEGORIE LICENCE':'StatusId','VILLE':'AddressCity',\\\n",
        "                            'CODE POSTAL':'AddressZip',\\\n",
        "                            'NO ADHERENT':'MembershipNo','PAYS':'AddressCountry'})"
      ],
      "metadata": {
        "id": "w-AwFASZQRtg"
      },
      "execution_count": 103,
      "outputs": []
    },
    {
      "cell_type": "code",
      "source": [
        "df_licences['Gender'] = df_licences['Gender'].apply(lambda x : 'féminin' if x=='F' else 'masculin')\n",
        "df_licences['Birthday'] = df_licences['Birthday'].apply(lambda x : str(x).replace('/','.'))"
      ],
      "metadata": {
        "id": "VCw_yeufSGxA"
      },
      "execution_count": 104,
      "outputs": []
    },
    {
      "cell_type": "code",
      "source": [
        "df_licences['StatusId'] = df_licences['StatusId'].apply(lambda x : 'Sénior' if x=='A' else 'Scolaire')"
      ],
      "metadata": {
        "id": "DDKSMZtuUOKl"
      },
      "execution_count": 105,
      "outputs": []
    },
    {
      "cell_type": "code",
      "source": [
        "df_licences['Association'] = 'SNBS'\n",
        "df_licences['AddressCountry'] = 'FRANCE'\n",
        "#df_licences['NameAffix'] = ''\n",
        "#df_licences['Title'] = ''"
      ],
      "metadata": {
        "id": "h6ekvz8FVIWx"
      },
      "execution_count": 106,
      "outputs": []
    },
    {
      "cell_type": "code",
      "source": [
        "first_column = df_licences.pop('FirstName')\n",
        "df_licences.insert(0, 'FirstName', first_column)"
      ],
      "metadata": {
        "id": "BcFNZKhwWQ1t"
      },
      "execution_count": 107,
      "outputs": []
    },
    {
      "cell_type": "code",
      "source": [
        "col = df_licences.pop('LastName')\n",
        "df_licences.insert(1, 'LastName', col)\n",
        "#col = df_licences.pop('NameAffix')\n",
        "#df_licences.insert(2, 'NameAffix', col)\n",
        "#col = df_licences.pop('Title')\n",
        "#df_licences.insert(3, 'Title', col)\n",
        "col = df_licences.pop('Gender')\n",
        "df_licences.insert(4, 'Gender', col)\n",
        "col = df_licences.pop('Birthday')\n",
        "df_licences.insert(5, 'Birthday', col)\n",
        "col = df_licences.pop('Association')\n",
        "df_licences.insert(6, 'Association', col)\n",
        "col = df_licences.pop('StatusId')\n",
        "df_licences.insert(7, 'StatusId', col)\n"
      ],
      "metadata": {
        "id": "BC_BS6dRablp"
      },
      "execution_count": 109,
      "outputs": []
    },
    {
      "cell_type": "code",
      "source": [
        "df_licences = df_licences.sort_values(by=['LastName'])"
      ],
      "metadata": {
        "id": "UZfF8UPngAWa"
      },
      "execution_count": 110,
      "outputs": []
    },
    {
      "cell_type": "code",
      "source": [
        "df_licences.head(5)"
      ],
      "metadata": {
        "colab": {
          "base_uri": "https://localhost:8080/",
          "height": 206
        },
        "id": "6rxWke8VXd02",
        "outputId": "6b0dac57-cf7a-4fb7-b3da-5f031897a966"
      },
      "execution_count": 111,
      "outputs": [
        {
          "output_type": "execute_result",
          "data": {
            "text/plain": [
              "    FirstName    LastName MembershipNo    Gender    Birthday Association  \\\n",
              "97    OLIVIER   ALEXANDRE        44215  masculin  28.05.1958        SNBS   \n",
              "134    DAPHNE       ANDRE       539073   féminin  28.06.2009        SNBS   \n",
              "192    ELIOTT       BAKER       568377  masculin  26.10.2009        SNBS   \n",
              "172  EMMANUEL        BAPT       566419  masculin  05.02.1968        SNBS   \n",
              "107     YOHAN  BARA-BUTEZ       467324  masculin  22.06.2003        SNBS   \n",
              "\n",
              "    AddressZip StatusId          AddressCity AddressCountry  \n",
              "97       92270   Sénior        BOIS COLOMBES         FRANCE  \n",
              "134      92400   Sénior           COURBEVOIE         FRANCE  \n",
              "192      92400   Sénior           COURBEVOIE         FRANCE  \n",
              "172      92200   Sénior    NEUILLY SUR SEINE         FRANCE  \n",
              "107      92250   Sénior  LA GARENNE COLOMBES         FRANCE  "
            ],
            "text/html": [
              "\n",
              "  <div id=\"df-b8b8fc20-4ae3-47bb-b3f7-dcdc4e88c392\">\n",
              "    <div class=\"colab-df-container\">\n",
              "      <div>\n",
              "<style scoped>\n",
              "    .dataframe tbody tr th:only-of-type {\n",
              "        vertical-align: middle;\n",
              "    }\n",
              "\n",
              "    .dataframe tbody tr th {\n",
              "        vertical-align: top;\n",
              "    }\n",
              "\n",
              "    .dataframe thead th {\n",
              "        text-align: right;\n",
              "    }\n",
              "</style>\n",
              "<table border=\"1\" class=\"dataframe\">\n",
              "  <thead>\n",
              "    <tr style=\"text-align: right;\">\n",
              "      <th></th>\n",
              "      <th>FirstName</th>\n",
              "      <th>LastName</th>\n",
              "      <th>MembershipNo</th>\n",
              "      <th>Gender</th>\n",
              "      <th>Birthday</th>\n",
              "      <th>Association</th>\n",
              "      <th>AddressZip</th>\n",
              "      <th>StatusId</th>\n",
              "      <th>AddressCity</th>\n",
              "      <th>AddressCountry</th>\n",
              "    </tr>\n",
              "  </thead>\n",
              "  <tbody>\n",
              "    <tr>\n",
              "      <th>97</th>\n",
              "      <td>OLIVIER</td>\n",
              "      <td>ALEXANDRE</td>\n",
              "      <td>44215</td>\n",
              "      <td>masculin</td>\n",
              "      <td>28.05.1958</td>\n",
              "      <td>SNBS</td>\n",
              "      <td>92270</td>\n",
              "      <td>Sénior</td>\n",
              "      <td>BOIS COLOMBES</td>\n",
              "      <td>FRANCE</td>\n",
              "    </tr>\n",
              "    <tr>\n",
              "      <th>134</th>\n",
              "      <td>DAPHNE</td>\n",
              "      <td>ANDRE</td>\n",
              "      <td>539073</td>\n",
              "      <td>féminin</td>\n",
              "      <td>28.06.2009</td>\n",
              "      <td>SNBS</td>\n",
              "      <td>92400</td>\n",
              "      <td>Sénior</td>\n",
              "      <td>COURBEVOIE</td>\n",
              "      <td>FRANCE</td>\n",
              "    </tr>\n",
              "    <tr>\n",
              "      <th>192</th>\n",
              "      <td>ELIOTT</td>\n",
              "      <td>BAKER</td>\n",
              "      <td>568377</td>\n",
              "      <td>masculin</td>\n",
              "      <td>26.10.2009</td>\n",
              "      <td>SNBS</td>\n",
              "      <td>92400</td>\n",
              "      <td>Sénior</td>\n",
              "      <td>COURBEVOIE</td>\n",
              "      <td>FRANCE</td>\n",
              "    </tr>\n",
              "    <tr>\n",
              "      <th>172</th>\n",
              "      <td>EMMANUEL</td>\n",
              "      <td>BAPT</td>\n",
              "      <td>566419</td>\n",
              "      <td>masculin</td>\n",
              "      <td>05.02.1968</td>\n",
              "      <td>SNBS</td>\n",
              "      <td>92200</td>\n",
              "      <td>Sénior</td>\n",
              "      <td>NEUILLY SUR SEINE</td>\n",
              "      <td>FRANCE</td>\n",
              "    </tr>\n",
              "    <tr>\n",
              "      <th>107</th>\n",
              "      <td>YOHAN</td>\n",
              "      <td>BARA-BUTEZ</td>\n",
              "      <td>467324</td>\n",
              "      <td>masculin</td>\n",
              "      <td>22.06.2003</td>\n",
              "      <td>SNBS</td>\n",
              "      <td>92250</td>\n",
              "      <td>Sénior</td>\n",
              "      <td>LA GARENNE COLOMBES</td>\n",
              "      <td>FRANCE</td>\n",
              "    </tr>\n",
              "  </tbody>\n",
              "</table>\n",
              "</div>\n",
              "      <button class=\"colab-df-convert\" onclick=\"convertToInteractive('df-b8b8fc20-4ae3-47bb-b3f7-dcdc4e88c392')\"\n",
              "              title=\"Convert this dataframe to an interactive table.\"\n",
              "              style=\"display:none;\">\n",
              "        \n",
              "  <svg xmlns=\"http://www.w3.org/2000/svg\" height=\"24px\"viewBox=\"0 0 24 24\"\n",
              "       width=\"24px\">\n",
              "    <path d=\"M0 0h24v24H0V0z\" fill=\"none\"/>\n",
              "    <path d=\"M18.56 5.44l.94 2.06.94-2.06 2.06-.94-2.06-.94-.94-2.06-.94 2.06-2.06.94zm-11 1L8.5 8.5l.94-2.06 2.06-.94-2.06-.94L8.5 2.5l-.94 2.06-2.06.94zm10 10l.94 2.06.94-2.06 2.06-.94-2.06-.94-.94-2.06-.94 2.06-2.06.94z\"/><path d=\"M17.41 7.96l-1.37-1.37c-.4-.4-.92-.59-1.43-.59-.52 0-1.04.2-1.43.59L10.3 9.45l-7.72 7.72c-.78.78-.78 2.05 0 2.83L4 21.41c.39.39.9.59 1.41.59.51 0 1.02-.2 1.41-.59l7.78-7.78 2.81-2.81c.8-.78.8-2.07 0-2.86zM5.41 20L4 18.59l7.72-7.72 1.47 1.35L5.41 20z\"/>\n",
              "  </svg>\n",
              "      </button>\n",
              "      \n",
              "  <style>\n",
              "    .colab-df-container {\n",
              "      display:flex;\n",
              "      flex-wrap:wrap;\n",
              "      gap: 12px;\n",
              "    }\n",
              "\n",
              "    .colab-df-convert {\n",
              "      background-color: #E8F0FE;\n",
              "      border: none;\n",
              "      border-radius: 50%;\n",
              "      cursor: pointer;\n",
              "      display: none;\n",
              "      fill: #1967D2;\n",
              "      height: 32px;\n",
              "      padding: 0 0 0 0;\n",
              "      width: 32px;\n",
              "    }\n",
              "\n",
              "    .colab-df-convert:hover {\n",
              "      background-color: #E2EBFA;\n",
              "      box-shadow: 0px 1px 2px rgba(60, 64, 67, 0.3), 0px 1px 3px 1px rgba(60, 64, 67, 0.15);\n",
              "      fill: #174EA6;\n",
              "    }\n",
              "\n",
              "    [theme=dark] .colab-df-convert {\n",
              "      background-color: #3B4455;\n",
              "      fill: #D2E3FC;\n",
              "    }\n",
              "\n",
              "    [theme=dark] .colab-df-convert:hover {\n",
              "      background-color: #434B5C;\n",
              "      box-shadow: 0px 1px 3px 1px rgba(0, 0, 0, 0.15);\n",
              "      filter: drop-shadow(0px 1px 2px rgba(0, 0, 0, 0.3));\n",
              "      fill: #FFFFFF;\n",
              "    }\n",
              "  </style>\n",
              "\n",
              "      <script>\n",
              "        const buttonEl =\n",
              "          document.querySelector('#df-b8b8fc20-4ae3-47bb-b3f7-dcdc4e88c392 button.colab-df-convert');\n",
              "        buttonEl.style.display =\n",
              "          google.colab.kernel.accessAllowed ? 'block' : 'none';\n",
              "\n",
              "        async function convertToInteractive(key) {\n",
              "          const element = document.querySelector('#df-b8b8fc20-4ae3-47bb-b3f7-dcdc4e88c392');\n",
              "          const dataTable =\n",
              "            await google.colab.kernel.invokeFunction('convertToInteractive',\n",
              "                                                     [key], {});\n",
              "          if (!dataTable) return;\n",
              "\n",
              "          const docLinkHtml = 'Like what you see? Visit the ' +\n",
              "            '<a target=\"_blank\" href=https://colab.research.google.com/notebooks/data_table.ipynb>data table notebook</a>'\n",
              "            + ' to learn more about interactive tables.';\n",
              "          element.innerHTML = '';\n",
              "          dataTable['output_type'] = 'display_data';\n",
              "          await google.colab.output.renderOutput(dataTable, element);\n",
              "          const docLink = document.createElement('div');\n",
              "          docLink.innerHTML = docLinkHtml;\n",
              "          element.appendChild(docLink);\n",
              "        }\n",
              "      </script>\n",
              "    </div>\n",
              "  </div>\n",
              "  "
            ]
          },
          "metadata": {},
          "execution_count": 111
        }
      ]
    },
    {
      "cell_type": "code",
      "source": [
        "nb_rows = df_licences['MembershipNo'].count()\n",
        "nb_cols = len(df_licences.columns)"
      ],
      "metadata": {
        "id": "d5PhQWTUgmoG"
      },
      "execution_count": 112,
      "outputs": []
    },
    {
      "cell_type": "code",
      "source": [
        "try :\n",
        "  licences_reprocessed = worksheet_licence.spreadsheet.worksheet('EFA')\n",
        "  licences_reprocessed.clear()\n",
        "except:\n",
        "  licences_reprocessed = worksheet_licence.spreadsheet.add_worksheet(title='EFA', rows=nb_rows, cols=nb_cols)\n",
        "\n",
        "from gspread_dataframe import set_with_dataframe\n",
        "set_with_dataframe(licences_reprocessed, df_licences)"
      ],
      "metadata": {
        "id": "4YldZQjBWJ80"
      },
      "execution_count": 114,
      "outputs": []
    }
  ]
}